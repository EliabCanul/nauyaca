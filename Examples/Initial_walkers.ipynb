{
 "cells": [
  {
   "cell_type": "markdown",
   "metadata": {},
   "source": [
    "# Initial walkers"
   ]
  },
  {
   "cell_type": "markdown",
   "metadata": {},
   "source": [
    "In simple_fit we performed many runs of the optimizers and then we uses that information to initialize walkers in the MCMC. Here we illustrate the different strategies to initialize walkers and how to decide the best option."
   ]
  },
  {
   "cell_type": "code",
   "execution_count": 1,
   "metadata": {},
   "outputs": [],
   "source": [
    "import nauyaca as nau\n",
    "\n",
    "import matplotlib.pyplot as plt\n",
    "from mpl_toolkits.axes_grid1 import make_axes_locatable\n",
    "import numpy as np"
   ]
  },
  {
   "cell_type": "markdown",
   "metadata": {},
   "source": [
    "Instead of defining again the Planetary System we used in simple_fit example, let's load MySystem.json file containing all the information from that system."
   ]
  },
  {
   "cell_type": "code",
   "execution_count": 4,
   "metadata": {},
   "outputs": [
    {
     "name": "stdout",
     "output_type": "stream",
     "text": [
      "--> Parameter -mass- of planet -Planet-b- set to lower physical limit: 0.0123032\n",
      "--> Parameter -ecc- of planet -Planet-b- set to lower physical limit: 1e-06\n",
      "--> Parameter -mass- of planet -Planet-c- set to lower physical limit: 0.0123032\n",
      "--> Parameter -ecc- of planet -Planet-c- set to lower physical limit: 1e-06\n",
      "--> Parameter -mass- of planet -Planet-d- set to lower physical limit: 0.0123032\n",
      "--> Parameter -ecc- of planet -Planet-d- set to lower physical limit: 1e-06\n",
      "\n",
      " =========== Planetary System Summary =========== \n",
      "--> Parameter -mass- of planet -Planet-b- set to lower physical limit: 0.0123032\n",
      "--> Parameter -ecc- of planet -Planet-b- set to lower physical limit: 1e-06\n",
      "--> Parameter -mass- of planet -Planet-c- set to lower physical limit: 0.0123032\n",
      "--> Parameter -ecc- of planet -Planet-c- set to lower physical limit: 1e-06\n",
      "--> Parameter -mass- of planet -Planet-d- set to lower physical limit: 0.0123032\n",
      "--> Parameter -ecc- of planet -Planet-d- set to lower physical limit: 1e-06\n",
      "\n",
      "System: MySystem\n",
      "Mstar: 0.522 Msun |  Rstar: 0.4422 Rsun\n",
      "Number of planets: 3\n",
      "Planet information:\n",
      "------\n",
      "Planet1: Planet-b\n",
      "  Boundaries:\n",
      "    mass: (0.0123032, 10)  [M_earth]\n",
      "    period: (10.47, 10.48)  [d]\n",
      "    ecc: (1e-06, 0.1)   \n",
      "    inclination: (90, 90)  [deg]\n",
      "    argument: (0.0, 360)  [deg]\n",
      "    mean_anomaly: (0.0, 360)  [deg]\n",
      "    ascending_node: (60, 120)  [deg]\n",
      "  TTVs: True\n",
      "------\n",
      "Planet2: Planet-c\n",
      "  Boundaries:\n",
      "    mass: (0.0123032, 10)  [M_earth]\n",
      "    period: (14.1, 14.11)  [d]\n",
      "    ecc: (1e-06, 0.1)   \n",
      "    inclination: (85, 95)  [deg]\n",
      "    argument: (0.0, 360)  [deg]\n",
      "    mean_anomaly: (0.0, 360)  [deg]\n",
      "    ascending_node: (60, 120)  [deg]\n",
      "  TTVs: True\n",
      "------\n",
      "Planet3: Planet-d\n",
      "  Boundaries:\n",
      "    mass: (0.0123032, 10)  [M_earth]\n",
      "    period: (23.57, 23.58)  [d]\n",
      "    ecc: (1e-06, 0.1)   \n",
      "    inclination: (90.3, 90.3)  [deg]\n",
      "    argument: (0.0, 360)  [deg]\n",
      "    mean_anomaly: (0.0, 360)  [deg]\n",
      "    ascending_node: (88.5, 88.5)  [deg]\n",
      "  TTVs: True\n",
      "\n",
      "Simulation attributes: \n",
      "Reference epoch of the solutions (t0): 0 [JD]\n",
      "Total time of TTVs data (ftime): 500 [days]\n",
      "Timestep of the simulations (dt): 0.35 [days]\n"
     ]
    }
   ],
   "source": [
    "PS = nau.PlanetarySystem.load_json('MySystem.json')\n",
    "\n",
    "# See a summary of the Planetary System\n",
    "print(PS)"
   ]
  },
  {
   "cell_type": "markdown",
   "metadata": {},
   "source": [
    "Now, let's call the results from the optimizers. You will realize that there are two files ending with '.opt' and suffixes \"_cube\" and \"_phys\" in the simple_fit directory. These correspond to the results in the normalized boundaries and in the physical values, respectively.\n"
   ]
  },
  {
   "cell_type": "markdown",
   "metadata": {},
   "source": [
    "### Visualizing optimizer results\n",
    "\n",
    "Let's inspect pairwise results using the physical results ('_phys')"
   ]
  },
  {
   "cell_type": "code",
   "execution_count": 5,
   "metadata": {},
   "outputs": [],
   "source": [
    "physical = np.genfromtxt('MySystem_phys.opt')"
   ]
  },
  {
   "cell_type": "markdown",
   "metadata": {},
   "source": [
    "Select a pair of parameters to visualize. Remember that the valid parameters can be consulted by:"
   ]
  },
  {
   "cell_type": "code",
   "execution_count": 6,
   "metadata": {},
   "outputs": [
    {
     "name": "stdout",
     "output_type": "stream",
     "text": [
      "Valid parameters are: \n",
      "['mass1', 'period1', 'ecc1', 'argument1', 'mean_anomaly1', 'ascending_node1', 'mass2', 'period2', 'ecc2', 'inclination2', 'argument2', 'mean_anomaly2', 'ascending_node2', 'mass3', 'period3', 'ecc3', 'argument3', 'mean_anomaly3']\n"
     ]
    }
   ],
   "source": [
    "print(\"Valid parameters are: \")\n",
    "print(PS.params_names.split())"
   ]
  },
  {
   "cell_type": "markdown",
   "metadata": {},
   "source": [
    "For example, for the masses space:"
   ]
  },
  {
   "cell_type": "code",
   "execution_count": 7,
   "metadata": {},
   "outputs": [],
   "source": [
    "x, y = 'mass1', 'mass2'"
   ]
  },
  {
   "cell_type": "markdown",
   "metadata": {},
   "source": [
    "A dictionary with param names"
   ]
  },
  {
   "cell_type": "code",
   "execution_count": 8,
   "metadata": {},
   "outputs": [],
   "source": [
    "dparam = dict(list(zip(PS.params_names.split(), range(PS.ndim))))"
   ]
  },
  {
   "cell_type": "markdown",
   "metadata": {},
   "source": [
    "Separate data from the file: chi2 and solutions"
   ]
  },
  {
   "cell_type": "code",
   "execution_count": 9,
   "metadata": {},
   "outputs": [
    {
     "data": {
      "text/plain": [
       "Text(0, 0.5, 'mass2')"
      ]
     },
     "execution_count": 9,
     "metadata": {},
     "output_type": "execute_result"
    },
    {
     "data": {
      "image/png": "[encoded data removed]",
      "text/plain": [
       "<Figure size 864x576 with 2 Axes>"
      ]
     },
     "metadata": {
      "needs_background": "light"
     },
     "output_type": "display_data"
    }
   ],
   "source": [
    "chi2 = physical.T[0]\n",
    "phys = physical[:,1:].T\n",
    "\n",
    "cx = phys[dparam[x]]\n",
    "cy = phys[dparam[y]]\n",
    "\n",
    "#Plot all the solutions from the optimizers\n",
    "plt.figure(figsize=(12,8))\n",
    "plt.scatter(cx, cy, \n",
    "            c=np.log10(chi2), \n",
    "            cmap='inferno_r', marker='s',\n",
    "            label='Results from optimizers')\n",
    "cb = plt.colorbar()\n",
    "cb.set_label(r'$\\log_{10} \\chi^2$')\n",
    "plt.xlabel(x)\n",
    "plt.ylabel(y)"
   ]
  },
  {
   "cell_type": "markdown",
   "metadata": {},
   "source": [
    "These are ALL the solutions found by optimizers. Can you identify the region where the best solutions are?"
   ]
  },
  {
   "cell_type": "markdown",
   "metadata": {},
   "source": [
    "### Generate initial walkers\n",
    "\n",
    "Given the normalized solutions, select an strategy to initialize walkers. Here you need to provide the NORMALIZED (\"_cube\") values. The results are normalized between the stablished boundaries for each parameter. Nauyaca will interpret these normalized solutions in the physical space to make the simulations.\n",
    "\n",
    "Let's see the three strategies included in nauyaca. For this example let's create a temperature ladder of 9 temperatures with 100 walkers each. We will take the best 30% of the optimizer solutions."
   ]
  },
  {
   "cell_type": "code",
   "execution_count": 29,
   "metadata": {},
   "outputs": [],
   "source": [
    "temperatures = 9\n",
    "walkers = 100\n",
    "best = 0.1   # Change value between 0 and 1"
   ]
  },
  {
   "cell_type": "markdown",
   "metadata": {},
   "source": [
    "#### Gaussian"
   ]
  },
  {
   "cell_type": "code",
   "execution_count": 30,
   "metadata": {},
   "outputs": [
    {
     "name": "stdout",
     "output_type": "stream",
     "text": [
      "\n",
      "--> Selected distribution: Gaussian\n",
      "    12 of 120 solutions taken\n"
     ]
    }
   ],
   "source": [
    "wk_gauss = nau.utils.init_walkers(PS, \n",
    "                            opt_data= np.genfromtxt('MySystem_cube.opt'),\n",
    "                            ntemps=temperatures,\n",
    "                            nwalkers=walkers, \n",
    "                            distribution='Gaussian',\n",
    "                            fbest=best)               \n",
    "\n",
    "\n",
    "# Convert initial walkers to physical  values\n",
    "wk_gauss_phys = [nau.utils.cube_to_physical(PS, i) for i in wk_gauss.reshape(-1, wk_gauss.shape[-1]) ]\n",
    "\n",
    "# Remove the constants added in the previous line\n",
    "wk_gauss_phys = np.array([nau.utils._remove_constants(PS, i) for i in wk_gauss_phys])\n",
    "wk_gauss_phys = wk_gauss_phys.reshape((temperatures,walkers,PS.ndim) )"
   ]
  },
  {
   "cell_type": "markdown",
   "metadata": {},
   "source": [
    "#### Picked "
   ]
  },
  {
   "cell_type": "code",
   "execution_count": 31,
   "metadata": {},
   "outputs": [
    {
     "name": "stdout",
     "output_type": "stream",
     "text": [
      "\n",
      "--> Selected distribution: Picked\n",
      "    12 of 120 solutions taken\n"
     ]
    }
   ],
   "source": [
    "wk_pick = nau.utils.init_walkers(PS, \n",
    "                            opt_data= np.genfromtxt('MySystem_cube.opt'),\n",
    "                            ntemps=temperatures,\n",
    "                            nwalkers=walkers, \n",
    "                            distribution='Picked',\n",
    "                            fbest=best)               \n",
    "\n",
    "\n",
    "# Convert initial walkers to physical  values\n",
    "wk_pick_phys = [nau.utils.cube_to_physical(PS, i) for i in wk_pick.reshape(-1, wk_pick.shape[-1]) ]\n",
    "\n",
    "# Remove the constants added in the previous line\n",
    "wk_pick_phys = np.array([nau.utils._remove_constants(PS, i) for i in wk_pick_phys])\n",
    "wk_pick_phys = wk_pick_phys.reshape((temperatures,walkers,PS.ndim) )"
   ]
  },
  {
   "cell_type": "markdown",
   "metadata": {},
   "source": [
    "#### Ladder"
   ]
  },
  {
   "cell_type": "code",
   "execution_count": 32,
   "metadata": {},
   "outputs": [
    {
     "name": "stdout",
     "output_type": "stream",
     "text": [
      "\n",
      "--> Selected distribution: Ladder\n",
      "    12 of 120 solutions taken\n"
     ]
    }
   ],
   "source": [
    "wk_ladd = nau.utils.init_walkers(PS, \n",
    "                            opt_data= np.genfromtxt('MySystem_cube.opt'),\n",
    "                            ntemps=temperatures,\n",
    "                            nwalkers=walkers, \n",
    "                            distribution='Ladder',\n",
    "                            fbest=best)               \n",
    "\n",
    "\n",
    "# Convert initial walkers to physical  values\n",
    "wk_ladd_phys = [nau.utils.cube_to_physical(PS, i) for i in wk_ladd.reshape(-1, wk_ladd.shape[-1]) ]\n",
    "\n",
    "# Remove the constants added in the previous line\n",
    "wk_ladd_phys = np.array([nau.utils._remove_constants(PS, i) for i in wk_ladd_phys])\n",
    "wk_ladd_phys = wk_ladd_phys.reshape((temperatures,walkers,PS.ndim) )"
   ]
  },
  {
   "cell_type": "markdown",
   "metadata": {},
   "source": [
    "From the cells above, note that nau.utils.init_walkers() generates initial walkers in the normalized form! It's because nauyaca works internally in this way to homogenize the scales at different dimensions. Thus, we need to convert to physical values using the function nau.utils.cube_to_physical(). From this function we obtain physical solutions including the constant parameters. For simplicity, we remove these constants by means of the function nau.utils._remove_constants()."
   ]
  },
  {
   "cell_type": "markdown",
   "metadata": {},
   "source": [
    "### Visualizing the initial walkers\n",
    "\n",
    "Let's visualize these strategies overplotted on the discrete optimizer solutions. "
   ]
  },
  {
   "cell_type": "code",
   "execution_count": 33,
   "metadata": {},
   "outputs": [],
   "source": [
    "# Change these parameters to generate new plots\n",
    "x, y = 'mass1', 'mass2'"
   ]
  },
  {
   "cell_type": "code",
   "execution_count": 34,
   "metadata": {
    "scrolled": false
   },
   "outputs": [
    {
     "data": {
      "image/png": "[encoded data removed]",
      "text/plain": [
       "<Figure size 1728x432 with 5 Axes>"
      ]
     },
     "metadata": {
      "needs_background": "light"
     },
     "output_type": "display_data"
    }
   ],
   "source": [
    "X = np.array(sorted(physical, key=lambda x: x[0]))\n",
    "\n",
    "chi2 = X.T[0]\n",
    "phys = X[:,1:].T\n",
    "\n",
    "cx = phys[dparam[x]]\n",
    "cy = phys[dparam[y]]\n",
    "\n",
    "upto = int(len(chi2)*best)\n",
    "\n",
    "fig, axes = plt.subplots(nrows=1, ncols=4, figsize=(24,6), sharey='row')\n",
    "\n",
    "#Plot all the solutions from the optimizers\n",
    "im = axes[0].scatter(cx[:upto], cy[:upto], \n",
    "            c=np.log10(chi2[:upto]), marker='s',\n",
    "            cmap='inferno', alpha=0.6,\n",
    "            label='Results from optimizers')\n",
    "\n",
    "divider = make_axes_locatable(axes[0])\n",
    "cax = divider.append_axes('right', size='5%', pad=0.05)\n",
    "cb = fig.colorbar(im, cax=cax, orientation='vertical')\n",
    "cb.set_label(r'$\\log_{10} \\chi^2$',fontsize=12)\n",
    "\n",
    "axes[0].set_title('Optimizer solutions', fontsize=15)\n",
    "axes[0].set_xlabel(x)\n",
    "axes[0].set_ylabel(y)\n",
    "\n",
    "for i, strategy in enumerate([(wk_gauss_phys, 'Gaussian'), \n",
    "                            (wk_pick_phys, 'Picked'), \n",
    "                            (wk_ladd_phys, 'Ladder')]):\n",
    "    \n",
    "    wk, strat = strategy\n",
    "    \n",
    "    each = 3\n",
    "    for t, wk_t in enumerate(wk[::each, :, :]):\n",
    "        # Plot the new generated initial walkers\n",
    "        axes[i+1].scatter(wk_t[:,dparam[x]], \n",
    "                        wk_t[:,dparam[y]], \n",
    "                        s=10,  alpha=0.7,\n",
    "                        label=f'Initial walkers, T={t*each}')\n",
    "    \n",
    "    axes[i+1].set_title(strat, fontsize=15)\n",
    "    axes[i+1].legend(loc='upper right')\n",
    "    axes[i+1].set_xlabel(x)\n",
    "    axes[i+1].set_ylabel(y)\n",
    "\n",
    "plt.savefig(f\"optimizers_{x}_{y}.pdf\")"
   ]
  },
  {
   "cell_type": "markdown",
   "metadata": {},
   "source": [
    "In the figure above, the initial walkers are drawn around the best 30% (fbest=0.3) of the full optimizer results (shown in the first panel). The walkers belonging to each temperature are colored differently. For clarity, only walkers belonging to temperatures 0 (the main), 3 and 6 are shown.\n",
    "\n",
    "But, which are the differences in these strategies? \n",
    "\n",
    "    For the Gaussian strategy, the initial distribution is drawn as usual. It is calculated a mean and standard deviation from the selected optimizer results, and walkers are drawn below a gaussian. In this case, the space of the nascent walkers is broader.\n",
    "\n",
    "    In the Picked strategy, the walkers are drawn indistinctly of the temperatures they belong. It means that you can find walkers of any temperature around the meaningful modes in the parameter space. \n",
    "\n",
    "    In the last strategy, Ladder, walkers belonging to the coldest temperature (the 0) are drawn around the solutions with the lowest $\\chi^2$ (yellow squares). Complementarily, walkers at higher temperatures are drawn from solutions with increasingly $\\chi^2$ values.  By doing this, more walkers are destined to sample the zone with the best of all the solutions, although other zones are explored but to a lesser extent.\n",
    "\n",
    "Which is more adequate to solve my TTVs problem?\n",
    "\n",
    "It would depend on the available number of optimizer results as well as the confinement of the solutions to a global consensus. In other words, if you're able to identify a global region where the best solutions accumulate, then a gaussian initialization would be adequate. But, if there are many modes along all the dimensions, then the Picked strategy would be more suitable. In cases where a global minimum is recognizable but many other modes exist, the Ladder strategy would be more reasonable.\n",
    "\n",
    "If nothing is known about the parameter space, or if you are running nauyaca in a non-interactive way (for example if you have not time to visualize optimizer results) I would strongly recommend using the Ladder strategy.\n"
   ]
  },
  {
   "cell_type": "markdown",
   "metadata": {},
   "source": [
    "### What's next?"
   ]
  },
  {
   "cell_type": "markdown",
   "metadata": {},
   "source": [
    "After generating the initial walkers we can initialize the MCMC by setting the kwarg -p0- just as in the customized_fit example. The main difference with that example is that here our initial walker population is normalized and not in physical values as before (see customized_fit). Anyway, nauyaca will identify if we are setting -p0- with normalized or physical values and it will go ahead.\n",
    "\n",
    "The following cells show two ways of running the mcmc with the information from optimizers. These are equivalent."
   ]
  },
  {
   "cell_type": "raw",
   "metadata": {},
   "source": [
    "\n",
    "resmc = nau.MCMC(PS, p0=wk_ladd, tmax=100, itmax=5000, intra_steps=25, cores=7)\n",
    "\n",
    "resmc.run()\n"
   ]
  },
  {
   "cell_type": "markdown",
   "metadata": {},
   "source": [
    "An alternate way of running the MCMC without creating initial walkers explicitly (by means of the nau.utils.init_walkers() function) is by providing  the necessary attributes to the MCMC class."
   ]
  },
  {
   "cell_type": "raw",
   "metadata": {},
   "source": [
    "resmc = nau.MCMC(PS,\n",
    "                tmax=100,\n",
    "                itmax=5000,         \n",
    "                intra_steps=25,   \n",
    "                cores=7,\n",
    "                # Parameters for initialization:\n",
    "                opt_data=np.genfromtxt('System-X_cube.opt'),\n",
    "                distribution='ladder',\n",
    "                nwalkers=50,\n",
    "                ntemps=10,\n",
    "                fbest=0.2\n",
    "                )\n",
    "\n",
    "resmc.run()\n"
   ]
  },
  {
   "cell_type": "markdown",
   "metadata": {},
   "source": [
    "If you're curious, try running these cells."
   ]
  },
  {
   "cell_type": "markdown",
   "metadata": {},
   "source": [
    "_________________"
   ]
  }
 ],
 "metadata": {
  "kernelspec": {
   "display_name": "Python 3",
   "language": "python",
   "name": "python3"
  },
  "language_info": {
   "codemirror_mode": {
    "name": "ipython",
    "version": 3
   },
   "file_extension": ".py",
   "mimetype": "text/x-python",
   "name": "python",
   "nbconvert_exporter": "python",
   "pygments_lexer": "ipython3",
   "version": "3.7.3"
  }
 },
 "nbformat": 4,
 "nbformat_minor": 5
}
