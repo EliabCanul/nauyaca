{
 "cells": [
  {
   "cell_type": "markdown",
   "metadata": {},
   "source": [
    "# 2.- Setup"
   ]
  },
  {
   "cell_type": "markdown",
   "metadata": {},
   "source": [
    "In this tutorial we'll learn how to prepare our data before performing the simulations. The main idea is creating Planetary System objects, based on individual Planets. Along this tutorial (and the forthcoming) we will use a synthetic planetary systems with two planets."
   ]
  },
  {
   "cell_type": "markdown",
   "metadata": {},
   "source": [
    "## Example: Solving for a two-planet system"
   ]
  },
  {
   "cell_type": "markdown",
   "metadata": {},
   "source": [
    "Let's import the nauyaca, given the alias: nau"
   ]
  },
  {
   "cell_type": "code",
   "execution_count": 24,
   "metadata": {},
   "outputs": [],
   "source": [
    "import nauyaca as nau"
   ]
  },
  {
   "cell_type": "markdown",
   "metadata": {},
   "source": [
    "We inspect the available modules inside nauyaca:"
   ]
  },
  {
   "cell_type": "code",
   "execution_count": 25,
   "metadata": {},
   "outputs": [
    {
     "data": {
      "text/plain": [
       "['SetPlanet', 'PlanetarySystem', 'Optimizers', 'MCMC', 'Plots_c']"
      ]
     },
     "execution_count": 25,
     "metadata": {},
     "output_type": "execute_result"
    }
   ],
   "source": [
    "nau.__all__"
   ]
  },
  {
   "cell_type": "markdown",
   "metadata": {},
   "source": [
    "## 2.1 The Planet object"
   ]
  },
  {
   "cell_type": "markdown",
   "metadata": {},
   "source": [
    "First, let's define the Planet objects and their attributes. These planets will be part of the planetary system that we want to analyze. We create a Planet just by giving a planet name. Let's assume that the first planet in our system is named simply \"Planet-b\". Then, we create it as follows:"
   ]
  },
  {
   "cell_type": "code",
   "execution_count": 26,
   "metadata": {},
   "outputs": [],
   "source": [
    "Planetb = nau.SetPlanet(\"Planet-b\")"
   ]
  },
  {
   "cell_type": "markdown",
   "metadata": {},
   "source": [
    "Nice! it was so easy. What can we do now? Well, since we want to fit the mid-transit times of our planet, let's give it the transit data."
   ]
  },
  {
   "cell_type": "markdown",
   "metadata": {},
   "source": [
    "### 2.1.1 Transit times data"
   ]
  },
  {
   "cell_type": "markdown",
   "metadata": {},
   "source": [
    "There are two ways of giving the mid-transit time observations to the Planet object. \n",
    "\n",
    "**1.-** The first one is by explicity giving a dictionary of the ephemerids to the attribute -ttvs_data-, in the following format:"
   ]
  },
  {
   "cell_type": "code",
   "execution_count": 27,
   "metadata": {},
   "outputs": [],
   "source": [
    "Planetb.ttvs_data = {0: [1.941979, 0.000144, 0.000144],\n",
    "                     1: [7.296786, 0.000283, 0.000283],\n",
    "                     2: [12.654408,0.000314, 0.000314]\n",
    "                     #... more data\n",
    "                    }"
   ]
  },
  {
   "cell_type": "markdown",
   "metadata": {},
   "source": [
    "where the keys are the transit epochs (integer numbers) and the values are lists containing, for each epoch, the central transit time and the lower and upper errors, in days."
   ]
  },
  {
   "cell_type": "markdown",
   "metadata": {},
   "source": [
    "**2.-** The second one, is by using the .load_ttvs method. When using this way, the ephemerid data should be in an ascci file containing the transit epochs, the central transit times and the lower and upper errors, as before.\n",
    "\n",
    "For example, a file containing these data looks like:"
   ]
  },
  {
   "cell_type": "code",
   "execution_count": 28,
   "metadata": {},
   "outputs": [
    {
     "name": "stdout",
     "output_type": "stream",
     "text": [
      "#Transit  t_c           lower_err      upper_err\r\n",
      "#Number  (days)          (days)          (days) \r\n",
      "0\t1.941979\t0.000144\t0.000144\r\n",
      "1\t7.296786\t0.000283\t0.000283\r\n",
      "2\t12.654408\t0.000314\t0.000314\r\n",
      "3\t18.010997\t0.000356\t0.000356\r\n",
      "4\t23.366161\t0.000336\t0.000336\r\n",
      "5\t28.721616\t0.000361\t0.000361\r\n"
     ]
    }
   ],
   "source": [
    "! head -8  ./inputs/planetb_ttvs.dat"
   ]
  },
  {
   "cell_type": "markdown",
   "metadata": {},
   "source": [
    "**Note:** the transit epochs must always start from 0 at least for one planet. It means that epochs must be labeled from 0 at a reference epoch."
   ]
  },
  {
   "cell_type": "markdown",
   "metadata": {},
   "source": [
    "Thus, for ease we will use the second way. Hence, we load the transit data as follows:"
   ]
  },
  {
   "cell_type": "code",
   "execution_count": 29,
   "metadata": {},
   "outputs": [],
   "source": [
    "Planetb.load_ttvs(\"./inputs/planetb_ttvs.dat\")  # Note that the data are in the inputs subdirectory"
   ]
  },
  {
   "cell_type": "markdown",
   "metadata": {},
   "source": [
    "Fine! at this point we have a Planet with transit data. Now, we will see how to say to Nauyaca where to search in the parameter space of our planet..."
   ]
  },
  {
   "cell_type": "markdown",
   "metadata": {},
   "source": [
    "### 2.1.2 Setting the parameter space"
   ]
  },
  {
   "cell_type": "markdown",
   "metadata": {},
   "source": [
    "For a planet, we have 7 parameters that Nauyaca will explore (and the used units):\n",
    "\n",
    "* Mass    -----  [M_earth]\n",
    "* Period  ----- [days]\n",
    "* Eccentricity\n",
    "* Inclination  ----- [deg]\n",
    "* Argument of periastron  ----- [deg]\n",
    "* Mean anomaly  ----- [deg]\n",
    "* Ascending node  ----- [deg]\n",
    "\n",
    "\n",
    "Now, in order to avoid exploring in a non-physical regions of the parameter space or with redundant information, it is necessary to establish especific boundaries for each planetary parameter. These boundaries will be used in the subsequent analysis. \n",
    "\n",
    "However, if nothing is known about one or more parameters, a $default$ set of boundaries will be established. Let's see which are these default boundaries by calling the physical limits established inside the constants of Nauyaca:"
   ]
  },
  {
   "cell_type": "code",
   "execution_count": 30,
   "metadata": {},
   "outputs": [
    {
     "data": {
      "text/plain": [
       "{'mass': (0.0123032, 25426.27252757),\n",
       " 'period': (0.1, 1000.0),\n",
       " 'ecc': (1e-06, 0.9),\n",
       " 'inclination': (0.0, 180.0),\n",
       " 'argument': (0.0, 360),\n",
       " 'mean_anomaly': (0.0, 360),\n",
       " 'ascending_node': (0.0, 360.0)}"
      ]
     },
     "execution_count": 30,
     "metadata": {},
     "output_type": "execute_result"
    }
   ],
   "source": [
    "nau.constants.physical_bounds"
   ]
  },
  {
   "cell_type": "markdown",
   "metadata": {},
   "source": [
    "By default the mass is ranged from a lunar mass up to 80 Jupiter masses (units above are in Earth masses). Angles are restricted bewteen 0° and 360° except for the inclination which is defined between 0° and 180°. These default boundaries arise if anything is known about the planet. In practice we can restrict the parameter space from previous knowledge coming, for example, from light curve analysis. \n",
    "\n",
    "To restrict any planetary parameter, we should give a range [minimum, maximum]. Those parameters that we do not restrict manually will have the default limits mentioned above.\n",
    "\n",
    "For our example, let's suppose that we know a rough estimation of the period and the inclination. It is true because we can approximate the period from consecutive transit times, and also we know that the planet transits, so the inclination should be around ~90°! Let's also suppose that we want to explore the mass range from a Earth planet to a Neptune. Finally, let's the eccentricity to vary up to 0.2, because greater values would result in unstable orbits.\n",
    "\n",
    "Thus, to make these restrictions, we write:"
   ]
  },
  {
   "cell_type": "code",
   "execution_count": 31,
   "metadata": {},
   "outputs": [
    {
     "name": "stdout",
     "output_type": "stream",
     "text": [
      "\n",
      " =========== Planet Summary =========== \n",
      "--> Parameter -ecc- of planet -Planet-b- set to lower physical limit: 1e-06\n",
      "Planet : Planet-b\n",
      "  Boundaries:\n",
      "    mass: (1, 20.0)  [M_earth]\n",
      "    period: (5.35, 5.36)  [d]\n",
      "    ecc: (1e-06, 0.2)   \n",
      "    inclination: (85, 95)  [deg]\n",
      "    argument: (0.0, 360)  [deg]\n",
      "    mean_anomaly: (0.0, 360)  [deg]\n",
      "    ascending_node: (0.0, 360.0)  [deg]\n",
      "  TTVs: True\n"
     ]
    }
   ],
   "source": [
    "Planetb.mass = [1, 20.]             # Planet mass [Mearth]\n",
    "Planetb.period = [5.35, 5.36]         # Orbital period [days]\n",
    "Planetb.ecc = [0., 0.2]                # eccentricity. Look at the lower limit!\n",
    "Planetb.inclination = [85, 95]         # Orbital inclination [deg]\n",
    "\n",
    "print(Planetb)  # print a summary of our Planet object"
   ]
  },
  {
   "cell_type": "markdown",
   "metadata": {},
   "source": [
    "From here, we can notice of two things:\n",
    "\n",
    "**1.-** There is a dialog from Nauyaca (starting with -->) that say tu us that the lower boundary of eccentricity have been set to 1e-06. Why is that? It is because we manually set the eccentricity lower limit to 0, but this value is lower than the default lower limit in eccentricity mentioned previously: 1e-0.6. Thus, Nauyaca prevents of giving boundaries manually outside the default physical boundaries, which by design, have been thought to consider almost any kind of planets and orbits. \n",
    "\n",
    "A similar thing would happens, for example, if we set a negative lower limit in masses (which have not sense). In this case, the negative limit will be changed to 0.0123032 (M_earth).\n",
    "\n",
    "\n",
    "**2.-** We did not establish boundaries for argument of periastron, mean anomaly or ascending node, and thus the default boundaries arise.\n"
   ]
  },
  {
   "cell_type": "markdown",
   "metadata": {},
   "source": [
    "\n",
    "**Fixed parameters:** To keep a planetary parameter constant just set the lower and upper boundaries equal.\n",
    "\n",
    "For example: By construction in the coordinate system, the ascending node of $at$ $least$ $one$ $planet$ in the system must be fixed.\n",
    "Let's keep fixed this angle to the correct ascending node of \"Planet-b\", by setting equal values in the lower and upper boundaries:"
   ]
  },
  {
   "cell_type": "code",
   "execution_count": 32,
   "metadata": {},
   "outputs": [],
   "source": [
    "Planetb.ascending_node = [88.36, 88.36]  # Ascending node [deg]"
   ]
  },
  {
   "cell_type": "markdown",
   "metadata": {},
   "source": [
    "By doing this, we say to Nauyaca that ascending node of \"Planet-b\" will not be part of the parameter space explored by the Optimizers or MCMC."
   ]
  },
  {
   "cell_type": "markdown",
   "metadata": {},
   "source": [
    "Great! that's all we need to define the properties of a planet. Let's do the same for the second planet.\n",
    "Let's create another planet object and do the same as before:"
   ]
  },
  {
   "cell_type": "code",
   "execution_count": 42,
   "metadata": {},
   "outputs": [
    {
     "name": "stdout",
     "output_type": "stream",
     "text": [
      "\n",
      " =========== Planet Summary =========== \n",
      "--> Parameter -ecc- of planet -Planet-c- set to lower physical limit: 1e-06\n",
      "Planet : Planet-c\n",
      "  Boundaries:\n",
      "    mass: (1, 100)  [M_earth]\n",
      "    period: (11.83, 11.84)  [d]\n",
      "    ecc: (1e-06, 0.2)   \n",
      "    inclination: (85, 95)  [deg]\n",
      "    argument: (0.0, 360)  [deg]\n",
      "    mean_anomaly: (0.0, 360)  [deg]\n",
      "    ascending_node: (0.0, 180.0)  [deg]\n",
      "  TTVs: True\n"
     ]
    }
   ],
   "source": [
    "# Planet-c\n",
    "Planetc = nau.SetPlanet(\"Planet-c\")\n",
    "\n",
    "# Load transit times\n",
    "Planetc.load_ttvs(\"./inputs/planetc_ttvs.dat\")\n",
    "\n",
    "# Set boundaries\n",
    "Planetc.mass = [1, 100]        # Let's exploree up to 50 Earth masses\n",
    "Planetc.period = [11.83, 11.84]  # Assuming the period is aroung 11.83 days \n",
    "Planetc.ecc = [0, .2]\n",
    "Planetc.inclination = [85, 95]\n",
    "# Let's considerate just prograde solutions, i.e, +/-90° around ascending node of first planet\n",
    "Planetc.ascending_node=[0, 180.]  \n",
    "\n",
    "\n",
    "print(Planetc)"
   ]
  },
  {
   "cell_type": "markdown",
   "metadata": {},
   "source": [
    "Now we have two independent Planet objects. Let's join them together in a Planetary System object."
   ]
  },
  {
   "cell_type": "markdown",
   "metadata": {},
   "source": [
    "## 2.2 The Planetary System object"
   ]
  },
  {
   "cell_type": "markdown",
   "metadata": {},
   "source": [
    "Once we have defined our planets, we can construct a Planetary System simply defining a system name, and stellar mass and radius (in Msun and Rsun units)"
   ]
  },
  {
   "cell_type": "code",
   "execution_count": 43,
   "metadata": {},
   "outputs": [],
   "source": [
    "# Let's call our system: \"SystemX\"\n",
    "PS = nau.PlanetarySystem(\"SystemX\", mstar=0.9132, rstar=0.8632)"
   ]
  },
  {
   "cell_type": "markdown",
   "metadata": {},
   "source": [
    "Okay, but it is not a planetary systems if there are not planets! So, let's add the Planet objects created before by passing a list with the Planet objects inside:"
   ]
  },
  {
   "cell_type": "code",
   "execution_count": 44,
   "metadata": {},
   "outputs": [
    {
     "name": "stdout",
     "output_type": "stream",
     "text": [
      "--> Parameter -ecc- of planet -Planet-b- set to lower physical limit: 1e-06\n",
      "--> Parameter -ecc- of planet -Planet-c- set to lower physical limit: 1e-06\n"
     ]
    }
   ],
   "source": [
    "# The ordering is important!! It's more intuitive if you add them according to the proximity to the star\n",
    "PS.add_planets([Planetb, Planetc]) "
   ]
  },
  {
   "cell_type": "markdown",
   "metadata": {},
   "source": [
    "Alright! Now we have a Planetary System that looks like:"
   ]
  },
  {
   "cell_type": "code",
   "execution_count": 45,
   "metadata": {},
   "outputs": [
    {
     "name": "stdout",
     "output_type": "stream",
     "text": [
      "\n",
      " =========== Planetary System Summary =========== \n",
      "--> Parameter -ecc- of planet -Planet-b- set to lower physical limit: 1e-06\n",
      "--> Parameter -ecc- of planet -Planet-c- set to lower physical limit: 1e-06\n",
      "\n",
      "System: SystemX\n",
      "Mstar: 0.9132 Msun |  Rstar: 0.8632 Rsun\n",
      "Number of planets: 2\n",
      "Planet information:\n",
      "------\n",
      "Planet: Planet-b\n",
      "  Boundaries:\n",
      "    mass: (1, 20.0)  [M_earth]\n",
      "    period: (5.35, 5.36)  [d]\n",
      "    ecc: (1e-06, 0.2)   \n",
      "    inclination: (85, 95)  [deg]\n",
      "    argument: (0.0, 360)  [deg]\n",
      "    mean_anomaly: (0.0, 360)  [deg]\n",
      "    ascending_node: (88.36, 88.36)  [deg]\n",
      "  TTVs: True\n",
      "------\n",
      "Planet: Planet-c\n",
      "  Boundaries:\n",
      "    mass: (1, 100)  [M_earth]\n",
      "    period: (11.83, 11.84)  [d]\n",
      "    ecc: (1e-06, 0.2)   \n",
      "    inclination: (85, 95)  [deg]\n",
      "    argument: (0.0, 360)  [deg]\n",
      "    mean_anomaly: (0.0, 360)  [deg]\n",
      "    ascending_node: (0.0, 180.0)  [deg]\n",
      "  TTVs: True\n",
      "\n",
      "Simulation attributes: \n",
      "Reference epoch of the solutions (T0JD): 1.0 [JD]\n",
      "Total time of TTVs data (Ftime): 196.0 [days]\n",
      "Timestep of the simulations (dt): 0.17847710000000017 [days]\n"
     ]
    }
   ],
   "source": [
    "print(PS)  # print a summary of the Planetary System"
   ]
  },
  {
   "cell_type": "markdown",
   "metadata": {},
   "source": [
    "That's it! We have a Planetary System! \n",
    "\n",
    "Now, an extra feature: Nauyaca contains a built-in function to visualize the TTVs of our planets. Let's call the Plots module and pass the Planetary System and then plot the observed TTVs:"
   ]
  },
  {
   "cell_type": "code",
   "execution_count": 46,
   "metadata": {},
   "outputs": [
    {
     "name": "stdout",
     "output_type": "stream",
     "text": [
      "---> No data to plot\n"
     ]
    },
    {
     "data": {
      "image/png": "[encoded data removed]",
      "text/plain": [
       "<Figure size 720x432 with 2 Axes>"
      ]
     },
     "metadata": {},
     "output_type": "display_data"
    }
   ],
   "source": [
    "nauplot = nau.Plots_c(PS, size=(10,6))  # Call the module specifying figure size\n",
    "\n",
    "# Plot TTVs!\n",
    "nauplot.plot_TTVs(residuals=False) # Don't make space for residuals"
   ]
  },
  {
   "cell_type": "markdown",
   "metadata": {},
   "source": [
    "Cool, isn't?"
   ]
  },
  {
   "cell_type": "markdown",
   "metadata": {},
   "source": [
    "## 2.3 Preparing for simulations"
   ]
  },
  {
   "cell_type": "markdown",
   "metadata": {},
   "source": [
    "From the summary of our Planetary System, we see at the bottom part the simulation attributes that Nauyaca automatically calculates based on the provided information of the planets. These attributes are:\n",
    "\n",
    "* **T0JD:** It is the reference time at which all the solutions found by Nauyaca will be referenced. By default, this number is automatically calculated by rounding down the smaller transit time found in the planet ephemerids.\n",
    "\n",
    "* **Ftime:** It defines the maximum time of the simulations. By default, it is calculated automatically by rounding up the greater central time found in the planet ephemerids. If you define a lower value than the calculated by default, then, all the central transit times greater than this new  number will be discarted (for all the planets) and the fitting will be performed until this new final time.\n",
    "\n",
    "* **dt:** This is the timestep of the simulations. By default, it is calculated by dividing the period of the inner planet over 30, which represent the 3.33% of the orbital period of the inner planet. Note that a timestep lower than 5% of period corresponding to the internal planet is suggested to reach a good accuracy in the simulations\n",
    "\n",
    "\n",
    "Let's see these attributes automatically calculated in our system:"
   ]
  },
  {
   "cell_type": "code",
   "execution_count": 47,
   "metadata": {},
   "outputs": [
    {
     "name": "stdout",
     "output_type": "stream",
     "text": [
      "T0JD: 1.0  [days]\n",
      "Ftime: 196.0  [days]\n",
      "dt: 0.17847710000000017  [days]\n"
     ]
    }
   ],
   "source": [
    "print(f\"T0JD: {PS.T0JD}  [days]\")\n",
    "print(f\"Ftime: {PS.Ftime}  [days]\")\n",
    "print(f\"dt: {PS.dt}  [days]\")"
   ]
  },
  {
   "cell_type": "markdown",
   "metadata": {},
   "source": [
    "For the purposes of this tutorial, let's change these parameters and let's see again the updated attributes in the planetary system"
   ]
  },
  {
   "cell_type": "code",
   "execution_count": 48,
   "metadata": {},
   "outputs": [
    {
     "name": "stdout",
     "output_type": "stream",
     "text": [
      "\n",
      " =========== Planetary System Summary =========== \n",
      "--> Parameter -ecc- of planet -Planet-b- set to lower physical limit: 1e-06\n",
      "--> Parameter -ecc- of planet -Planet-c- set to lower physical limit: 1e-06\n",
      "\n",
      "System: SystemX\n",
      "Mstar: 0.9132 Msun |  Rstar: 0.8632 Rsun\n",
      "Number of planets: 2\n",
      "Planet information:\n",
      "------\n",
      "Planet: Planet-b\n",
      "  Boundaries:\n",
      "    mass: (1, 20.0)  [M_earth]\n",
      "    period: (5.35, 5.36)  [d]\n",
      "    ecc: (1e-06, 0.2)   \n",
      "    inclination: (85, 95)  [deg]\n",
      "    argument: (0.0, 360)  [deg]\n",
      "    mean_anomaly: (0.0, 360)  [deg]\n",
      "    ascending_node: (88.36, 88.36)  [deg]\n",
      "  TTVs: True\n",
      "------\n",
      "Planet: Planet-c\n",
      "  Boundaries:\n",
      "    mass: (1, 100)  [M_earth]\n",
      "    period: (11.83, 11.84)  [d]\n",
      "    ecc: (1e-06, 0.2)   \n",
      "    inclination: (85, 95)  [deg]\n",
      "    argument: (0.0, 360)  [deg]\n",
      "    mean_anomaly: (0.0, 360)  [deg]\n",
      "    ascending_node: (0.0, 180.0)  [deg]\n",
      "  TTVs: True\n",
      "\n",
      "Simulation attributes: \n",
      "Reference epoch of the solutions (T0JD): 0.0 [JD]\n",
      "Total time of TTVs data (Ftime): 200 [days]\n",
      "Timestep of the simulations (dt): 0.15 [days]\n"
     ]
    }
   ],
   "source": [
    "# Setting the simulation attributes\n",
    "PS.simulation(T0JD=0.0, Ftime=200, dt=0.15)\n",
    "\n",
    "print(PS)"
   ]
  },
  {
   "cell_type": "markdown",
   "metadata": {},
   "source": [
    "Nice! It appears that it is all ready to begin the simulations. But before, a **very important** step..."
   ]
  },
  {
   "cell_type": "markdown",
   "metadata": {},
   "source": [
    "## 2.4 Saving the Planetary System"
   ]
  },
  {
   "cell_type": "markdown",
   "metadata": {},
   "source": [
    "Once we have our Planetary System, it is very important to save the object. It can help us to avoid writting all the code above for defining Planets and the Planetary System itself, each time we want to work with it. It is also a good form to make it portable if you want to run another simulation in another computer in another time.\n",
    "\n",
    "Nauyaca have currently two formats to save the Planetary System object:\n",
    "\n",
    "* **pickle:** \n",
    "\n",
    "$Advantages:$ Fast reconstruction of the Planetary object; small file size. \n",
    "\n",
    "$Disadvantages:$ machine-readable only; it is propense to fail if you try to read it with a different Nauyaca version; probably will be deprecated in upcoming versions.\n",
    "\n",
    "* **json:** \n",
    "\n",
    "$Advantages:$ Human readable format; no conflicts with Nauyaca versions. \n",
    "\n",
    "$Disadvantages:$ Larger file size than pickle format; could fail if trying to save non-serializable objects (rare to happen in Nauyaca).\n",
    "\n",
    "\n",
    "Each one of them have advantages and disadvantages. Thus, we recommend saving in both formats with the aim of having a backup of the studied planetary system.\n",
    "\n",
    "\n",
    "We save our system in these formats by doing:"
   ]
  },
  {
   "cell_type": "code",
   "execution_count": 49,
   "metadata": {},
   "outputs": [
    {
     "name": "stdout",
     "output_type": "stream",
     "text": [
      "--> Pickle file SystemX.pkl saved\n"
     ]
    }
   ],
   "source": [
    "PS.save_pickle"
   ]
  },
  {
   "cell_type": "code",
   "execution_count": 50,
   "metadata": {},
   "outputs": [
    {
     "name": "stdout",
     "output_type": "stream",
     "text": [
      "--> JSON file SystemX.json saved\n"
     ]
    }
   ],
   "source": [
    "PS.save_json"
   ]
  },
  {
   "cell_type": "markdown",
   "metadata": {},
   "source": [
    "which by default, will save with the name of the Planetary System object. These files are saved in the working directory."
   ]
  },
  {
   "cell_type": "markdown",
   "metadata": {},
   "source": [
    "#### In the next tutorial, we wil see how to use these files to rebuild the Planetary System defined here. See you there!"
   ]
  },
  {
   "cell_type": "markdown",
   "metadata": {},
   "source": [
    "________________________"
   ]
  },
  {
   "cell_type": "markdown",
   "metadata": {},
   "source": [
    "When the Planetary System is created, a .pkl file is saved. This is a python pickle file that contains the Planetary System object and all the necessary to restart TTVs simulations. This file will be useful soonly.\n",
    "\n",
    "Let's print a summary of our Planetary system"
   ]
  },
  {
   "cell_type": "markdown",
   "metadata": {},
   "source": [
    "We can access to many properties of the planetary system, for example:"
   ]
  },
  {
   "cell_type": "code",
   "execution_count": 25,
   "metadata": {},
   "outputs": [
    {
     "name": "stdout",
     "output_type": "stream",
     "text": [
      "Bounds:  [[0.1, 20.0], [33.616, 33.618], [1e-05, 0.2], [88, 90.0], [0.0, 360.0], [0.0, 360.0], [0.1, 20], [73.506, 73.508], [1e-05, 0.2], [88, 90.0], [0.0, 360.0], [0.0, 360.0], [90.0, 270.0]]\n"
     ]
    }
   ],
   "source": [
    "# Bounds are in the same order as you added the planets\n",
    "# FOR EACH PLANET, the order of the parameter space is:\n",
    "# 0.-mass, 1.-period, 2.-eccentricity, 3.-inclination, \n",
    "# 4.-argument, 5.-mean anomaly, 6.-ascending node\n",
    "\n",
    "print(\"Bounds: \", PS.bounds) "
   ]
  },
  {
   "cell_type": "markdown",
   "metadata": {},
   "source": [
    "For clarity, params_names can helps to identify the whole parameter space"
   ]
  },
  {
   "cell_type": "code",
   "execution_count": 26,
   "metadata": {},
   "outputs": [
    {
     "name": "stdout",
     "output_type": "stream",
     "text": [
      "Boundaries:\n",
      "mass1: [0.1, 20.0]\n",
      "period1: [33.616, 33.618]\n",
      "ecc1: [1e-05, 0.2]\n",
      "inclination1: [88, 90.0]\n",
      "argument1: [0.0, 360.0]\n",
      "mean_anomaly1: [0.0, 360.0]\n",
      "mass2: [0.1, 20]\n",
      "period2: [73.506, 73.508]\n",
      "ecc2: [1e-05, 0.2]\n",
      "inclination2: [88, 90.0]\n",
      "argument2: [0.0, 360.0]\n",
      "mean_anomaly2: [0.0, 360.0]\n",
      "ascending_node2: [90.0, 270.0]\n"
     ]
    }
   ],
   "source": [
    "print(\"Boundaries:\")\n",
    "for i, names in enumerate(PS.params_names.split()):\n",
    "    print(f\"{names}: {PS.bounds[i]}\" )"
   ]
  },
  {
   "cell_type": "markdown",
   "metadata": {},
   "source": [
    "If there is a planet with constant values in its parameter space, then, it will be saved as a dictionary, being the KEY the index of the parameter and the VALUE the constant.\n",
    "\n",
    "For example, if PS.constant_params={6:180} , it means that the ascending node of the first planet is fixed to 180 deg. On the other hand, if PS.constant_params={9:0.1}, then the eccentricity of second planet is fixed to 0.1"
   ]
  },
  {
   "cell_type": "code",
   "execution_count": 28,
   "metadata": {},
   "outputs": [
    {
     "name": "stdout",
     "output_type": "stream",
     "text": [
      "Constant params:  {6: 180.0}\n"
     ]
    }
   ],
   "source": [
    "# 0:mass1; 1:period1; 2:ecc1; 3:inc1; 4:argument; 5:Mean_anomaly1; 6:ascending_node1;\n",
    "# 7:mass2; 8:period2; 9:ecc2; ...\n",
    "\n",
    "print(\"Constant params: \", PS.constant_params)"
   ]
  },
  {
   "cell_type": "markdown",
   "metadata": {},
   "source": [
    "Another useful data:"
   ]
  },
  {
   "cell_type": "code",
   "execution_count": 29,
   "metadata": {},
   "outputs": [
    {
     "name": "stdout",
     "output_type": "stream",
     "text": [
      "Order of planets entrance:  {'Planet-b': 0, 'Planet-c': 1}\n"
     ]
    }
   ],
   "source": [
    "print(\"Order of planets entrance: \", PS.planets_IDs)"
   ]
  },
  {
   "cell_type": "code",
   "execution_count": 30,
   "metadata": {},
   "outputs": [
    {
     "name": "stdout",
     "output_type": "stream",
     "text": [
      "TTVs: \n",
      " {'Planet-b': {0: [21.5523131438, 0.000629, 0.000384], 1: [55.1728893405, 0.000758, 0.000739], 2: [88.7952811376, 0.000562, 0.0004], 3: [122.418924701, 0.000559, 0.000774], 4: [156.041707622, 0.000619, 0.000623], 5: [189.669905447, 0.000975, 0.000898], 6: [223.293933475, 0.00079, 0.000654], 7: [256.923266313, 0.000856, 0.00084], 8: [290.550182491, 0.000319, 0.000548], 9: [324.168450812, 0.000524, 0.000849], 10: [357.788534159, 0.000374, 0.000499], 11: [391.407056892, 0.000406, 0.000627], 12: [425.027105064, 0.000602, 0.000454], 13: [458.649125492, 0.000805, 0.000671], 14: [492.272085472, 0.000815, 0.000871], 15: [525.895441419, 0.000733, 0.00058], 16: [559.522024235, 0.000834, 0.000946], 17: [593.145545227, 0.000628, 0.000589], 18: [626.777478433, 0.000703, 0.000679], 19: [660.405076718, 0.000474, 0.000478], 20: [694.025509307, 0.000929, 0.000471], 21: [727.647086939, 0.00042, 0.000678], 22: [761.264268301, 0.000821, 0.000723], 23: [794.88325384, 0.000627, 0.000387], 24: [828.503616346, 0.000848, 0.000932], 25: [862.125003921, 0.000836, 0.000615], 26: [895.747786618, 0.000704, 0.000706], 27: [929.372362937, 0.000932, 0.000838], 28: [962.995198016, 0.000738, 0.000887], 29: [996.625070414, 0.000635, 0.000691]}, 'Planet-c': {0: [73.2486014843, 0.000691, 0.000637], 1: [146.749468487, 0.000721, 0.000657], 2: [220.242349774, 0.00106, 0.000761], 3: [293.731167555, 0.000681, 0.00066], 4: [367.236122944, 0.000765, 0.000521], 5: [440.742560354, 0.000611, 0.000636], 6: [514.244522696, 0.000808, 0.000964], 7: [587.740187014, 0.000817, 0.000556], 8: [661.22596746, 0.000676, 0.000238], 9: [734.727512055, 0.000669, 0.000667], 10: [808.23541199, 0.000822, 0.000898], 11: [881.740031029, 0.000707, 0.000672], 12: [955.239265511, 0.000532, 0.000595]}}\n"
     ]
    }
   ],
   "source": [
    "print(\"TTVs: \\n\", PS.TTVs)"
   ]
  },
  {
   "cell_type": "code",
   "execution_count": 32,
   "metadata": {},
   "outputs": [
    {
     "name": "stdout",
     "output_type": "stream",
     "text": [
      "First transit of planet b:  [73.2486014843, 0.000691, 0.000637]\n"
     ]
    }
   ],
   "source": [
    "print(\"First transit of planet b: \", PS.TTVs[\"Planet-c\"][0] )"
   ]
  },
  {
   "cell_type": "code",
   "execution_count": 33,
   "metadata": {},
   "outputs": [
    {
     "name": "stdout",
     "output_type": "stream",
     "text": [
      "Second term of the Loglikelihood:  {'Planet-b': -82.30980735748551, 'Planet-c': -35.438919859136085}\n"
     ]
    }
   ],
   "source": [
    "print(\"Second term of the Loglikelihood: \", PS.second_term_logL)"
   ]
  },
  {
   "cell_type": "markdown",
   "metadata": {},
   "source": [
    "_____________________"
   ]
  },
  {
   "cell_type": "markdown",
   "metadata": {},
   "source": [
    "At this point, a pickle file has been authomatically saved. This file contains the Planetary System object and its attributes (e.g., planets) and will be helpful to run TTVs simulation in another time or computer as well as for making figures.\n",
    "\n",
    "Doing that, we are ready to beggin the TTVs fitting."
   ]
  },
  {
   "cell_type": "markdown",
   "metadata": {},
   "source": [
    "## Runing the optimizers"
   ]
  },
  {
   "cell_type": "markdown",
   "metadata": {},
   "source": [
    "Optimizers are helpful to quickly explore the parameter space and search approximate solutions to the TTVs through minimizing chi square statistic.\n",
    "Optimizers joint Differential Evolution and Nelder-Mead minimization methods. Firstly, Differential Evolution explores the parameter space of each planet and looks for the best solution to the TTVs. Then, Nelder-Mead takes that solution and refines it. \n",
    "\n",
    "To run it, jus call .run_optimizers and pass the Planetary System object, the number of solutions to look for (niter) and specify the number of cores to run in parallel (cores)."
   ]
  },
  {
   "cell_type": "code",
   "execution_count": null,
   "metadata": {
    "collapsed": true,
    "scrolled": true
   },
   "outputs": [],
   "source": [
    "# Run Optimizers. Results of this method are saved at 'OPT' plus the Planetary System name\n",
    "RESULTS_opt = Optimizers.run_optimizers(PS, nsols=21, cores=7)"
   ]
  },
  {
   "cell_type": "markdown",
   "metadata": {},
   "source": [
    "Results have been saved in a .opt file. All the solutions from the optimizer consist in a list, being the first element the $\\chi^2$ and the rest are the planetary parameters of the first planet concatenated with planetary parameters of the next planet(s). A flag of chi square of 1e+50 could rise if the minimizers could not find a solution."
   ]
  },
  {
   "cell_type": "code",
   "execution_count": null,
   "metadata": {
    "collapsed": true
   },
   "outputs": [],
   "source": [
    "# The firt 3 results (unordered by chi2)\n",
    "print(RESULTS_opt[:3])"
   ]
  },
  {
   "cell_type": "markdown",
   "metadata": {},
   "source": [
    "Let's plot some results:"
   ]
  },
  {
   "cell_type": "code",
   "execution_count": null,
   "metadata": {
    "collapsed": true
   },
   "outputs": [],
   "source": [
    "# Mass of planet b (Mass1)\n",
    "m1 = [i[1] for i in RESULTS_opt]\n",
    "sns.distplot(m1, kde=False, bins=5, color='blue')\n",
    "plt.xlabel(r'$Mass1$')\n",
    "\n",
    "plt.figure()\n",
    "# Eccentricity of planet c (ecc2)\n",
    "e2 = [i[10] for i in RESULTS_opt]\n",
    "sns.distplot(e2, kde=False, bins=5, color='orange')\n",
    "plt.xlabel(r'$ecc2$')"
   ]
  },
  {
   "cell_type": "markdown",
   "metadata": {},
   "source": [
    "Best solution from the optimizers"
   ]
  },
  {
   "cell_type": "code",
   "execution_count": null,
   "metadata": {
    "collapsed": true
   },
   "outputs": [],
   "source": [
    "# We sort the results according to the chi square\n",
    "sort_res = sorted(RESULTS_opt, key=lambda j: j[0])\n",
    "\n",
    "# Let's take 'the best'\n",
    "bestChi2 = sort_res[0][0]\n",
    "best_planetary_params = sort_res[0][1:]\n",
    "\n",
    "print(\"Best result of the optimizers:\\n\")\n",
    "print(\"chi_2: \", bestChi2)\n",
    "print(\"\\n--> Planetary parameters: \", best_planetary_params)\n",
    "\n",
    "# Splitting by number of planets in the system:\n",
    "planets = [best_planetary_params[:7], best_planetary_params[7:]]\n",
    "pla1 = planets[0]\n",
    "pla2 = planets[1]\n",
    "\n",
    "print(\"\\n--> Best planetary parameters for planet1: \")\n",
    "print(\"  \", pla1)\n",
    "print(\"\\n--> Best planetary parameters for planet2: \",)\n",
    "print(\"  \", pla2)"
   ]
  },
  {
   "cell_type": "markdown",
   "metadata": {},
   "source": [
    "##### Remember that the 7 Planetary parameters follow always the order: \n",
    "\n",
    "##### mass, period, eccentricity, inclination, argument, mean anomaly and ascending node"
   ]
  },
  {
   "cell_type": "markdown",
   "metadata": {},
   "source": [
    "Let's plot the best 3 solutions from the optimizer and compare them with the observed TTVs. To do that, we import a useful function in the nauyaca package: plot_TTVs.\n",
    "\n",
    "Pass the Planetary Object and a list of lists with the solutions you want to plot"
   ]
  },
  {
   "cell_type": "code",
   "execution_count": null,
   "metadata": {
    "collapsed": true,
    "scrolled": false
   },
   "outputs": [],
   "source": [
    "from plots import plot_TTVs\n",
    "\n",
    "# Extract the best n solutions\n",
    "n_sols = 3\n",
    "best_n_solutions = [s[1:] for s in sort_res[:n_sols]]\n",
    "#print(best_n_solutions)\n",
    "\n",
    "# Plot the observed TTVs and the 3 solutions\n",
    "plot_TTVs(PS, best_n_solutions)\n",
    "\n",
    "# Change figure size\n",
    "plt.gcf().set_size_inches(12,12)\n",
    "\n",
    "#plt.savefig(\"TTVs_optimizer.png\")"
   ]
  },
  {
   "cell_type": "markdown",
   "metadata": {},
   "source": [
    "Ok, that does not looks like an ideal TTVs fit. Results from the optimizers provide an overall outlook of the solutions in the parameter space. To get better solutions, just increase the number of solution in Optimizers.run_optimizers. These solutions can be used to initialize walkers in the MCMC."
   ]
  },
  {
   "cell_type": "markdown",
   "metadata": {},
   "source": [
    "## Runing the MCMC"
   ]
  },
  {
   "cell_type": "markdown",
   "metadata": {},
   "source": [
    "We employ Parallel-Tempering sampling algorithm to explore the parameter space at different walker temperatures. This method allows the walkers do not get stuck in local high probability regions due to the exchange between high and low temperature walkers. The posteriors are drawn from the walkers at temperature 0.\n",
    "\n",
    "Let's define the main parameters to run the MCMC"
   ]
  },
  {
   "cell_type": "code",
   "execution_count": null,
   "metadata": {
    "collapsed": true
   },
   "outputs": [],
   "source": [
    "Ntemps = 10       # Number of temperatures\n",
    "Nwalkers = 250    # Number of walkers per temperature\n",
    "Tmax = 1e3        # Maximum temperature. If None, then Parallel-Tempering chose an appropiate maximum temperature\n",
    "\n",
    "itmax = 1000      # Maximum number of steps\n",
    "conver_steps = 10 # Number of steps to save the chains"
   ]
  },
  {
   "cell_type": "markdown",
   "metadata": {},
   "source": [
    "Initial walkers should be provided in an array of shape (ntemps, nwalkers, ndim), where ndim is the number of dimensions (mass1, period1...).\n",
    "\n",
    "We provides 3 forms of easily initialize walkers."
   ]
  },
  {
   "cell_type": "code",
   "execution_count": null,
   "metadata": {
    "collapsed": true
   },
   "outputs": [],
   "source": [
    "from utils import initial_walkers\n",
    "\n",
    "# You cand initialize walkers from the results of the optimizers\n",
    "# from a previous run just typing:\n",
    "#RESULTS_opt = list(np.genfromtxt('SystemX.opt'))\n",
    "\n",
    "\n",
    "\"\"\" 1) Uniform distribution\n",
    " For all the planetary parameters, initialize walkers from an uniform distribution\n",
    " along the stablished boundaries for each planet\"\"\"\n",
    "# Using this option is unnecesary to run optimizers previously\n",
    "walkers_uniform = initial_walkers(PS, distribution=\"Uniform\", \n",
    "                                 ntemps=Ntemps, nwalkers=Nwalkers)\n",
    "\n",
    "\"\"\"   2) Gaussian distribution\n",
    " Provide directly the results of the optimizers (throuhgt opt_data argument) and \n",
    " construct a gaussian with the mean and std of the solutions along each dimension.\"\"\"\n",
    "# In opt_data, pass RESULTS_opt (from optimizers) or results_opt (from file)\n",
    "# treshold selects a fraction of the best solutions and discard the rest.\n",
    "# For example, .8 takes the 80% of the solutions with the best Chi**2\n",
    "walkers_gaussian = initial_walkers(PS, distribution=\"Gaussian\", \n",
    "                                   ntemps=Ntemps, nwalkers=Nwalkers, \n",
    "                                   opt_data=RESULTS_opt, threshold=0.6)    \n",
    "\n",
    "\"\"\"   3) Picked distribution\n",
    "  Provide directly the results of the optimizers (throuhgt opt_data argument) and \n",
    "  construct a discrete distribution by randomly selecting exact values of the optimizer solutions\"\"\"\n",
    "# In opt_data, pass RESULTS_opt (from optimizers) or results_opt (from file)\n",
    "# treshold selects a fraction of the best solutions and discard the rest.\n",
    "# For example, .8 takes the 80% of the solutions with the best Chi**2\n",
    "walkers_picked = initial_walkers(PS, distribution=\"Picked\", \n",
    "                                 ntemps=Ntemps, nwalkers=Nwalkers, \n",
    "                                 opt_data=RESULTS_opt, threshold=0.6)\n"
   ]
  },
  {
   "cell_type": "markdown",
   "metadata": {},
   "source": [
    "Note that if there are constant values in the planet's boundaries, then that parameter will be skipped and values will not appear in the initial walkers"
   ]
  },
  {
   "cell_type": "code",
   "execution_count": null,
   "metadata": {
    "collapsed": true
   },
   "outputs": [],
   "source": [
    "# Comparing the initial distributions of the walkers for the dimension -dim- of temperature 0\n",
    "# For dim: 0: mass1, 1: period1, ...,7: mass2, 8: period2..\n",
    "\n",
    "dim = 7\n",
    "plt.figure(figsize=(10,10))\n",
    "plt.title(f\"Initial distribution of dimension {dim}\")\n",
    "plt.hist(walkers_uniform[0,:,dim], alpha = 0.3, label='Uniform')\n",
    "plt.hist(walkers_gaussian[0,:,dim], alpha = 0.3, label='Gaussian')\n",
    "plt.hist(walkers_picked[0,:,dim], alpha = 0.3, label='Picked')\n",
    "plt.legend()\n",
    "\n",
    "plt.xlabel(PS.params_names.split()[dim])"
   ]
  },
  {
   "cell_type": "markdown",
   "metadata": {},
   "source": [
    "Let's select the picked option to run the MCMC"
   ]
  },
  {
   "cell_type": "code",
   "execution_count": null,
   "metadata": {
    "collapsed": true,
    "scrolled": true
   },
   "outputs": [],
   "source": [
    "RESULTS_mcmc = MCMC.run_mcmc(\n",
    "            PS,                           # Planetary System object\n",
    "            pop0=walkers_picked,        # Initial population of walkers \n",
    "            nwalkers=Nwalkers,            # Number of walkers\n",
    "            ntemps=Ntemps,                # Number of temperatures\n",
    "            Tmax=Tmax,                    # Maximum temperature\n",
    "            betas=None,                   # Betas is an array of inverse temperatures\n",
    "            Itmax=itmax,                  # Maximum nomber of iterations (steps)\n",
    "            conver_steps=conver_steps,    # Save data each this number of steps\n",
    "            cores=7,                      # Number of cores to run in parallel\n",
    "            suffix='')                    # Suffix to add at the final hdf5 file"
   ]
  },
  {
   "cell_type": "markdown",
   "metadata": {},
   "source": [
    "Results of the MCMC are saved in a .hdf5 file. Also at the end of the iterations, best solutions are extracted (corresponding to the solutions of 'better posterior') and saved in a .best file "
   ]
  },
  {
   "cell_type": "code",
   "execution_count": null,
   "metadata": {
    "collapsed": true
   },
   "outputs": [],
   "source": [
    "import h5py\n",
    "f = h5py.File('SystemX.hdf5', 'r')\n",
    "\n",
    "print(f['COL_NAMES'].value[:])\n",
    "\n",
    "f.close()"
   ]
  },
  {
   "cell_type": "markdown",
   "metadata": {},
   "source": [
    "##### MCMC Summary"
   ]
  },
  {
   "cell_type": "markdown",
   "metadata": {},
   "source": [
    "Now, let's see a a summary of the results. Just provide the .hdf5 file."
   ]
  },
  {
   "cell_type": "code",
   "execution_count": null,
   "metadata": {
    "collapsed": true
   },
   "outputs": [],
   "source": [
    "from utils import mcmc_summary\n",
    "\n",
    "mcmc_summary(\"SystemX.hdf5\")"
   ]
  },
  {
   "cell_type": "markdown",
   "metadata": {},
   "source": [
    "## Visualization"
   ]
  },
  {
   "cell_type": "markdown",
   "metadata": {},
   "source": [
    "There is a collection of prefabricated methods to easily visualize the results from the MCMC. "
   ]
  },
  {
   "cell_type": "markdown",
   "metadata": {},
   "source": [
    "Let's visualize the histograms of the posteriors at temperature 0"
   ]
  },
  {
   "cell_type": "code",
   "execution_count": null,
   "metadata": {
    "collapsed": true,
    "scrolled": false
   },
   "outputs": [],
   "source": [
    "from plots import plot_hist\n",
    "\n",
    "print(RESULTS_mcmc.chain[0].shape)\n",
    "\n",
    "# Let's pass the chains of temperature 0\n",
    "# burning remove a percentage of the initial chains\n",
    "plot_hist(PS, chains=RESULTS_mcmc.chain[0], burning=.2)\n",
    "\n",
    "#plt.savefig(\"histograms.png\")"
   ]
  },
  {
   "cell_type": "markdown",
   "metadata": {},
   "source": [
    "Let's visualize the chains at temperature 0"
   ]
  },
  {
   "cell_type": "code",
   "execution_count": null,
   "metadata": {
    "collapsed": true
   },
   "outputs": [],
   "source": [
    "from plots import plot_chains\n",
    "\n",
    "plot_chains(PS, chains=RESULTS_mcmc.chain[0])\n",
    "plt.xlabel(f'Iterations / {conver_steps}')\n",
    "\n",
    "#plt.savefig(\"chains.png\")"
   ]
  },
  {
   "cell_type": "markdown",
   "metadata": {},
   "source": [
    "And now, a corner plot to visualize possible correlation between parameters"
   ]
  },
  {
   "cell_type": "code",
   "execution_count": null,
   "metadata": {
    "collapsed": true
   },
   "outputs": [],
   "source": [
    "from plots import plot_corner\n",
    "\n",
    "plot_corner(PS, chains=RESULTS_mcmc.chain[0], burning=0.2)\n",
    "plt.gcf().set_size_inches(12,12)\n",
    "\n",
    "#plt.savefig(\"corner.png\")"
   ]
  },
  {
   "cell_type": "markdown",
   "metadata": {},
   "source": [
    "______________________"
   ]
  },
  {
   "cell_type": "markdown",
   "metadata": {},
   "source": [
    "## After simulations"
   ]
  },
  {
   "cell_type": "markdown",
   "metadata": {},
   "source": [
    "At this point you can restart the kernel to simulate that we have finished the TTVs inversion and it is another time. \n",
    "\n",
    "Along the simulations many files have been saved automatically. Considering a Planetary System of name 'PSystem', the output files are:\n",
    "\n",
    "    * PSystem.pkl - Contains the Planetary System object saved through pickle.\n",
    "    * PSystem.opt - Contains the results of the optimizers\n",
    "    * PSystem.hdf5 - Contains the main features of the MCMC\n",
    "    * PSystem.best - Contains the best solutions of each saved iteration in the MCMC sorted by -chi2"
   ]
  },
  {
   "cell_type": "markdown",
   "metadata": {},
   "source": [
    "Now let's see how to analyze the results saved in those files, in another moment or in a different computer."
   ]
  },
  {
   "cell_type": "code",
   "execution_count": null,
   "metadata": {
    "collapsed": true
   },
   "outputs": [],
   "source": [
    "# Let's load the Planetary System\n",
    "import pickle\n",
    "\n",
    "with open('SystemX.pkl', 'rb') as input:\n",
    "    PS_pkl = pickle.load(input)\n",
    "\n",
    "print(PS_pkl)"
   ]
  },
  {
   "cell_type": "markdown",
   "metadata": {},
   "source": [
    "### Result from the optimizers"
   ]
  },
  {
   "cell_type": "code",
   "execution_count": null,
   "metadata": {
    "collapsed": true,
    "scrolled": false
   },
   "outputs": [],
   "source": [
    "from plots import plot_TTVs\n",
    "import matplotlib.pyplot as plt\n",
    "import numpy as np\n",
    "\n",
    "# From the file\n",
    "results_file = np.genfromtxt(\"SystemX.opt\")\n",
    "results_opt = results_file.tolist()           #Convert data array to list\n",
    "\n",
    "sort_res = sorted(results_opt, key=lambda j: j[0])\n",
    "\n",
    "# Extract the best n solutions\n",
    "n_sols = 3\n",
    "best_n_solutions = [s[1:] for s in sort_res[:n_sols]]\n",
    "print(best_n_solutions)\n",
    "\n",
    "# Plot the observed TTVs and the 3 solutions\n",
    "plot_TTVs(PS_pkl, best_n_solutions)\n",
    "\n",
    "plt.gcf().set_size_inches(12,12)  # Change figure size\n",
    "\n",
    "\n",
    "#plt.savefig(\"TTVs_optimizer.png\")"
   ]
  },
  {
   "cell_type": "markdown",
   "metadata": {},
   "source": [
    "### Results from the saved hdf5"
   ]
  },
  {
   "cell_type": "markdown",
   "metadata": {},
   "source": [
    "Let's see how was de MCMC. plot_monitor will shou you a couple of plots to assess the performance of the MCMC"
   ]
  },
  {
   "cell_type": "code",
   "execution_count": null,
   "metadata": {
    "collapsed": true
   },
   "outputs": [],
   "source": [
    "\"\"\"\n",
    "Upper left: This is the behavior of the temperatures. They adapt by themselves to increase\n",
    "the exchange of walkers between hot and cold temperatures and viceversa. Black solid lines is for temperature 0.\n",
    "\n",
    "Upper right: This is the percentage of walkers exchanges. Black solid lines is for temperature 0.\n",
    "\n",
    "Lower left: This is the evolution of chi2. Blue line is the mean chi2 and orange is 'the best' chi2.\n",
    "\n",
    "Lower right: Mean autocorrelation time. It's a measurement of the number of steps requiered to forget the initial\n",
    "chain state.\n",
    "\"\"\"\n",
    "\n",
    "from plots import plot_monitor\n",
    "\n",
    "plot_monitor(\"SystemX.hdf5\")\n"
   ]
  },
  {
   "cell_type": "markdown",
   "metadata": {},
   "source": [
    "Let's make a Geweke test and plot to asses for ergodicity. It takes the first 10% of the chains and divide the last 50% in 20 chunks to perform a z-test comparing the medians. If values of the test are between -2 and 2, then it is evidence of convergence."
   ]
  },
  {
   "cell_type": "code",
   "execution_count": null,
   "metadata": {
    "collapsed": true
   },
   "outputs": [],
   "source": [
    "from utils import geweke\n",
    "\n",
    "Z_test = geweke(PS_pkl, hdf5_file='SystemX.hdf5',burning=0.2)\n",
    "print(Z_test[0])\n"
   ]
  },
  {
   "cell_type": "code",
   "execution_count": null,
   "metadata": {
    "collapsed": true
   },
   "outputs": [],
   "source": [
    "# Geweke plot:\n",
    "plt.figure(figsize=(12,8))\n",
    "for i, zt in enumerate(Z_test):\n",
    "    plt.scatter(range(len(zt)), zt, label=PS_pkl.params_names.split()[i])\n",
    "\n",
    "plt.legend(bbox_to_anchor=(1, 1), loc='upper left', ncol=1)\n",
    "plt.axhline(-2, alpha=0.5, color='red')\n",
    "plt.axhline(2, alpha=0.5, color='red')\n",
    "plt.xlabel(\"Slice number\")"
   ]
  },
  {
   "cell_type": "code",
   "execution_count": null,
   "metadata": {
    "collapsed": true
   },
   "outputs": [],
   "source": [
    "from plots import plot_hist\n",
    "\n",
    "plot_hist(PS_pkl, chains=None, hdf5_file='SystemX.hdf5', burning=2.0)"
   ]
  },
  {
   "cell_type": "code",
   "execution_count": null,
   "metadata": {
    "collapsed": true
   },
   "outputs": [],
   "source": [
    "from plots import plot_chains\n",
    "\n",
    "# By default, temperature 0 will be used\n",
    "plot_chains(PS_pkl, chains=None, hdf5_file='SystemX.hdf5')"
   ]
  },
  {
   "cell_type": "code",
   "execution_count": null,
   "metadata": {
    "collapsed": true
   },
   "outputs": [],
   "source": [
    "from plots import plot_corner\n",
    "\n",
    "plot_corner(PS_pkl, chains=None, hdf5_file='SystemX.hdf5', burning=0.1)\n",
    "plt.gcf().set_size_inches(12,12)\n",
    "plt.show()"
   ]
  },
  {
   "cell_type": "code",
   "execution_count": null,
   "metadata": {
    "collapsed": true
   },
   "outputs": [],
   "source": [
    "MCMC.extract_best_solutions(\"SystemX.hdf5\")"
   ]
  },
  {
   "cell_type": "code",
   "execution_count": null,
   "metadata": {
    "collapsed": true
   },
   "outputs": [],
   "source": [
    "from plots import plot_TTVs\n",
    "import numpy as np\n",
    "\n",
    "# Best solutions found in the MCMC (from the file)\n",
    "best_file = np.genfromtxt(\"SystemX.best\")\n",
    "results_mcmc = best_file.tolist() #Convert data array to list\n",
    "\n",
    "# Reverse the list because we sorte by -chi**2\n",
    "sort_res = sorted(results_mcmc, key=lambda j: j[0], reverse=True)\n",
    "\n",
    "# Extract the best n solutions\n",
    "n_sols = 1\n",
    "print(sort_res[n_sols])\n",
    "best_n_solutions = [s[1:] for s in sort_res[:n_sols]]\n",
    "\n",
    "print(best_n_solutions)\n",
    "\n",
    "# Plot the observed TTVs and the 3 solutions\n",
    "plot_TTVs(PS_pkl, best_n_solutions)\n",
    "\n",
    "plt.gcf().set_size_inches(12,12)  # Change figure size"
   ]
  },
  {
   "cell_type": "code",
   "execution_count": null,
   "metadata": {
    "collapsed": true
   },
   "outputs": [],
   "source": []
  },
  {
   "cell_type": "markdown",
   "metadata": {},
   "source": [
    "## Extra features"
   ]
  },
  {
   "cell_type": "markdown",
   "metadata": {},
   "source": [
    "Suposse you have a set of parameters and you want to calculate the central transit times produced by two planets along 300 days of observations. Well, this is how you can comunicate with TTVFast:"
   ]
  },
  {
   "cell_type": "code",
   "execution_count": null,
   "metadata": {
    "collapsed": true
   },
   "outputs": [],
   "source": [
    "from utils import run_TTVFast\n",
    "\n",
    "set_of_params = [5.33031,  33.62651, 0.06558, 88.47247, 202.35109, 246.71734, 170.5195,\n",
    "                 11.60434, 73.48983, 0.19693, 88.84697, 61.90508,  121.72177, 180.0]\n",
    "\n",
    "transits = run_TTVFast(set_of_params, mstar=0.91, NPLA=2, Tin=0., Ftime=300)\n",
    "\n",
    "print(transits)"
   ]
  },
  {
   "cell_type": "markdown",
   "metadata": {},
   "source": [
    "First list is the planet ID corresponding to the entrance order. Second list is the transit epochs. Third list are the central transit times. To facilitate the reading of the transits, let's provide a Planetary System object and the transits."
   ]
  },
  {
   "cell_type": "code",
   "execution_count": null,
   "metadata": {
    "collapsed": true
   },
   "outputs": [],
   "source": [
    "from utils import calculate_epochs\n",
    "\n",
    "epochs = calculate_epochs(transits, PS_pkl)\n",
    "\n",
    "print(epochs)"
   ]
  },
  {
   "cell_type": "markdown",
   "metadata": {},
   "source": [
    "Finally, let's calculate the chi2 of the set of parameters. Note that we removed the constant parameters from the set_of_params. It's because PS_pkl contains that information."
   ]
  },
  {
   "cell_type": "code",
   "execution_count": null,
   "metadata": {
    "collapsed": true
   },
   "outputs": [],
   "source": [
    "from utils import calculate_chi2\n",
    "\n",
    "print(\"Constants: \", PS_pkl.constant_params)\n",
    "\n",
    "incomplete_params = [5.33031,  33.62651, 0.06558, 88.47247, 202.35109, 246.71734, 170.5195,\n",
    "                     11.60434, 73.48983, 0.19693, 88.84697, 61.90508,  121.72177 ] # 180.0]\n",
    "\n",
    "chi2 = calculate_chi2(incomplete_params, PS_pkl)\n",
    "print(\"chi2: \", chi2)"
   ]
  },
  {
   "cell_type": "markdown",
   "metadata": {},
   "source": [
    "### Additional notes:"
   ]
  },
  {
   "cell_type": "markdown",
   "metadata": {},
   "source": [
    "* Sometimes there will raise an \"Invalid proposal\" legend. It just indicates that calculate_epochs could not determine transits due to non-transiting planets, planetary ejection, etc. Don't worry about that except if that's the only notification you see. In that case, consider to inspect the planetary boundaries.\n",
    "\n"
   ]
  },
  {
   "cell_type": "markdown",
   "metadata": {},
   "source": [
    "## The End"
   ]
  }
 ],
 "metadata": {
  "anaconda-cloud": {},
  "kernelspec": {
   "display_name": "Python 3",
   "language": "python",
   "name": "python3"
  },
  "language_info": {
   "codemirror_mode": {
    "name": "ipython",
    "version": 3
   },
   "file_extension": ".py",
   "mimetype": "text/x-python",
   "name": "python",
   "nbconvert_exporter": "python",
   "pygments_lexer": "ipython3",
   "version": "3.7.3"
  }
 },
 "nbformat": 4,
 "nbformat_minor": 2
}
