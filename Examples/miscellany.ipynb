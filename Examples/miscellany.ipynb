{
 "cells": [
  {
   "cell_type": "markdown",
   "metadata": {},
   "source": [
    "# Miscellany"
   ]
  },
  {
   "cell_type": "markdown",
   "metadata": {},
   "source": [
    "Here we show extra features that could be useful when using nauyaca. For example, how can we go from planetary parameters to transit ephemeris? Or, how well is our planetary proposal fitted to our observations?\n",
    "\n",
    "As usual, let's import nauyaca and other useful packages"
   ]
  },
  {
   "cell_type": "code",
   "execution_count": 1,
   "metadata": {},
   "outputs": [],
   "source": [
    "import nauyaca as nau\n",
    "\n",
    "import numpy as np\n",
    "import matplotlib.pyplot as plt"
   ]
  },
  {
   "cell_type": "markdown",
   "metadata": {},
   "source": [
    "As in previous examples, let's load the Planetary System object from the 'simple_fit' example:"
   ]
  },
  {
   "cell_type": "code",
   "execution_count": 2,
   "metadata": {},
   "outputs": [
    {
     "name": "stdout",
     "output_type": "stream",
     "text": [
      "--> Parameter -mass- of planet -Planet-b- set to lower physical limit: 0.0123032 [M_earth]\n",
      "--> Parameter -ecc- of planet -Planet-b- set to lower physical limit: 1e-06  \n",
      "--> Parameter -mass- of planet -Planet-c- set to lower physical limit: 0.0123032 [M_earth]\n",
      "--> Parameter -ecc- of planet -Planet-c- set to lower physical limit: 1e-06  \n",
      "--> Parameter -mass- of planet -Planet-d- set to lower physical limit: 0.0123032 [M_earth]\n",
      "--> Parameter -ecc- of planet -Planet-d- set to lower physical limit: 1e-06  \n"
     ]
    }
   ],
   "source": [
    "PS = nau.PlanetarySystem.load_json('MySystem.json')"
   ]
  },
  {
   "cell_type": "markdown",
   "metadata": {},
   "source": [
    "Then, we have available all the features of our previously saved Planetary System"
   ]
  },
  {
   "cell_type": "markdown",
   "metadata": {},
   "source": [
    "For this example we will take 'the best' solution found by the optimizers. Remember that the solutions are saved int he normalized ('_cube.opt') and in the physical ('_phys') forms. Thus, we consider these two options in this example."
   ]
  },
  {
   "cell_type": "code",
   "execution_count": 3,
   "metadata": {},
   "outputs": [
    {
     "name": "stdout",
     "output_type": "stream",
     "text": [
      "Best solution in normalized form: \n",
      " [7.32493355e-07 2.14525482e-02 3.15328916e-01 2.55780738e-01\n",
      " 7.85204892e-01 5.74910704e-01 1.06059081e-01 5.55822044e-01\n",
      " 7.47407650e-01 3.73539429e-01 1.08635415e-01 9.23736346e-01\n",
      " 7.65077201e-01 5.07408490e-01 1.99628784e-01 4.41719213e-01\n",
      " 3.16442991e-01 9.35358279e-02]\n"
     ]
    }
   ],
   "source": [
    "# Normalized\n",
    "norm = np.genfromtxt('MySystem_cube.opt')\n",
    "\n",
    "# Take the uppermost solution\n",
    "norm = list(sorted(norm, key=lambda x: x[0]))[0][1:]\n",
    "\n",
    "print(\"Best solution in normalized form: \\n\", norm)"
   ]
  },
  {
   "cell_type": "code",
   "execution_count": 4,
   "metadata": {},
   "outputs": [
    {
     "name": "stdout",
     "output_type": "stream",
     "text": [
      "Best solution in physical form: \n",
      " [1.23105159e-02 1.04702145e+01 3.15335763e-02 1.94754827e+02\n",
      " 3.49407304e+02 9.44946422e+01 1.07158914e+00 1.41055582e+01\n",
      " 7.47410176e-02 8.87353943e+01 1.91653834e+02 2.46563665e+02\n",
      " 1.05904632e+02 5.08014535e+00 2.35719963e+01 4.41724796e-02\n",
      " 3.27592375e+02 2.60246579e+02]\n"
     ]
    }
   ],
   "source": [
    "# Physical\n",
    "phys = np.genfromtxt('MySystem_phys.opt')\n",
    "\n",
    "phys = list(sorted(phys, key=lambda x: x[0]))[0][1:]\n",
    "\n",
    "print(\"Best solution in physical form: \\n\", phys)"
   ]
  },
  {
   "cell_type": "markdown",
   "metadata": {},
   "source": [
    "But, what do these numbers mean? These are the planetary parameters of the first planet concatenated with the following planets. An easy way of inspect to which parameters they correspond is by typing:"
   ]
  },
  {
   "cell_type": "code",
   "execution_count": 5,
   "metadata": {},
   "outputs": [
    {
     "name": "stdout",
     "output_type": "stream",
     "text": [
      "mass1:   0.012310515921535191\n",
      "period1:   10.470214525481778\n",
      "ecc1:   0.031533576293718744\n",
      "argument1:   194.75482680676998\n",
      "mean_anomaly1:   349.40730446003886\n",
      "ascending_node1:   94.49464223965374\n",
      "mass2:   1.071589140030242\n",
      "period2:   14.105558220444854\n",
      "ecc2:   0.0747410175546862\n",
      "inclination2:   88.73539429139312\n",
      "argument2:   191.65383429540105\n",
      "mean_anomaly2:   246.56366482757\n",
      "ascending_node2:   105.90463208712441\n",
      "mass3:   5.0801453476139455\n",
      "period3:   23.571996287839653\n",
      "ecc3:   0.04417247958895941\n",
      "argument3:   327.59237478234684\n",
      "mean_anomaly3:   260.24657870922545\n"
     ]
    }
   ],
   "source": [
    "for i, param in enumerate(PS.params_names.split()):\n",
    "    print(f\"{param}:   {phys[i]}\")"
   ]
  },
  {
   "cell_type": "markdown",
   "metadata": {},
   "source": [
    "Now, it is easier to identify the solutions. Note that in this proposal, there are many planet parameters that do not appear. It's because they were settled as constants. If you want to see the constant parameters, type:"
   ]
  },
  {
   "cell_type": "code",
   "execution_count": 6,
   "metadata": {},
   "outputs": [
    {
     "name": "stdout",
     "output_type": "stream",
     "text": [
      "inclination1: 90.0\n",
      "inclination3: 90.3\n",
      "ascending_node3: 88.5\n"
     ]
    }
   ],
   "source": [
    "for c, value in PS.constant_params.items():\n",
    "    print(f\"{PS.params_names_all.split()[c]}: {value}\")"
   ]
  },
  {
   "cell_type": "markdown",
   "metadata": {},
   "source": [
    "**Note:** In many of the secondary functions of nauyaca, the solution array is needed in the physical form *including* the constant parameters. Thus, the user must be aware of providing adequate solutions arrays to these functions. In the following examples we will consider this."
   ]
  },
  {
   "cell_type": "markdown",
   "metadata": {},
   "source": [
    "# Converting from normalized to physical solutions\n",
    "\n",
    "Nauyaca internally works in the normalized form. Thus, converting back to physical values is a mandatory step at the end of the runs. For example, let's convert the best solution in the normalized form to the physical form:"
   ]
  },
  {
   "cell_type": "code",
   "execution_count": 7,
   "metadata": {},
   "outputs": [
    {
     "name": "stdout",
     "output_type": "stream",
     "text": [
      "Normalized solution: \n",
      " [7.32493355e-07 2.14525482e-02 3.15328916e-01 2.55780738e-01\n",
      " 7.85204892e-01 5.74910704e-01 1.06059081e-01 5.55822044e-01\n",
      " 7.47407650e-01 3.73539429e-01 1.08635415e-01 9.23736346e-01\n",
      " 7.65077201e-01 5.07408490e-01 1.99628784e-01 4.41719213e-01\n",
      " 3.16442991e-01 9.35358279e-02]\n",
      "length: 18\n",
      "\n",
      "Converted to physical solution: \n",
      " [1.23105159e-02 1.04702145e+01 3.15335763e-02 9.00000000e+01\n",
      " 1.94754827e+02 3.49407304e+02 9.44946422e+01 1.07158914e+00\n",
      " 1.41055582e+01 7.47410176e-02 8.87353943e+01 1.91653834e+02\n",
      " 2.46563665e+02 1.05904632e+02 5.08014535e+00 2.35719963e+01\n",
      " 4.41724796e-02 9.03000000e+01 3.27592375e+02 2.60246579e+02\n",
      " 8.85000000e+01]\n",
      "length: 21\n"
     ]
    }
   ],
   "source": [
    "print(\"Normalized solution: \\n\",norm)\n",
    "print(f\"length: {len(norm)}\")\n",
    "print()\n",
    "\n",
    "convert = nau.utils.cube_to_physical(PS, norm)\n",
    "\n",
    "print(\"Converted to physical solution: \\n\",convert)\n",
    "print(f\"length: {len(convert)}\")"
   ]
  },
  {
   "cell_type": "markdown",
   "metadata": {},
   "source": [
    "Note that after converting to physical, the solution array includes the constant parameter(s)! You can notice in the array length."
   ]
  },
  {
   "cell_type": "markdown",
   "metadata": {},
   "source": [
    "# Calculating $\\chi^2$"
   ]
  },
  {
   "cell_type": "markdown",
   "metadata": {},
   "source": [
    "Getting the statistical $\\chi^2$ of a set of planetary parameters is useful to quantify the goodness of the fit to our observed transit times. As mentioned before, the planetary parameters can be in the normalized or physical form. In both cases, the $\\chi^2$ is calculated accordingly with the -calculate_chi2- or -calculate_chi2_physical- functions,"
   ]
  },
  {
   "cell_type": "code",
   "execution_count": 8,
   "metadata": {},
   "outputs": [
    {
     "name": "stdout",
     "output_type": "stream",
     "text": [
      "1454.8246745794872\n"
     ]
    }
   ],
   "source": [
    "# From Normalized\n",
    "chi2 = nau.utils.calculate_chi2(norm, PS)\n",
    "\n",
    "print(chi2)"
   ]
  },
  {
   "cell_type": "code",
   "execution_count": 9,
   "metadata": {},
   "outputs": [
    {
     "name": "stdout",
     "output_type": "stream",
     "text": [
      "1454.8246745794872\n"
     ]
    }
   ],
   "source": [
    "# From Physical\n",
    "\n",
    "# Add the constant parameters\n",
    "chi2 = nau.utils.calculate_chi2_physical(phys, PS, \n",
    "                                         insert_constants=True)\n",
    "print(chi2)"
   ]
  },
  {
   "cell_type": "markdown",
   "metadata": {},
   "source": [
    "In the last case, we specify to the function that inserts the constant parameters, since -phys- variable doesn't include it."
   ]
  },
  {
   "cell_type": "markdown",
   "metadata": {},
   "source": [
    "Sometimes it's useful to get the individual $\\chi^2$ per planet,"
   ]
  },
  {
   "cell_type": "code",
   "execution_count": 10,
   "metadata": {},
   "outputs": [
    {
     "name": "stdout",
     "output_type": "stream",
     "text": [
      "{'Planet-b': 322.964375311465, 'Planet-c': 578.8579511487951, 'Planet-d': 553.0023481192272}\n"
     ]
    }
   ],
   "source": [
    "chi2 = nau.utils.calculate_chi2_physical(phys, PS, \n",
    "                                         insert_constants=True, \n",
    "                                         individual=True)\n",
    "print(chi2)"
   ]
  },
  {
   "cell_type": "markdown",
   "metadata": {},
   "source": [
    "Here, the total $\\chi^2$ is the sum of the individual ones."
   ]
  },
  {
   "cell_type": "markdown",
   "metadata": {},
   "source": [
    "# log-likelihood\n",
    "\n",
    "As before, it's possible to get the log-likelihood resulting from the transit times fitting. "
   ]
  },
  {
   "cell_type": "code",
   "execution_count": 11,
   "metadata": {},
   "outputs": [
    {
     "name": "stdout",
     "output_type": "stream",
     "text": [
      "-73.702039330204\n"
     ]
    }
   ],
   "source": [
    "# From normalized\n",
    "logl = nau.utils.log_likelihood_func(norm, PS)\n",
    "print(logl)"
   ]
  },
  {
   "cell_type": "markdown",
   "metadata": {},
   "source": [
    "To calculate log-likelihood from physical array, it's necessary to specify two other kwargs:"
   ]
  },
  {
   "cell_type": "code",
   "execution_count": 12,
   "metadata": {},
   "outputs": [
    {
     "name": "stdout",
     "output_type": "stream",
     "text": [
      "-73.702039330204\n"
     ]
    }
   ],
   "source": [
    "logl = nau.utils.log_likelihood_func(phys, PS, \n",
    "                                     cube=False,  # solution is not normalized, it's physical\n",
    "                                     insert_constants=True) # Ask for inserting the constants\n",
    "print(logl)"
   ]
  },
  {
   "cell_type": "markdown",
   "metadata": {},
   "source": [
    "In order to get individual log-likelihoods, write the functional form of the log-likelihood per planet, for example:"
   ]
  },
  {
   "cell_type": "code",
   "execution_count": 13,
   "metadata": {},
   "outputs": [
    {
     "data": {
      "text/plain": [
       "108.1790803013356"
      ]
     },
     "execution_count": 13,
     "metadata": {},
     "output_type": "execute_result"
    }
   ],
   "source": [
    "-0.5 * chi2['Planet-b'] - PS.second_term_logL['Planet-b']"
   ]
  },
  {
   "cell_type": "markdown",
   "metadata": {},
   "source": [
    "Remember that the log-likelihood is the sum of the individuals."
   ]
  },
  {
   "cell_type": "markdown",
   "metadata": {},
   "source": [
    "# Transit Ephemeris\n",
    "\n",
    "Given a set of planetary parameters, which are the expected mid-transit times over a fixed timespan? The planetary proposal are the initial conditions to run TTVFast, and then calculate the expected mid-transit times.\n",
    "\n",
    "It's done with the calculate_ephemeris function, which needs the planetary parameters in the physical form. Thus, normalized solutions must be converted. In this case the converted array have all the required dimensions,"
   ]
  },
  {
   "cell_type": "code",
   "execution_count": 14,
   "metadata": {},
   "outputs": [
    {
     "name": "stdout",
     "output_type": "stream",
     "text": [
      "length of the input array: 21\n",
      "\n",
      "Transit ephemeris: \n",
      "{'Planet-b': {0: 7.834475604915412, 1: 18.304922219075628, 2: 28.774916374291255, 3: 39.243546356471306, 4: 49.71244578176829, 5: 60.18125068275093, 6: 70.65035069583215, 7: 81.11914864465768, 8: 91.58772757962245, 9: 102.05644657384669, 10: 112.5251482846079, 11: 122.99312998968664, 12: 133.46149663096364, 13: 143.92962628111118, 14: 154.3989963142484, 15: 164.86814427792729, 16: 175.33840307970422, 17: 185.80761401417058, 18: 196.27971235655906, 19: 206.7503120058382, 20: 217.22122852677634, 21: 227.6915763298736, 22: 238.16486265330786, 23: 248.63609532116834, 24: 259.1080046612738, 25: 269.5800295844351, 26: 280.0530015876575, 27: 290.5248379040527, 28: 300.99648920493865, 29: 311.4674986761423, 30: 321.93864186754223, 31: 332.4094137507409, 32: 342.88029171822745, 33: 353.35106980999853, 34: 363.8212383557394, 35: 374.2908573717472, 36: 384.760758078219, 37: 395.23007176676094, 38: 405.69817676200404, 39: 416.1665561098613, 40: 426.63490036277227, 41: 437.1034831608881, 42: 447.5716587833855, 43: 458.0409463642609, 44: 468.50929105321626, 45: 478.9788560959887, 46: 489.44746101736627, 47: 499.91641830822016}, 'Planet-c': {0: 0.7938728151899662, 1: 14.89825695546656, 2: 29.004966342701987, 3: 43.112883607240974, 4: 57.22104171939081, 5: 71.32596470152643, 6: 85.42964574093403, 7: 99.53570536353773, 8: 113.642865501293, 9: 127.75004864955811, 10: 141.85456201111205, 11: 155.9578391329913, 12: 170.06351078775347, 13: 184.17019414232618, 14: 198.27668518863126, 15: 212.38106919338094, 16: 226.48430031290886, 17: 240.5898193668039, 18: 254.69627322950092, 19: 268.8024588763545, 20: 282.9070229639871, 21: 297.01054418301163, 22: 311.11625167735804, 23: 325.22276575801624, 24: 339.3289349145378, 25: 353.43397128105215, 26: 367.5381118973729, 27: 381.64419151825166, 28: 395.7509658065491, 29: 409.8573828463605, 30: 423.9630602649835, 31: 438.0679870492786, 32: 452.17456065057775, 33: 466.28169906271677, 34: 480.38845165228605, 35: 494.49483049835413}, 'Planet-d': {0: 14.262256711505035, 1: 37.833646077866575, 2: 61.40519438142806, 3: 84.97812992187907, 4: 108.54984464667464, 5: 132.12183448194656, 6: 155.69501349742134, 7: 179.26689998867883, 8: 202.8391550341813, 9: 226.41240208435937, 10: 249.98432570482225, 11: 273.5566803317607, 12: 297.1298374525489, 13: 320.70167874965136, 14: 344.27400245824776, 15: 367.84693846587663, 16: 391.4186084136811, 17: 414.9907934959388, 18: 438.56341863873, 19: 462.13485625920237, 20: 485.7068266865618}}\n"
     ]
    }
   ],
   "source": [
    "# Normalized\n",
    "parameters = nau.utils.cube_to_physical(PS, norm)\n",
    "print(f\"length of the input array: {len(parameters)}\")\n",
    "\n",
    "ephemeris = nau.utils.calculate_ephemeris(PS, parameters)\n",
    "\n",
    "print(\"\\nTransit ephemeris: \")\n",
    "print(ephemeris)"
   ]
  },
  {
   "cell_type": "markdown",
   "metadata": {},
   "source": [
    "When using physical values, the solution array must contain all the parameters, so it's necessary to insert them before. Use the _insert_constants function:"
   ]
  },
  {
   "cell_type": "code",
   "execution_count": 15,
   "metadata": {},
   "outputs": [
    {
     "name": "stdout",
     "output_type": "stream",
     "text": [
      "length of the input array: 21\n",
      "\n",
      "Transit ephemeris: \n",
      "{'Planet-b': {0: 7.834475604915412, 1: 18.304922219075628, 2: 28.774916374291255, 3: 39.243546356471306, 4: 49.71244578176829, 5: 60.18125068275093, 6: 70.65035069583215, 7: 81.11914864465768, 8: 91.58772757962245, 9: 102.05644657384669, 10: 112.5251482846079, 11: 122.99312998968664, 12: 133.46149663096364, 13: 143.92962628111118, 14: 154.3989963142484, 15: 164.86814427792729, 16: 175.33840307970422, 17: 185.80761401417058, 18: 196.27971235655906, 19: 206.7503120058382, 20: 217.22122852677634, 21: 227.6915763298736, 22: 238.16486265330786, 23: 248.63609532116834, 24: 259.1080046612738, 25: 269.5800295844351, 26: 280.0530015876575, 27: 290.5248379040527, 28: 300.99648920493865, 29: 311.4674986761423, 30: 321.93864186754223, 31: 332.4094137507409, 32: 342.88029171822745, 33: 353.35106980999853, 34: 363.8212383557394, 35: 374.2908573717472, 36: 384.760758078219, 37: 395.23007176676094, 38: 405.69817676200404, 39: 416.1665561098613, 40: 426.63490036277227, 41: 437.1034831608881, 42: 447.5716587833855, 43: 458.0409463642609, 44: 468.50929105321626, 45: 478.9788560959887, 46: 489.44746101736627, 47: 499.91641830822016}, 'Planet-c': {0: 0.7938728151899662, 1: 14.89825695546656, 2: 29.004966342701987, 3: 43.112883607240974, 4: 57.22104171939081, 5: 71.32596470152643, 6: 85.42964574093403, 7: 99.53570536353773, 8: 113.642865501293, 9: 127.75004864955811, 10: 141.85456201111205, 11: 155.9578391329913, 12: 170.06351078775347, 13: 184.17019414232618, 14: 198.27668518863126, 15: 212.38106919338094, 16: 226.48430031290886, 17: 240.5898193668039, 18: 254.69627322950092, 19: 268.8024588763545, 20: 282.9070229639871, 21: 297.01054418301163, 22: 311.11625167735804, 23: 325.22276575801624, 24: 339.3289349145378, 25: 353.43397128105215, 26: 367.5381118973729, 27: 381.64419151825166, 28: 395.7509658065491, 29: 409.8573828463605, 30: 423.9630602649835, 31: 438.0679870492786, 32: 452.17456065057775, 33: 466.28169906271677, 34: 480.38845165228605, 35: 494.49483049835413}, 'Planet-d': {0: 14.262256711505035, 1: 37.833646077866575, 2: 61.40519438142806, 3: 84.97812992187907, 4: 108.54984464667464, 5: 132.12183448194656, 6: 155.69501349742134, 7: 179.26689998867883, 8: 202.8391550341813, 9: 226.41240208435937, 10: 249.98432570482225, 11: 273.5566803317607, 12: 297.1298374525489, 13: 320.70167874965136, 14: 344.27400245824776, 15: 367.84693846587663, 16: 391.4186084136811, 17: 414.9907934959388, 18: 438.56341863873, 19: 462.13485625920237, 20: 485.7068266865618}}\n"
     ]
    }
   ],
   "source": [
    "# Insert constant parameters to physical array\n",
    "parameters = nau.utils._insert_constants(PS, phys)\n",
    "print(f\"length of the input array: {len(parameters)}\")\n",
    "\n",
    "ephemeris = nau.utils.calculate_ephemeris(PS, parameters)\n",
    "\n",
    "print(\"\\nTransit ephemeris: \")\n",
    "print(ephemeris)"
   ]
  },
  {
   "cell_type": "markdown",
   "metadata": {},
   "source": [
    "whichever form you use, the results are the same. Let's see for example the TTVs from these transit times. To do so, we make a linear regression over the transit ephemeris per planet. The following code shows an example"
   ]
  },
  {
   "cell_type": "code",
   "execution_count": 16,
   "metadata": {},
   "outputs": [
    {
     "data": {
      "text/plain": [
       "Text(0, 0.5, 'TTVs [min]')"
      ]
     },
     "execution_count": 16,
     "metadata": {},
     "output_type": "execute_result"
    },
    {
     "data": {
      "image/png": "[encoded data removed]",
      "text/plain": [
       "<Figure size 720x360 with 1 Axes>"
      ]
     },
     "metadata": {
      "needs_background": "light"
     },
     "output_type": "display_data"
    }
   ],
   "source": [
    "mins=1440.\n",
    "\n",
    "plt.figure(figsize=(10,5))\n",
    "for planet in PS.planets_IDs:\n",
    "    \n",
    "    # Data\n",
    "    data = PS.TTVs[planet]\n",
    "    data = {k:v[0] for k,v in data.items()}\n",
    "\n",
    "    x, y, model = nau.Plots._calculate_model(data)\n",
    "    plt.scatter(y, (y - model.predict(x))*mins, label=planet)\n",
    "\n",
    "    # TTVs from ephemeris\n",
    "    x, y, model = nau.Plots._calculate_model(ephemeris[planet])\n",
    "    plt.plot(y, (y - model.predict(x))*mins )\n",
    "\n",
    "plt.legend()\n",
    "plt.xlabel('Time [d]')\n",
    "plt.ylabel('TTVs [min]')"
   ]
  },
  {
   "cell_type": "markdown",
   "metadata": {},
   "source": [
    "# Common mistakes or warnings\n",
    "\n",
    "Sometimes errors could arise if the nauyaca functions cannot deal with the planetary parameters or prevents of getting spurious results."
   ]
  },
  {
   "cell_type": "markdown",
   "metadata": {},
   "source": [
    "### Unable to calculate transit times"
   ]
  },
  {
   "cell_type": "markdown",
   "metadata": {},
   "source": [
    "As in the previous cells, suppose we have a planetary proposal and we want to get the transit ephemeris. Note that the proposal follows the same rule: planetary of the first planet concatenated with the following planet parameters:"
   ]
  },
  {
   "cell_type": "code",
   "execution_count": 17,
   "metadata": {},
   "outputs": [
    {
     "data": {
      "text/plain": [
       "'mass1  period1  ecc1  argument1  mean_anomaly1  ascending_node1  mass2  period2  ecc2  inclination2  argument2  mean_anomaly2  ascending_node2  mass3  period3  ecc3  argument3  mean_anomaly3'"
      ]
     },
     "execution_count": 17,
     "metadata": {},
     "output_type": "execute_result"
    }
   ],
   "source": [
    "PS.params_names"
   ]
  },
  {
   "cell_type": "markdown",
   "metadata": {},
   "source": [
    "For which we include parameters in the same order:"
   ]
  },
  {
   "cell_type": "code",
   "execution_count": 18,
   "metadata": {},
   "outputs": [],
   "source": [
    "# Units are: Earth mass, days and degrees\n",
    "\n",
    "#              mass period ecc inc argument mean_anomaly ascending_node\n",
    "my_proposal = [  0.074, 10.471, 0.043,     256.107, 285.721, 100.876, # Planet-b\n",
    "                 2.132, 14.105, 0.042, 95, 216.437, 217.132, 102.326, # Planet-c\n",
    "                 0.746, 23.575, 0.019,     355.447, 234.697        ]  # Planet-d"
   ]
  },
  {
   "cell_type": "markdown",
   "metadata": {},
   "source": [
    "Note that in this proposal, there are missing parameters, which correspond to the fixed inclinations 1 and 3, and ascending node 3. As before, let's calculate the transit ephemeris for this proposal:"
   ]
  },
  {
   "cell_type": "code",
   "execution_count": 19,
   "metadata": {},
   "outputs": [
    {
     "ename": "SystemExit",
     "evalue": "flat_params do not contains the necessary elements. Seven parameters per planet must be given",
     "output_type": "error",
     "traceback": [
      "An exception has occurred, use %tb to see the full traceback.\n",
      "\u001b[0;31mSystemExit\u001b[0m\u001b[0;31m:\u001b[0m flat_params do not contains the necessary elements. Seven parameters per planet must be given\n"
     ]
    }
   ],
   "source": [
    "nau.utils.calculate_ephemeris(PS, my_proposal)"
   ]
  },
  {
   "cell_type": "markdown",
   "metadata": {},
   "source": [
    "It indicates that my_proposal is incomplete, since it is missing the constant parameters. Thus, we need to include them,"
   ]
  },
  {
   "cell_type": "code",
   "execution_count": 20,
   "metadata": {},
   "outputs": [
    {
     "data": {
      "text/plain": [
       "{'Planet-b': {0: 7.835981500756427,\n",
       "  1: 18.30741887648973,\n",
       "  2: 28.778492707965658,\n",
       "  3: 39.24784346514784,\n",
       "  4: 49.71784007431586,\n",
       "  5: 60.18765700646469,\n",
       "  6: 70.6581322645576,\n",
       "  7: 81.12625975350286,\n",
       "  8: 91.59524925360496,\n",
       "  9: 102.06382954085565,\n",
       "  10: 112.53428608182483,\n",
       "  11: 123.001864647576,\n",
       "  12: 133.47041738952169,\n",
       "  13: 143.93830289620308,\n",
       "  14: 154.40944478930817,\n",
       "  15: 164.8774742566369,\n",
       "  16: 175.34651909082197,\n",
       "  17: 185.81462312930066,\n",
       "  18: 196.28760162857245,\n",
       "  19: 206.75724161642046,\n",
       "  20: 217.2277444775718,\n",
       "  21: 227.69719637525154,\n",
       "  22: 238.1728510620765,\n",
       "  23: 248.6449083659708,\n",
       "  24: 259.1176317288403,\n",
       "  25: 269.58933333542205,\n",
       "  26: 280.0653094937793,\n",
       "  27: 290.5383864960483,\n",
       "  28: 301.0118793376306,\n",
       "  29: 311.4843980875243,\n",
       "  30: 321.9571054568434,\n",
       "  31: 332.42901645597163,\n",
       "  32: 342.9011282366696,\n",
       "  33: 353.37259369267423,\n",
       "  34: 363.84268307590906,\n",
       "  35: 374.313137045285,\n",
       "  36: 384.7835562038574,\n",
       "  37: 395.2541687408742,\n",
       "  38: 405.7226548235206,\n",
       "  39: 416.19194782913246,\n",
       "  40: 426.66092027762966,\n",
       "  41: 437.13133731723974,\n",
       "  42: 447.599010193649,\n",
       "  43: 458.0677103768342,\n",
       "  44: 468.5357581855507,\n",
       "  45: 479.0065931789098,\n",
       "  46: 489.47434704634907,\n",
       "  47: 499.9431004228759},\n",
       " 'Planet-c': {},\n",
       " 'Planet-d': {0: 14.256071046876869,\n",
       "  1: 37.83006306509735,\n",
       "  2: 61.40309568626705,\n",
       "  3: 84.97788586323585,\n",
       "  4: 108.55048941432587,\n",
       "  5: 132.1222721863013,\n",
       "  6: 155.69575928444172,\n",
       "  7: 179.2669481613318,\n",
       "  8: 202.83748723641165,\n",
       "  9: 226.40967573212586,\n",
       "  10: 249.97953522131377,\n",
       "  11: 273.548900826094,\n",
       "  12: 297.11984432023496,\n",
       "  13: 320.68857165450356,\n",
       "  14: 344.2569494186416,\n",
       "  15: 367.8267741770941,\n",
       "  16: 391.3946302830308,\n",
       "  17: 414.96230148441106,\n",
       "  18: 438.5312451563062,\n",
       "  19: 462.0985615021105,\n",
       "  20: 485.66585840747007}}"
      ]
     },
     "execution_count": 20,
     "metadata": {},
     "output_type": "execute_result"
    }
   ],
   "source": [
    "my_proposal = nau.utils._insert_constants(PS, my_proposal)\n",
    "\n",
    "nau.utils.calculate_ephemeris(PS, my_proposal)"
   ]
  },
  {
   "cell_type": "markdown",
   "metadata": {},
   "source": [
    "Note that even though we include the constant parameter, the resulting ephemeris have empty data for Planet-c! Why is that? It means that transit times cannot be computed. This can be for many reasons but mainly because the planets do not transit the star. It can be seen that Planet-c have an incliation of 95 deg. Physically it means that the planet crosses above the stellar disk, and thus transit times are not computed. A similar case may accur if Planet-c has an inclination of 85 deg. Try changing these values to corroborate. \n",
    "\n",
    "Anyway, with these ephemeris it is impossible to calculate the $\\chi^2$ or log-likelihood properly. In this case, the $\\chi^2$ computation returns a high value (>1e+20),"
   ]
  },
  {
   "cell_type": "code",
   "execution_count": 21,
   "metadata": {},
   "outputs": [
    {
     "data": {
      "text/plain": [
       "3.6e+21"
      ]
     },
     "execution_count": 21,
     "metadata": {},
     "output_type": "execute_result"
    }
   ],
   "source": [
    "nau.utils.calculate_chi2_physical(my_proposal, PS)"
   ]
  },
  {
   "cell_type": "markdown",
   "metadata": {},
   "source": [
    "And the log-likelihood is undefined:"
   ]
  },
  {
   "cell_type": "code",
   "execution_count": 22,
   "metadata": {},
   "outputs": [
    {
     "data": {
      "text/plain": [
       "-inf"
      ]
     },
     "execution_count": 22,
     "metadata": {},
     "output_type": "execute_result"
    }
   ],
   "source": [
    "nau.utils.log_likelihood_func(my_proposal, PS, \n",
    "                                     cube=False)"
   ]
  },
  {
   "cell_type": "markdown",
   "metadata": {},
   "source": [
    "Thus, it means that the proposal is not physically suitable to compute ephemeris and the statistics. Let's change the inclination of this planet to corroborate that this was the source of error:"
   ]
  },
  {
   "cell_type": "code",
   "execution_count": 23,
   "metadata": {},
   "outputs": [
    {
     "data": {
      "text/plain": [
       "7334.522365349892"
      ]
     },
     "execution_count": 23,
     "metadata": {},
     "output_type": "execute_result"
    }
   ],
   "source": [
    "#              mass period ecc inc argument mean_anomaly ascending_node\n",
    "my_proposal = [  0.074, 10.471, 0.043,     256.107, 285.721, 100.876, # Planet-b\n",
    "                 2.132, 14.105, 0.042, 90, 216.437, 217.132, 102.326, # Planet-c\n",
    "                 0.746, 23.575, 0.019,     355.447, 234.697        ]  # Planet-d\n",
    "\n",
    "my_proposal = nau.utils._insert_constants(PS, my_proposal)\n",
    "\n",
    "nau.utils.calculate_chi2_physical(my_proposal, PS)"
   ]
  },
  {
   "cell_type": "markdown",
   "metadata": {},
   "source": [
    "A similar problem could arise if any other parameters make the planets not transiting."
   ]
  },
  {
   "cell_type": "markdown",
   "metadata": {},
   "source": [
    "### The reference time"
   ]
  },
  {
   "cell_type": "markdown",
   "metadata": {},
   "source": [
    "Planetary proposals (and the osculating elements) must be referenced to a reference time $t_0$. This time is properly chosen by nauyaca according to the planet ephemeris. For example, let's suppose we are building a Planetary System with the following data:"
   ]
  },
  {
   "cell_type": "code",
   "execution_count": 24,
   "metadata": {},
   "outputs": [],
   "source": [
    "planet_b = nau.SetPlanet('Pb')\n",
    "planet_b.ttvs_data = {0: [7.837611, 0.001449, 0.001449],\n",
    "                      1: [18.306097, 0.001449, 0.001449],\n",
    "                      2: [28.777887, 0.001449, 0.001449]}\n",
    "planet_b.ascending_node = [0,0]"
   ]
  },
  {
   "cell_type": "code",
   "execution_count": 25,
   "metadata": {},
   "outputs": [],
   "source": [
    "planet_c = nau.SetPlanet('Pc')\n",
    "\n",
    "planet_c.ttvs_data = {0: [0.798024, 0.000461, 0.000461],\n",
    "                      1: [14.902375, 0.000461, 0.000461],\n",
    "                      2: [29.0078, 0.000461, 0.000461]}\n"
   ]
  },
  {
   "cell_type": "code",
   "execution_count": 26,
   "metadata": {},
   "outputs": [
    {
     "name": "stdout",
     "output_type": "stream",
     "text": [
      "--> Upper mass boundary for planet -Pb- has been set to 1.0% of stellar mass: 1737.9785288725252 [M_earth]\n",
      "--> Upper mass boundary for planet -Pc- has been set to 1.0% of stellar mass: 1737.9785288725252 [M_earth]\n",
      "0.0\n"
     ]
    }
   ],
   "source": [
    "system = nau.PlanetarySystem('System', mstar=0.522, rstar=0.4422)\n",
    "system.add_planets([planet_b, planet_c])\n",
    "print(system.t0)"
   ]
  },
  {
   "cell_type": "markdown",
   "metadata": {},
   "source": [
    "In this case, $t_0$ is chosen by rounding down the smallest transit time in the ephemeris, corresponding to 0.798024 (days) for Planet-b. What if we have transit times measured in Baricentric Julian Days? for example: "
   ]
  },
  {
   "cell_type": "code",
   "execution_count": 27,
   "metadata": {},
   "outputs": [
    {
     "name": "stdout",
     "output_type": "stream",
     "text": [
      "--> Upper mass boundary for planet -Pb- has been set to 1.0% of stellar mass: 1737.9785288725252 [M_earth]\n",
      "--> Upper mass boundary for planet -Pc- has been set to 1.0% of stellar mass: 1737.9785288725252 [M_earth]\n",
      "2458690.0\n"
     ]
    }
   ],
   "source": [
    "planet_b = nau.SetPlanet('Pb')\n",
    "planet_b.ttvs_data = {0: [2458697.837611, 0.001449, 0.001449],\n",
    "                      1: [2458708.306097, 0.001449, 0.001449],\n",
    "                      2: [2458718.777887, 0.001449, 0.001449]}\n",
    "planet_b.ascending_node = [0,0]\n",
    "planet_c = nau.SetPlanet('Pc')\n",
    "\n",
    "planet_c.ttvs_data = {0: [2458690.798024, 0.000461, 0.000461],\n",
    "                      1: [2458704.902375, 0.000461, 0.000461],\n",
    "                      2: [2458719.0078, 0.000461, 0.000461]}\n",
    "system = nau.PlanetarySystem('System', mstar=0.522, rstar=0.4422)\n",
    "system.add_planets([planet_b, planet_c])\n",
    "print(system.t0)"
   ]
  },
  {
   "cell_type": "markdown",
   "metadata": {},
   "source": [
    "In this case, the reference time is 2458690.0 [BJD]. Thus, in order to set a valid $t_0$, the planet's ephemeris must be **referenced to the same** time! Otherwise the transit times will be out of phase and we'll get spurious results. \n",
    "\n",
    "Choosing your own reference time is also allowes as long as the selectet $t_0$ is inside predefined limits calculated by nauyaca. For example, from the system above, let's change the reference time through the simulation function:"
   ]
  },
  {
   "cell_type": "code",
   "execution_count": 28,
   "metadata": {},
   "outputs": [
    {
     "ename": "ValueError",
     "evalue": "-t0- must be greater than 2458687.369125 and lower than the first transit time 2458690.798024, to avoid spurious results. ",
     "output_type": "error",
     "traceback": [
      "\u001b[0;31m---------------------------------------------------------------------------\u001b[0m",
      "\u001b[0;31mValueError\u001b[0m                                Traceback (most recent call last)",
      "\u001b[0;32m<ipython-input-28-8c4410ccc314>\u001b[0m in \u001b[0;36m<module>\u001b[0;34m\u001b[0m\n\u001b[0;32m----> 1\u001b[0;31m \u001b[0msystem\u001b[0m\u001b[0;34m.\u001b[0m\u001b[0msimulation\u001b[0m\u001b[0;34m(\u001b[0m\u001b[0mt0\u001b[0m\u001b[0;34m=\u001b[0m\u001b[0;36m2458600\u001b[0m\u001b[0;34m)\u001b[0m\u001b[0;34m\u001b[0m\u001b[0;34m\u001b[0m\u001b[0m\n\u001b[0m",
      "\u001b[0;32m~/nauyaca/nauyaca/planetarysystem.py\u001b[0m in \u001b[0;36msimulation\u001b[0;34m(self, t0, ftime, dt)\u001b[0m\n\u001b[1;32m    286\u001b[0m             raise ValueError(f\"-t0- must be greater than {min_t0} and \" +\\\n\u001b[1;32m    287\u001b[0m                 \u001b[0;34mf\"lower than the first transit time {first_central_time}, \"\u001b[0m \u001b[0;34m+\u001b[0m\u001b[0;31m\\\u001b[0m\u001b[0;34m\u001b[0m\u001b[0;34m\u001b[0m\u001b[0m\n\u001b[0;32m--> 288\u001b[0;31m                 \"to avoid spurious results. \")\n\u001b[0m\u001b[1;32m    289\u001b[0m \u001b[0;34m\u001b[0m\u001b[0m\n\u001b[1;32m    290\u001b[0m         \u001b[0;31m# Set ftime: total time of TTVs simulations [days]\u001b[0m\u001b[0;34m\u001b[0m\u001b[0;34m\u001b[0m\u001b[0;34m\u001b[0m\u001b[0m\n",
      "\u001b[0;31mValueError\u001b[0m: -t0- must be greater than 2458687.369125 and lower than the first transit time 2458690.798024, to avoid spurious results. "
     ]
    }
   ],
   "source": [
    "system.simulation(t0=2458600)"
   ]
  },
  {
   "cell_type": "markdown",
   "metadata": {},
   "source": [
    "We obtain a message saying to us that the selected reference time is not allowed. Note that we tried to change $t_0$ to 2458600, which is ~90 days $before$ the first transit in the ephemeris! In the meantime, a lot of transits could occur! Nauyaca tries to minimize the required computational simulation timespan by giving a range of valid $t_0$. For this example, the $t_0$ can be in a range of ~3.4 days before the first transit. This range considers the orbital period of the planets to avoid getting simulated transits before the first observed transit. I recommend using an intermediate $t_0$ in that range to ensure the well-functioning of the simulations, for example:"
   ]
  },
  {
   "cell_type": "code",
   "execution_count": 29,
   "metadata": {},
   "outputs": [
    {
     "data": {
      "text/plain": [
       "2458689"
      ]
     },
     "execution_count": 29,
     "metadata": {},
     "output_type": "execute_result"
    }
   ],
   "source": [
    "system.simulation(t0=2458689)\n",
    "\n",
    "system.t0"
   ]
  },
  {
   "cell_type": "markdown",
   "metadata": {},
   "source": [
    "Sometimes we can find transit epochs (the integers showing the transit order) labeled erroneously. Nauyaca needs the transit epochs to be labeled starting from 0, at least for one planet. From the previous created system, note that both planets have the first transit epoch labeled with 0. Let's change these epochs:"
   ]
  },
  {
   "cell_type": "code",
   "execution_count": 30,
   "metadata": {},
   "outputs": [
    {
     "name": "stdout",
     "output_type": "stream",
     "text": [
      "--> Upper mass boundary for planet -Pb- has been set to 1.0% of stellar mass: 1737.9785288725252 [M_earth]\n",
      "--> Upper mass boundary for planet -Pc- has been set to 1.0% of stellar mass: 1737.9785288725252 [M_earth]\n"
     ]
    },
    {
     "ename": "SystemExit",
     "evalue": "TTVs ephemeris do not have at least one transit epoch labeled with 0. Relabel the ephemeris transit epochs to match the first transit with epoch 0. The first transit must occur after t0. See documentation for details.",
     "output_type": "error",
     "traceback": [
      "An exception has occurred, use %tb to see the full traceback.\n",
      "\u001b[0;31mSystemExit\u001b[0m\u001b[0;31m:\u001b[0m TTVs ephemeris do not have at least one transit epoch labeled with 0. Relabel the ephemeris transit epochs to match the first transit with epoch 0. The first transit must occur after t0. See documentation for details.\n"
     ]
    }
   ],
   "source": [
    "planet_b = nau.SetPlanet('Pb')\n",
    "planet_b.ttvs_data = {1: [2458697.837611, 0.001449, 0.001449],\n",
    "                      2: [2458708.306097, 0.001449, 0.001449],\n",
    "                      3: [2458718.777887, 0.001449, 0.001449]}\n",
    "planet_b.ascending_node = [0,0]\n",
    "planet_c = nau.SetPlanet('Pc')\n",
    "\n",
    "planet_c.ttvs_data = {1: [2458690.798024, 0.000461, 0.000461],\n",
    "                      2: [2458704.902375, 0.000461, 0.000461],\n",
    "                      3: [2458719.0078, 0.000461, 0.000461]}\n",
    "system = nau.PlanetarySystem('System', mstar=0.522, rstar=0.4422)\n",
    "system.add_planets([planet_b, planet_c])"
   ]
  },
  {
   "cell_type": "markdown",
   "metadata": {},
   "source": [
    "Here, the legend says to us that the planets are uncorrectly labeled. Thus, the user have to relabel the transit epochs starting from 0. \n",
    "\n",
    "What if we couldn't measure the first transit in one of our planets? Well, in this case, starting from epoch 1 is valid for that planet as long as the other planet is correctly labeled. For example, if we missed the first transit of planet c, then the ephemeris must be:"
   ]
  },
  {
   "cell_type": "code",
   "execution_count": 31,
   "metadata": {},
   "outputs": [
    {
     "name": "stdout",
     "output_type": "stream",
     "text": [
      "--> Upper mass boundary for planet -Pb- has been set to 1.0% of stellar mass: 1737.9785288725252 [M_earth]\n",
      "--> Upper mass boundary for planet -Pc- has been set to 1.0% of stellar mass: 1737.9785288725252 [M_earth]\n",
      "2458697.0\n"
     ]
    }
   ],
   "source": [
    "planet_b = nau.SetPlanet('Pb')\n",
    "planet_b.ttvs_data = {0: [2458697.837611, 0.001449, 0.001449], \n",
    "                      1: [2458708.306097, 0.001449, 0.001449],\n",
    "                      2: [2458718.777887, 0.001449, 0.001449]}\n",
    "planet_b.ascending_node = [0,0]\n",
    "planet_c = nau.SetPlanet('Pc')\n",
    "\n",
    "planet_c.ttvs_data = {  # missing transit,\n",
    "                      1: [2458704.902375, 0.000461, 0.000461],\n",
    "                      2: [2458719.0078, 0.000461, 0.000461]}\n",
    "system = nau.PlanetarySystem('System', mstar=0.522, rstar=0.4422)\n",
    "system.add_planets([planet_b, planet_c])\n",
    "print(system.t0)"
   ]
  },
  {
   "cell_type": "markdown",
   "metadata": {},
   "source": [
    "Where is seen that the reference time is adapted to the new ephemeris."
   ]
  },
  {
   "cell_type": "markdown",
   "metadata": {},
   "source": [
    "# Adapting constants in nauyaca"
   ]
  },
  {
   "cell_type": "markdown",
   "metadata": {},
   "source": [
    "Nauyaca has default constants incorpored to manage the exploration of many kinds of planets. Sometimes we'll need to change these default values. One option is to manually changing the constants.py file in the nauyaca package. The other option is by changing the required constants in line. For example, the default period boundaries encompass from 0.1 up to 1000 days. This default range could be unsuitable to study ultra-short period planets (USPs) or planets in very wide orbits. From the example above, we see that the default boundaries are:"
   ]
  },
  {
   "cell_type": "code",
   "execution_count": 32,
   "metadata": {},
   "outputs": [
    {
     "name": "stdout",
     "output_type": "stream",
     "text": [
      "mass1: (0.0123032, 1737.9785288725252)\n",
      "period1: (0.1, 1000.0)\n",
      "ecc1: (1e-06, 0.9)\n",
      "inclination1: (0.0, 180.0)\n",
      "argument1: (0.0, 360)\n",
      "mean_anomaly1: (0.0, 360)\n",
      "mass2: (0.0123032, 1737.9785288725252)\n",
      "period2: (0.1, 1000.0)\n",
      "ecc2: (1e-06, 0.9)\n",
      "inclination2: (0.0, 180.0)\n",
      "argument2: (0.0, 360)\n",
      "mean_anomaly2: (0.0, 360)\n",
      "ascending_node2: (0.0, 360.0)\n"
     ]
    }
   ],
   "source": [
    "for i, p in enumerate(system.params_names.split()):\n",
    "    print(f\"{p}: {system.bounds[i]}\")"
   ]
  },
  {
   "cell_type": "markdown",
   "metadata": {},
   "source": [
    "Changing the default boundaries for periods is achieved by typing:"
   ]
  },
  {
   "cell_type": "code",
   "execution_count": 33,
   "metadata": {},
   "outputs": [],
   "source": [
    "nau.constants.physical_bounds['period'] = [0.01, 2000]"
   ]
  },
  {
   "cell_type": "markdown",
   "metadata": {},
   "source": [
    "After setting all the new constants, we need to create the planetary system again in order to take effect:"
   ]
  },
  {
   "cell_type": "code",
   "execution_count": 34,
   "metadata": {},
   "outputs": [
    {
     "name": "stdout",
     "output_type": "stream",
     "text": [
      "--> Upper mass boundary for planet -Pb- has been set to 1.0% of stellar mass: 1737.9785288725252 [M_earth]\n",
      "--> Upper mass boundary for planet -Pc- has been set to 1.0% of stellar mass: 1737.9785288725252 [M_earth]\n",
      "\n",
      " =========== Planetary System Summary =========== \n",
      "\n",
      "System: System\n",
      "Mstar: 0.522 Msun |  Rstar: 0.4422 Rsun\n",
      "Number of planets: 2\n",
      "Planet information:\n",
      "------\n",
      "Planet1: Pb\n",
      "  Boundaries:\n",
      "    mass: (0.0123032, 1737.9785288725252)  [M_earth]\n",
      "    period: (0.01, 2000)  [d]\n",
      "    ecc: (1e-06, 0.9)   \n",
      "    inclination: (0.0, 180.0)  [deg]\n",
      "    argument: (0.0, 360)  [deg]\n",
      "    mean_anomaly: (0.0, 360)  [deg]\n",
      "    ascending_node: (0.0, 0)  [deg]\n",
      "  TTVs: True\n",
      "------\n",
      "Planet2: Pc\n",
      "  Boundaries:\n",
      "    mass: (0.0123032, 1737.9785288725252)  [M_earth]\n",
      "    period: (0.01, 2000)  [d]\n",
      "    ecc: (1e-06, 0.9)   \n",
      "    inclination: (0.0, 180.0)  [deg]\n",
      "    argument: (0.0, 360)  [deg]\n",
      "    mean_anomaly: (0.0, 360)  [deg]\n",
      "    ascending_node: (0.0, 360.0)  [deg]\n",
      "  TTVs: True\n",
      "\n",
      "Simulation attributes: \n",
      "Reference epoch of the solutions (t0): 2458697.0 [JD]\n",
      "Total time of TTVs data (ftime): 2458720.0 [days]\n",
      "Timestep of the simulations (dt): 0.34895 [days]\n"
     ]
    }
   ],
   "source": [
    "planet_b = nau.SetPlanet('Pb')\n",
    "planet_b.ttvs_data = {0: [2458697.837611, 0.001449, 0.001449], \n",
    "                      1: [2458708.306097, 0.001449, 0.001449],\n",
    "                      2: [2458718.777887, 0.001449, 0.001449]}\n",
    "planet_b.ascending_node = [0,0]\n",
    "\n",
    "planet_c = nau.SetPlanet('Pc')\n",
    "planet_c.ttvs_data = {  # missing transit,\n",
    "                      1: [2458704.902375, 0.000461, 0.000461],\n",
    "                      2: [2458719.0078, 0.000461, 0.000461]}\n",
    "system = nau.PlanetarySystem('System', mstar=0.522, rstar=0.4422)\n",
    "system.add_planets([planet_b, planet_c])\n",
    "print(system)"
   ]
  },
  {
   "cell_type": "markdown",
   "metadata": {},
   "source": [
    "Where is seen that the new period boundaries are updated. Now, we can study USPs."
   ]
  },
  {
   "cell_type": "markdown",
   "metadata": {},
   "source": [
    "### Other constants \n",
    "\n",
    "Change other minor default values."
   ]
  },
  {
   "cell_type": "code",
   "execution_count": 35,
   "metadata": {},
   "outputs": [
    {
     "data": {
      "text/plain": [
       "{0: 'red',\n",
       " 1: 'olive',\n",
       " 2: 'skyblue',\n",
       " 3: 'gold',\n",
       " 4: 'teal',\n",
       " 5: 'orange',\n",
       " 6: 'purple'}"
      ]
     },
     "execution_count": 35,
     "metadata": {},
     "output_type": "execute_result"
    }
   ],
   "source": [
    "# The colors used in the Plots module. If you simulate more than 7 planets (wow!), \n",
    "# then you have to include more colors\n",
    "nau.constants.colors"
   ]
  },
  {
   "cell_type": "code",
   "execution_count": 36,
   "metadata": {},
   "outputs": [
    {
     "data": {
      "text/plain": [
       "['[M_earth]', '[d]', ' ', '[deg]', '[deg]', '[deg]', '[deg]']"
      ]
     },
     "execution_count": 36,
     "metadata": {},
     "output_type": "execute_result"
    }
   ],
   "source": [
    "# The units of the labels\n",
    "nau.constants.units"
   ]
  },
  {
   "cell_type": "markdown",
   "metadata": {},
   "source": [
    "For example, let's change the summary of the planetary system:"
   ]
  },
  {
   "cell_type": "code",
   "execution_count": 37,
   "metadata": {},
   "outputs": [],
   "source": [
    "nau.constants.units[1] = '[DAYS]'\n",
    "nau.constants.units[3] = '[°]'\n",
    "nau.constants.units[4] = '[°]'\n",
    "nau.constants.units[5] = '[degrees]'\n",
    "nau.constants.units[6] = '[°]'"
   ]
  },
  {
   "cell_type": "code",
   "execution_count": 38,
   "metadata": {},
   "outputs": [
    {
     "name": "stdout",
     "output_type": "stream",
     "text": [
      "--> Upper mass boundary for planet -Pb- has been set to 1.0% of stellar mass: 1737.9785288725252 [M_earth]\n",
      "--> Upper mass boundary for planet -Pc- has been set to 1.0% of stellar mass: 1737.9785288725252 [M_earth]\n",
      "\n",
      " =========== Planetary System Summary =========== \n",
      "\n",
      "System: System\n",
      "Mstar: 0.522 Msun |  Rstar: 0.4422 Rsun\n",
      "Number of planets: 2\n",
      "Planet information:\n",
      "------\n",
      "Planet1: Pb\n",
      "  Boundaries:\n",
      "    mass: (0.0123032, 1737.9785288725252)  [M_earth]\n",
      "    period: (0.01, 2000)  [DAYS]\n",
      "    ecc: (1e-06, 0.9)   \n",
      "    inclination: (0.0, 180.0)  [°]\n",
      "    argument: (0.0, 360)  [°]\n",
      "    mean_anomaly: (0.0, 360)  [degrees]\n",
      "    ascending_node: (0.0, 0)  [°]\n",
      "  TTVs: True\n",
      "------\n",
      "Planet2: Pc\n",
      "  Boundaries:\n",
      "    mass: (0.0123032, 1737.9785288725252)  [M_earth]\n",
      "    period: (0.01, 2000)  [DAYS]\n",
      "    ecc: (1e-06, 0.9)   \n",
      "    inclination: (0.0, 180.0)  [°]\n",
      "    argument: (0.0, 360)  [°]\n",
      "    mean_anomaly: (0.0, 360)  [degrees]\n",
      "    ascending_node: (0.0, 360.0)  [°]\n",
      "  TTVs: True\n",
      "\n",
      "Simulation attributes: \n",
      "Reference epoch of the solutions (t0): 2458697.0 [JD]\n",
      "Total time of TTVs data (ftime): 2458720.0 [days]\n",
      "Timestep of the simulations (dt): 0.34895 [days]\n"
     ]
    }
   ],
   "source": [
    "planet_b = nau.SetPlanet('Pb')\n",
    "planet_b.ttvs_data = {0: [2458697.837611, 0.001449, 0.001449], \n",
    "                      1: [2458708.306097, 0.001449, 0.001449],\n",
    "                      2: [2458718.777887, 0.001449, 0.001449]}\n",
    "planet_b.ascending_node = [0,0]\n",
    "planet_c = nau.SetPlanet('Pc')\n",
    "\n",
    "planet_c.ttvs_data = {  # missing transit,\n",
    "                      1: [2458704.902375, 0.000461, 0.000461],\n",
    "                      2: [2458719.0078, 0.000461, 0.000461]}\n",
    "system = nau.PlanetarySystem('System', mstar=0.522, rstar=0.4422)\n",
    "system.add_planets([planet_b, planet_c])\n",
    "print(system)"
   ]
  },
  {
   "cell_type": "markdown",
   "metadata": {},
   "source": [
    "### Changing labels of figures\n",
    "\n",
    "Let's load our old result:"
   ]
  },
  {
   "cell_type": "code",
   "execution_count": 39,
   "metadata": {},
   "outputs": [
    {
     "name": "stdout",
     "output_type": "stream",
     "text": [
      "--> Parameter -mass- of planet -Planet-b- set to lower physical limit: 0.0123032 [M_earth]\n",
      "--> Parameter -ecc- of planet -Planet-b- set to lower physical limit: 1e-06  \n",
      "--> Parameter -mass- of planet -Planet-c- set to lower physical limit: 0.0123032 [M_earth]\n",
      "--> Parameter -ecc- of planet -Planet-c- set to lower physical limit: 1e-06  \n",
      "--> Parameter -mass- of planet -Planet-d- set to lower physical limit: 0.0123032 [M_earth]\n",
      "--> Parameter -ecc- of planet -Planet-d- set to lower physical limit: 1e-06  \n"
     ]
    }
   ],
   "source": [
    "PS = nau.PlanetarySystem.load_json('MySystem.json')"
   ]
  },
  {
   "cell_type": "markdown",
   "metadata": {},
   "source": [
    "Default labels are:"
   ]
  },
  {
   "cell_type": "code",
   "execution_count": 40,
   "metadata": {},
   "outputs": [
    {
     "data": {
      "text/plain": [
       "{0: '$\\\\mathrm{Mass}$',\n",
       " 1: '$\\\\mathrm{Period}$',\n",
       " 2: '$\\\\mathrm{Eccentricity}$',\n",
       " 3: '$\\\\mathrm{Inclination}$',\n",
       " 4: '$\\\\mathrm{Argument}$',\n",
       " 5: '$\\\\mathrm{Mean\\\\ anomaly}$',\n",
       " 6: '$\\\\mathrm{\\\\Omega}$'}"
      ]
     },
     "execution_count": 40,
     "metadata": {},
     "output_type": "execute_result"
    }
   ],
   "source": [
    "# The name of the planet parameters that appear in most of the nauyaca outputs\n",
    "# Consider that the order is very important! So, change these values carefully\n",
    "nau.constants.labels"
   ]
  },
  {
   "cell_type": "code",
   "execution_count": 41,
   "metadata": {},
   "outputs": [],
   "source": [
    "# Update some labels:\n",
    "nau.constants.labels[0] = 'Planet mass \\n'\n",
    "nau.constants.labels[4] = '$\\mathrm{\\omega}$'\n",
    "nau.constants.labels[5] = '$\\mathrm{M}$'"
   ]
  },
  {
   "cell_type": "code",
   "execution_count": 42,
   "metadata": {},
   "outputs": [
    {
     "data": {
      "text/plain": [
       "{0: '$\\\\mathrm{[M_{\\\\oplus}]}$',\n",
       " 1: '$\\\\mathrm{[days]}$',\n",
       " 2: '$\\\\mathrm{ }$',\n",
       " 3: '$\\\\mathrm{[deg]}$',\n",
       " 4: '$\\\\mathrm{[deg]}$',\n",
       " 5: '$\\\\mathrm{[deg]}$',\n",
       " 6: '$\\\\mathrm{[deg]}$'}"
      ]
     },
     "execution_count": 42,
     "metadata": {},
     "output_type": "execute_result"
    }
   ],
   "source": [
    "# The default units:\n",
    "nau.constants.units_latex"
   ]
  },
  {
   "cell_type": "code",
   "execution_count": 43,
   "metadata": {},
   "outputs": [],
   "source": [
    "# Change the unit labels\n",
    "nau.constants.units_latex[0] = '[Earth Masses]'\n",
    "nau.constants.units_latex[1] = '[d]'\n",
    "nau.constants.units_latex[3] = '[°]'\n",
    "nau.constants.units_latex[4] = '[°]'\n",
    "nau.constants.units_latex[5] = '[°]'\n",
    "nau.constants.units_latex[6] = '[°]'"
   ]
  },
  {
   "cell_type": "code",
   "execution_count": 44,
   "metadata": {},
   "outputs": [
    {
     "data": {
      "image/png": "[encoded data removed]",
      "text/plain": [
       "<Figure size 1152x648 with 21 Axes>"
      ]
     },
     "metadata": {},
     "output_type": "display_data"
    }
   ],
   "source": [
    "naup = nau.Plots(PS, hdf5_file='MySystem.hdf5')\n",
    "naup.hist();"
   ]
  },
  {
   "cell_type": "markdown",
   "metadata": {},
   "source": [
    "where, the labels and units have been updated."
   ]
  },
  {
   "cell_type": "markdown",
   "metadata": {},
   "source": [
    "____________"
   ]
  }
 ],
 "metadata": {
  "kernelspec": {
   "display_name": "Python 3",
   "language": "python",
   "name": "python3"
  },
  "language_info": {
   "codemirror_mode": {
    "name": "ipython",
    "version": 3
   },
   "file_extension": ".py",
   "mimetype": "text/x-python",
   "name": "python",
   "nbconvert_exporter": "python",
   "pygments_lexer": "ipython3",
   "version": "3.7.3"
  }
 },
 "nbformat": 4,
 "nbformat_minor": 2
}
