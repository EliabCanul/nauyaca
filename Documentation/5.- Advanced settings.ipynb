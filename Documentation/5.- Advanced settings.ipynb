{
 "cells": [
  {
   "cell_type": "code",
   "execution_count": null,
   "metadata": {},
   "outputs": [],
   "source": []
  },
  {
   "cell_type": "code",
   "execution_count": null,
   "metadata": {},
   "outputs": [],
   "source": []
  },
  {
   "cell_type": "code",
   "execution_count": null,
   "metadata": {},
   "outputs": [],
   "source": []
  },
  {
   "cell_type": "code",
   "execution_count": null,
   "metadata": {},
   "outputs": [],
   "source": [
    "nauMCMC = nau.MCMC(\n",
    "            PS,                             # Planetary System object\n",
    "            p0 = walkers_ladder,            # Initial population of walkers \n",
    "            nwalkers = Nwalkers,            # Number of walkers\n",
    "            ntemps = Ntemps,                # Number of temperatures\n",
    "            tmax = Tmax,                    # Maximum temperature\n",
    "            itmax = Itmax,                  # Maximum nomber of iterations (steps)\n",
    "            conver_steps = Conver_steps,    # Save data each this number of steps\n",
    "            cores = 8)                      # Number of cores to run in parallel"
   ]
  },
  {
   "cell_type": "code",
   "execution_count": null,
   "metadata": {},
   "outputs": [],
   "source": [
    "RESULTS_mcmc = nauMCMC.run()"
   ]
  },
  {
   "cell_type": "markdown",
   "metadata": {},
   "source": [
    "Restarting mcmc"
   ]
  },
  {
   "cell_type": "code",
   "execution_count": null,
   "metadata": {},
   "outputs": [],
   "source": [
    "nau.MCMC.restart_mcmc(PS,hdf5_file='SystemX.hdf5',out_path='./salida_tmp', in_path='./inputs',\n",
    "                     itmax=20,intra_steps=1,cores=8, suffix='2', restart_ladder=True)"
   ]
  },
  {
   "cell_type": "markdown",
   "metadata": {},
   "source": [
    "### Results (extended version)"
   ]
  },
  {
   "cell_type": "code",
   "execution_count": null,
   "metadata": {},
   "outputs": [],
   "source": [
    "After the MCMC ends, let's consult the attributes in the RESULTS_mcmc variable:"
   ]
  },
  {
   "cell_type": "code",
   "execution_count": null,
   "metadata": {},
   "outputs": [],
   "source": [
    "# Save the attributes as a dictionary\n",
    "results_dictionary = RESULTS_mcmc.__dict__ \n",
    "\n",
    "# Available attributes of the MCMC. It returns the sampler of ptemcee\n",
    "results_dictionary.keys()   "
   ]
  },
  {
   "cell_type": "code",
   "execution_count": null,
   "metadata": {},
   "outputs": [],
   "source": [
    "Let's print many results from the attributes above:"
   ]
  },
  {
   "cell_type": "code",
   "execution_count": null,
   "metadata": {},
   "outputs": [],
   "source": [
    "# The chains \n",
    "results_dictionary['_chain'] # shape: (ntemps, nwalkers, steps, ndim)"
   ]
  },
  {
   "cell_type": "code",
   "execution_count": null,
   "metadata": {},
   "outputs": [],
   "source": [
    "# The loglikelihood\n",
    "results_dictionary['_loglikelihood'] # shape: (ntemps, nwalkers, steps)"
   ]
  },
  {
   "cell_type": "code",
   "execution_count": null,
   "metadata": {},
   "outputs": [],
   "source": [
    "# Number of accepted swaps in each temperature\n",
    "results_dictionary['nswap_accepted'] # shape: (ntemps,)"
   ]
  },
  {
   "cell_type": "code",
   "execution_count": null,
   "metadata": {},
   "outputs": [],
   "source": [
    "An easy way of looking into the posteriors is generating histograms of the results using the 'plots' module. Lets make a burning of the first 25% of the chains at temperature T=0."
   ]
  },
  {
   "cell_type": "code",
   "execution_count": null,
   "metadata": {},
   "outputs": [],
   "source": [
    "RESULTS_mcmc = nau.utils.get_mcmc_results(f'{PS.system_name}.hdf5')['CHAINS']\n",
    "\n",
    "fisicos = np.array([[nau.utils.cube_to_physical(PS, x) for x in RESULTS_mcmc[T,nw,:,:]] for nw in range(Nwalkers) ])\n",
    "fisicos.shape\n",
    "\n",
    "fisicos[0][0]"
   ]
  },
  {
   "cell_type": "markdown",
   "metadata": {},
   "source": [
    "**Gelman-Rubin** Plots"
   ]
  },
  {
   "cell_type": "markdown",
   "metadata": {},
   "source": [
    "**Geweke** Plots"
   ]
  },
  {
   "cell_type": "markdown",
   "metadata": {},
   "source": [
    "###  The .best file"
   ]
  },
  {
   "cell_type": "markdown",
   "metadata": {},
   "source": [
    "At the end of the iterations, best solutions are extracted automatically (corresponding to the solutions of 'better posterior' per step) and saved in a .best file. It's ordered by log-likelihood from higher to lower. If for any reason the mcmc run does not finish correctly or is interrupted, you can always extract the best solutions along the saved iterations by typing:"
   ]
  },
  {
   "cell_type": "code",
   "execution_count": null,
   "metadata": {},
   "outputs": [],
   "source": [
    "best = nau.utils.extract_best_solutions('SystemX.hdf5',write_file=True)\n",
    "best"
   ]
  },
  {
   "cell_type": "markdown",
   "metadata": {},
   "source": [
    "# Constants"
   ]
  },
  {
   "cell_type": "code",
   "execution_count": null,
   "metadata": {},
   "outputs": [],
   "source": []
  },
  {
   "cell_type": "code",
   "execution_count": 1,
   "metadata": {},
   "outputs": [],
   "source": [
    "import numpy as np"
   ]
  },
  {
   "cell_type": "code",
   "execution_count": 7,
   "metadata": {},
   "outputs": [
    {
     "name": "stdout",
     "output_type": "stream",
     "text": [
      "[(1, 2, 3, 4, 5), (6, 7, 8, 9, 10)]\n"
     ]
    }
   ],
   "source": [
    "a = np.array([1,2,3,4,5,6,7,8,9,10])\n",
    "b = (1,2,3,4,5,6,7,8,9,10)\n",
    "\n",
    "iters = [iter(b)] * 5\n",
    "planets = list(zip(*iters))\n",
    "print(planets)"
   ]
  },
  {
   "cell_type": "code",
   "execution_count": 8,
   "metadata": {},
   "outputs": [
    {
     "name": "stdout",
     "output_type": "stream",
     "text": [
      "(1, 2, 3, 4, 5)\n",
      "(6, 7, 8, 9, 10)\n"
     ]
    }
   ],
   "source": [
    "for c in planets:\n",
    "    print(c)"
   ]
  },
  {
   "cell_type": "markdown",
   "metadata": {},
   "source": [
    "# Invalid proposal in calculate_ephemeris"
   ]
  },
  {
   "cell_type": "code",
   "execution_count": null,
   "metadata": {},
   "outputs": [],
   "source": []
  },
  {
   "cell_type": "markdown",
   "metadata": {},
   "source": [
    "Plot de convergencia"
   ]
  },
  {
   "cell_type": "code",
   "execution_count": null,
   "metadata": {},
   "outputs": [],
   "source": [
    "plot_convergence(self,  chains=None, names=None, nchunks_gr=10, thinning=1):"
   ]
  }
 ],
 "metadata": {
  "kernelspec": {
   "display_name": "Python 3",
   "language": "python",
   "name": "python3"
  },
  "language_info": {
   "codemirror_mode": {
    "name": "ipython",
    "version": 3
   },
   "file_extension": ".py",
   "mimetype": "text/x-python",
   "name": "python",
   "nbconvert_exporter": "python",
   "pygments_lexer": "ipython3",
   "version": "3.7.3"
  }
 },
 "nbformat": 4,
 "nbformat_minor": 2
}
