{
 "cells": [
  {
   "cell_type": "markdown",
   "metadata": {},
   "source": [
    "# 1.- Introduction"
   ]
  },
  {
   "cell_type": "markdown",
   "metadata": {},
   "source": [
    "nauyaca: $Bothrops$ $asper$: (México; from Nahuatl nahui, four, and yacatl, nose; \"four noses\")"
   ]
  },
  {
   "cell_type": "markdown",
   "metadata": {},
   "source": [
    "## Overview"
   ]
  },
  {
   "cell_type": "markdown",
   "metadata": {},
   "source": [
    "Nauyaca is a python package exclusively adapted to find planetary masses and orbits of transiting planets, through the fitting of mid-transit times, from an N-body approach. \n",
    "\n",
    "The tool manages the communication with $\\texttt{TTVFast}$ (Deck et al., 2014) and many minimization algorithms and a parallel-tempered MCMC ($\\texttt{ptemcee}$; Vousden et al. 2015).\n",
    "\n",
    "To work corrctly, Nauyaca requieres measured transit time ephemerids of the planet(s), composed by the number of the transit (starting from epoch zero at a given reference epoch T0), the central transit time, and the proper lower and upper errors. Additionally the stellar mass and radius are requiered.\n",
    "\n",
    "Nauyaca implements minimization algorithms, namely Differential Evolution, Powell and Nelder-Mead. It also allows to perform a Markov chain Monte Carlo method to fully explore the planetary parameter space. As a result, Nauyaca returns a posteriori distributions of the planetary orbital elements and masses. A set of predefined figures allow to examine the performance and take decisions about the results.\n",
    "\n",
    "In this tutorial we will learn to use Nauyaca to solve a synthetic two-planet system.\n",
    "\n",
    "Let's start!\n"
   ]
  },
  {
   "cell_type": "markdown",
   "metadata": {},
   "source": [
    "____________________"
   ]
  },
  {
   "cell_type": "markdown",
   "metadata": {},
   "source": [
    "## Installation "
   ]
  },
  {
   "cell_type": "markdown",
   "metadata": {},
   "source": [
    "Python 3.7 is requiered\n",
    "\n",
    "clone the repository in a new workspace, for example:\n",
    "\n",
    "mkdir NAU\n",
    "\n",
    "cd NAU\n",
    "\n",
    "git clone https://github.com/EliabCanul/nauyaca.git\n",
    "\n",
    "EliabCanul\n",
    "\n",
    "#####\n",
    "\n",
    "Install the dependencies:\n",
    "\n",
    "pipenv install\n",
    "\n",
    "\n",
    "Activate the virtual environment:\n",
    "\n",
    "pipenv shell"
   ]
  },
  {
   "cell_type": "markdown",
   "metadata": {},
   "source": [
    "## Description of the example"
   ]
  },
  {
   "cell_type": "markdown",
   "metadata": {},
   "source": [
    "### Example: Solving for a two-planet system"
   ]
  },
  {
   "cell_type": "code",
   "execution_count": null,
   "metadata": {},
   "outputs": [],
   "source": []
  }
 ],
 "metadata": {
  "kernelspec": {
   "display_name": "Python 3",
   "language": "python",
   "name": "python3"
  },
  "language_info": {
   "codemirror_mode": {
    "name": "ipython",
    "version": 3
   },
   "file_extension": ".py",
   "mimetype": "text/x-python",
   "name": "python",
   "nbconvert_exporter": "python",
   "pygments_lexer": "ipython3",
   "version": "3.7.3"
  }
 },
 "nbformat": 4,
 "nbformat_minor": 2
}
