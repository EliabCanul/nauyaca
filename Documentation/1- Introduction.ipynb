{
 "cells": [
  {
   "cell_type": "markdown",
   "metadata": {},
   "source": [
    "# 1.- Introduction"
   ]
  },
  {
   "cell_type": "markdown",
   "metadata": {},
   "source": [
    "nauyaca: $Bothrops\\ asper$: (México; from Nahuatl nahui, four, and yacatl, nose; \"four noses\")\n",
    "\n",
    "a kind of pit viper from Central America."
   ]
  },
  {
   "cell_type": "markdown",
   "metadata": {},
   "source": [
    "___________________________\n",
    "\n",
    "If you use nauyaca in your research, we appreciate the proper citation to the paper \n",
    "\n",
    "\"Nauyaca: a new tool to determine planetary masses and orbital elements through transit timing analysis\"\n",
    "\n",
    "Canul et al. (2021)"
   ]
  },
  {
   "cell_type": "markdown",
   "metadata": {},
   "source": [
    "## Overview"
   ]
  },
  {
   "cell_type": "markdown",
   "metadata": {},
   "source": [
    "Nauyaca is a python package exclusively adapted to find planetary masses and orbits of transiting planets, through the fitting of mid-transit times, from an N-body approach. \n",
    "\n",
    "The tool manages the communication with $\\texttt{TTVFast}$ (Deck et al., 2014) and many minimization algorithms and a parallel-tempered MCMC ($\\texttt{ptemcee}$; Vousden et al. 2015).\n",
    "\n",
    "To work correctly, Nauyaca requieres measured transit time ephemeris of the planet(s), composed by the number of the transit (starting from epoch zero at a given reference epoch $t_0$), the central transit time, and the proper lower and upper errors. Additionally the stellar mass and radius are requiered. We'll see how to set these properties in Tutorial 2.\n",
    "\n",
    "\n",
    "Nauyaca implements minimization algorithms, namely Differential Evolution, Powell and Nelder-Mead from $\\texttt{scipy}$. These algorithms explore the parameter space searching for approximate solutions to the mid-transit times fitting. The results from this step can be used to initialize walkers in the MCMC but also to constrain the parameter space. Tutorial 3 is focused in explaining how to use the module Optimizers in Nauyaca.\n",
    "\n",
    "\n",
    "In Tutorial 4 we finally perform a Markov chain Monte Carlo method to fully explore the planetary parameter space. As a result, Nauyaca returns a posteriori distributions of the planetary orbital elements and masses. A set of predefined figures in Nauyaca allow to examine the performance and take decisions about the results.\n",
    "\n"
   ]
  },
  {
   "cell_type": "code",
   "execution_count": 2,
   "metadata": {},
   "outputs": [],
   "source": [
    "import nauyaca as nau"
   ]
  },
  {
   "cell_type": "markdown",
   "metadata": {},
   "source": [
    "Let's inspect the available modules inside Nauyaca:"
   ]
  },
  {
   "cell_type": "code",
   "execution_count": 3,
   "metadata": {},
   "outputs": [
    {
     "data": {
      "text/plain": [
       "['SetPlanet', 'PlanetarySystem', 'Optimizers', 'MCMC', 'Plots']"
      ]
     },
     "execution_count": 3,
     "metadata": {},
     "output_type": "execute_result"
    }
   ],
   "source": [
    "nau.__all__"
   ]
  },
  {
   "cell_type": "markdown",
   "metadata": {},
   "source": [
    "And the current version:"
   ]
  },
  {
   "cell_type": "code",
   "execution_count": 4,
   "metadata": {},
   "outputs": [
    {
     "data": {
      "text/plain": [
       "'1.0.0'"
      ]
     },
     "execution_count": 4,
     "metadata": {},
     "output_type": "execute_result"
    }
   ],
   "source": [
    "nau.__version__"
   ]
  },
  {
   "cell_type": "markdown",
   "metadata": {},
   "source": [
    "Additionally there is a special module with extra functions to deal with the TTVs"
   ]
  },
  {
   "cell_type": "code",
   "execution_count": 5,
   "metadata": {},
   "outputs": [
    {
     "data": {
      "text/plain": [
       "['run_TTVFast',\n",
       " 'calculate_ephemeris',\n",
       " 'log_likelihood_func',\n",
       " 'init_walkers',\n",
       " 'mcmc_summary',\n",
       " 'extract_best_solutions',\n",
       " 'get_mcmc_results',\n",
       " 'geweke',\n",
       " 'gelman_rubin',\n",
       " 'cube_to_physical',\n",
       " '_ephemeris',\n",
       " '_remove_constants']"
      ]
     },
     "execution_count": 5,
     "metadata": {},
     "output_type": "execute_result"
    }
   ],
   "source": [
    "nau.utils.__all__"
   ]
  },
  {
   "cell_type": "markdown",
   "metadata": {},
   "source": [
    "All these modules will be inspected along this set of tutorials."
   ]
  },
  {
   "cell_type": "markdown",
   "metadata": {},
   "source": [
    "## Description of the example"
   ]
  },
  {
   "cell_type": "markdown",
   "metadata": {},
   "source": [
    "### Example: Solving the inversion problem of a two-planet system\n",
    "\n",
    "Along this set of tutorials, we will solve the problem of a (synthetic) planetary system composed by two planets. Both of them have mid-transit times and we will try to invert the pathway, going from mid-transit times to planetary parameters. Just to know, the real planet parameters are in ./inputs/true_solution.\n",
    "\n",
    "Let's see how to recover that planetary parameters!"
   ]
  },
  {
   "cell_type": "markdown",
   "metadata": {},
   "source": [
    "____________________"
   ]
  },
  {
   "cell_type": "markdown",
   "metadata": {},
   "source": [
    "# Installation\n",
    "Python =>3.7 is required. Also, -poetry- is requiered to manage the dependencies.\n",
    "\n",
    "Installation steps are available at Installation file in the main directory.\n",
    "\n",
    "# Usage\n",
    "\n",
    "Many examples can be seen at Examples directory.\n",
    "\n",
    "\n",
    "\n",
    "If you find useful Nauyaca in your research, please cite \n",
    "\"Nauyaca: a new tool to determine planetary masses and orbital elements through transit timing analysis\"\n",
    "Canul et al. (2021)"
   ]
  },
  {
   "cell_type": "markdown",
   "metadata": {},
   "source": [
    "_______________________"
   ]
  }
 ],
 "metadata": {
  "kernelspec": {
   "display_name": "Python 3",
   "language": "python",
   "name": "python3"
  },
  "language_info": {
   "codemirror_mode": {
    "name": "ipython",
    "version": 3
   },
   "file_extension": ".py",
   "mimetype": "text/x-python",
   "name": "python",
   "nbconvert_exporter": "python",
   "pygments_lexer": "ipython3",
   "version": "3.7.3"
  }
 },
 "nbformat": 4,
 "nbformat_minor": 2
}
