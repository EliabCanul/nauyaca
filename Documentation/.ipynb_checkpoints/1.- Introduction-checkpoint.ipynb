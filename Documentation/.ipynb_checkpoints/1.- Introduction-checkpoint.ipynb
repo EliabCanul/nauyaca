{
 "cells": [
  {
   "cell_type": "markdown",
   "metadata": {},
   "source": [
    "# 1.- Introduction"
   ]
  },
  {
   "cell_type": "markdown",
   "metadata": {},
   "source": [
    "nauyaca: $Bothrops$ $asper$: (México; from Nahuatl nahui, four, and yacatl, nose; \"four noses\")"
   ]
  },
  {
   "cell_type": "markdown",
   "metadata": {},
   "source": [
    "## Overview"
   ]
  },
  {
   "cell_type": "markdown",
   "metadata": {},
   "source": [
    "Nauyaca is a python package exclusively adapted to find planetary masses and orbits of transiting planets, through the fitting of mid-transit times, from an N-body approach. \n",
    "\n",
    "The tool manages the communication with $\\texttt{TTVFast}$ (Deck et al., 2014) and many minimization algorithms and a parallel-tempered MCMC ($\\texttt{ptemcee}$; Vousden et al. 2015).\n",
    "\n",
    "To work correctly, Nauyaca requieres measured transit time ephemerids of the planet(s), composed by the number of the transit (starting from epoch zero at a given reference epoch T0), the central transit time, and the proper lower and upper errors. Additionally the stellar mass and radius are requiered.\n",
    "\n",
    "Nauyaca implements minimization algorithms, namely Differential Evolution, Powell and Nelder-Mead. It also allows to perform a Markov chain Monte Carlo method to fully explore the planetary parameter space. As a result, Nauyaca returns a posteriori distributions of the planetary orbital elements and masses. A set of predefined figures allow to examine the performance and take decisions about the results.\n",
    "\n",
    "In this tutorial we will learn to use Nauyaca to solve a synthetic two-planet system.\n"
   ]
  },
  {
   "cell_type": "markdown",
   "metadata": {},
   "source": [
    "## Description of the example"
   ]
  },
  {
   "cell_type": "markdown",
   "metadata": {},
   "source": [
    "### Example: Solving for a two-planet system\n",
    "\n",
    "Along this set of tutorials, we will solve the problem of a (synthetic) planetary system composed by two planets. Both of them have mid- transit times and we will try to invert the pathway, going from mid-transit times to planetary parameters. Just to know, the real planet parameters are in ./inputs/true_solution.\n",
    "\n",
    "Let's see how to recover that planetary parameters!"
   ]
  },
  {
   "cell_type": "markdown",
   "metadata": {},
   "source": [
    "____________________"
   ]
  },
  {
   "cell_type": "markdown",
   "metadata": {},
   "source": [
    "## Installation "
   ]
  },
  {
   "cell_type": "code",
   "execution_count": null,
   "metadata": {},
   "outputs": [],
   "source": [
    "\n",
    "# Python 3.7 is required. Also, -pipenv- is requiered to manage the dependencies.\n",
    "# If you do not have pipenv, install via: pip install pipenv or pip3 install pipenv\n",
    "\n",
    "\n",
    "\n",
    "#######\n",
    "Installation\n",
    "\n",
    "# Go to your /home directory\n",
    "\n",
    "cd /home\n",
    "\n",
    "# clone the repository\n",
    "\n",
    "git clone https://github.com/EliabCanul/nauyaca.git\n",
    "\n",
    "# Change to nauyaca directory\n",
    "\n",
    "cd nauyaca\n",
    "\n",
    "# Install the dependencies\n",
    "\n",
    "pipenv install\n",
    "\n",
    "# Close the terminal\n",
    "exit\n",
    "\n",
    "#######\n",
    "In the directory of your current shell (for example .bashrc), add the path to nauyaca\n",
    "\n",
    "export PYTHONPATH:/home/{mypc}/nauyaca\n",
    "\n",
    "# substitute {mypc} for your pc name\n",
    "\n",
    "# source your shell file\n",
    "\n",
    "source .bashrc\n",
    "\n",
    "#######\n",
    "Running the examples\n",
    "\n",
    "# In the nauyaca's main directory (where the Pipfile file is), initialize the virtual environment by typing\n",
    "\n",
    "pipenv shell\n",
    "\n",
    "\n",
    "# Enter to Documentation directory\n",
    "\n",
    "cd Documentation\n",
    "\n",
    "# Open the .html files to see the examples"
   ]
  }
 ],
 "metadata": {
  "kernelspec": {
   "display_name": "Python 3",
   "language": "python",
   "name": "python3"
  },
  "language_info": {
   "codemirror_mode": {
    "name": "ipython",
    "version": 3
   },
   "file_extension": ".py",
   "mimetype": "text/x-python",
   "name": "python",
   "nbconvert_exporter": "python",
   "pygments_lexer": "ipython3",
   "version": "3.7.3"
  }
 },
 "nbformat": 4,
 "nbformat_minor": 2
}
