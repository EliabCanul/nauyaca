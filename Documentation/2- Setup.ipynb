{
 "cells": [
  {
   "cell_type": "markdown",
   "metadata": {},
   "source": [
    "# 2.- Setup"
   ]
  },
  {
   "cell_type": "markdown",
   "metadata": {},
   "source": [
    "In this tutorial we'll learn how to prepare our data before performing the simulations. The main idea is to create Planetary System objects, based on individual Planets. Along this tutorial (and the forthcoming) we will use a synthetic planetary systems with two planets described in the Introduction."
   ]
  },
  {
   "cell_type": "markdown",
   "metadata": {},
   "source": [
    "## Example: Solving a two-planet system"
   ]
  },
  {
   "cell_type": "markdown",
   "metadata": {},
   "source": [
    "Let's import the Nauyaca, given the alias: nau"
   ]
  },
  {
   "cell_type": "code",
   "execution_count": 7,
   "metadata": {},
   "outputs": [],
   "source": [
    "import nauyaca as nau"
   ]
  },
  {
   "cell_type": "markdown",
   "metadata": {},
   "source": [
    "## 2.1 The Planet object"
   ]
  },
  {
   "cell_type": "markdown",
   "metadata": {},
   "source": [
    "First, let's define the Planet objects and their attributes. These planets will be part of the planetary system that we want to analyze. We create a Planet just by giving a planet name. Let's assume that the **first** planet in our system is named simply \"Planet-b\". Then, we create it as follows:"
   ]
  },
  {
   "cell_type": "code",
   "execution_count": 8,
   "metadata": {},
   "outputs": [],
   "source": [
    "Planetb = nau.SetPlanet(\"Planet-b\")"
   ]
  },
  {
   "cell_type": "markdown",
   "metadata": {},
   "source": [
    "Nice! it was so easy. What can we do now? Well, since we want to fit the mid-transit times of our planet, let's give it the transit data."
   ]
  },
  {
   "cell_type": "markdown",
   "metadata": {},
   "source": [
    "### 2.1.1 Transit times data"
   ]
  },
  {
   "cell_type": "markdown",
   "metadata": {},
   "source": [
    "There are two ways of giving the mid-transit time observations to the Planet object. \n",
    "\n",
    "**1.-** The first one is by explicity giving a dictionary of the ephemerids to the attribute -ttvs_data-, in the following format:"
   ]
  },
  {
   "cell_type": "code",
   "execution_count": 9,
   "metadata": {},
   "outputs": [],
   "source": [
    "Planetb.ttvs_data = {0: [1.941979, 0.000144, 0.000144],\n",
    "                     1: [7.296786, 0.000283, 0.000283],\n",
    "                     2: [12.654408,0.000314, 0.000314],\n",
    "                     #... more data\n",
    "                    }"
   ]
  },
  {
   "cell_type": "markdown",
   "metadata": {},
   "source": [
    "where the keys are the transit epochs (integer numbers) and the values are lists containing, for each epoch, the central transit time and the lower and upper errors, in days."
   ]
  },
  {
   "cell_type": "markdown",
   "metadata": {},
   "source": [
    "**2.-** The second one, is by using the .load_ttvs method. When using this way, the ephemeris should be in an ascci file containing the transit epochs, the central transit times and the lower and upper errors, as before.\n",
    "\n",
    "For example, a file containing these data looks like:"
   ]
  },
  {
   "cell_type": "code",
   "execution_count": 10,
   "metadata": {},
   "outputs": [
    {
     "name": "stdout",
     "output_type": "stream",
     "text": [
      "#Transit  t_c           lower_err      upper_err\r\n",
      "#Number  (days)          (days)          (days) \r\n",
      "0\t1.941979\t0.000144\t0.000144\r\n",
      "1\t7.296786\t0.000283\t0.000283\r\n",
      "2\t12.654408\t0.000314\t0.000314\r\n",
      "3\t18.010997\t0.000356\t0.000356\r\n",
      "4\t23.366161\t0.000336\t0.000336\r\n",
      "5\t28.721616\t0.000361\t0.000361\r\n"
     ]
    }
   ],
   "source": [
    "! head -8  ./inputs/planetb_ttvs.dat"
   ]
  },
  {
   "cell_type": "markdown",
   "metadata": {},
   "source": [
    "**Note:** the transit epochs must always start from 0 at least for one planet. It means that epochs must be labeled from 0 (first transit) at a reference epoch."
   ]
  },
  {
   "cell_type": "markdown",
   "metadata": {},
   "source": [
    "Thus, for ease we will use the second way. Hence, we load the transit data as follows:"
   ]
  },
  {
   "cell_type": "code",
   "execution_count": 11,
   "metadata": {},
   "outputs": [],
   "source": [
    "# Note that the data are in the -inputs- subdirectory\n",
    "Planetb.load_ttvs(\"./inputs/planetb_ttvs.dat\") "
   ]
  },
  {
   "cell_type": "markdown",
   "metadata": {},
   "source": [
    "To ensure that the data are loaded, let's see it through:"
   ]
  },
  {
   "cell_type": "code",
   "execution_count": 12,
   "metadata": {},
   "outputs": [
    {
     "data": {
      "text/plain": [
       "{0: [1.941979, 0.000144, 0.000144],\n",
       " 1: [7.296786, 0.000283, 0.000283],\n",
       " 2: [12.654408, 0.000314, 0.000314],\n",
       " 3: [18.010997, 0.000356, 0.000356],\n",
       " 4: [23.366161, 0.000336, 0.000336],\n",
       " 5: [28.721616, 0.000361, 0.000361],\n",
       " 6: [34.076309, 2.7e-05, 2.7e-05],\n",
       " 7: [39.430975, 0.000234, 0.000234],\n",
       " 8: [44.78561, 0.000235, 0.000235],\n",
       " 9: [50.139923, 0.000305, 0.000305],\n",
       " 10: [55.494308, 0.000217, 0.000217],\n",
       " 11: [60.849909, 0.000168, 0.000168],\n",
       " 12: [66.205092, 0.000235, 0.000235],\n",
       " 13: [71.5626, 0.000431, 0.000431],\n",
       " 14: [76.919171, 0.000491, 0.000491],\n",
       " 15: [82.27419, 0.000275, 0.000275],\n",
       " 16: [87.629573, 0.000303, 0.000303],\n",
       " 17: [92.984421, 0.000206, 0.000206],\n",
       " 18: [98.339094, 0.000446, 0.000446],\n",
       " 19: [103.693807, 1.7e-05, 1.7e-05],\n",
       " 20: [109.048341, 0.000388, 0.000388],\n",
       " 21: [114.402898, 0.000223, 0.000223],\n",
       " 22: [119.759281, 0.000285, 0.000285],\n",
       " 23: [125.115041, 0.000188, 0.000188],\n",
       " 24: [130.471949, 0.000164, 0.000164],\n",
       " 25: [135.828253, 0.00044, 0.00044],\n",
       " 26: [141.183152, 0.000322, 0.000322],\n",
       " 27: [146.538369, 0.000106, 0.000106],\n",
       " 28: [151.89324, 0.000155, 0.000155],\n",
       " 29: [157.24782, 0.00035, 0.00035],\n",
       " 30: [162.602483, 0.000279, 0.000279],\n",
       " 31: [167.957217, 0.000286, 0.000286],\n",
       " 32: [173.311894, 0.000161, 0.000161],\n",
       " 33: [178.668988, 0.000365, 0.000365],\n",
       " 34: [184.025246, 0.000218, 0.000218],\n",
       " 35: [189.381276, 0.000235, 0.000235],\n",
       " 36: [194.737143, 0.0003, 0.0003]}"
      ]
     },
     "execution_count": 12,
     "metadata": {},
     "output_type": "execute_result"
    }
   ],
   "source": [
    "Planetb.ttvs_data"
   ]
  },
  {
   "cell_type": "markdown",
   "metadata": {},
   "source": [
    "Fine! at this point we have a Planet with transit data. Now, we will see how to say to Nauyaca where to look in the parameter space of our planet..."
   ]
  },
  {
   "cell_type": "markdown",
   "metadata": {},
   "source": [
    "### 2.1.2 Setting the parameter space"
   ]
  },
  {
   "cell_type": "markdown",
   "metadata": {},
   "source": [
    "For a planet, we have 7 parameters (and the required units) that Nauyaca will explore:\n",
    "\n",
    "* Mass    -----  [M_Earth]\n",
    "* Period  ----- [days]\n",
    "* Eccentricity\n",
    "* Inclination  ----- [deg]\n",
    "* Argument of periastron  ----- [deg]\n",
    "* Mean anomaly  ----- [deg]\n",
    "* Ascending node  ----- [deg]\n",
    "\n",
    "\n",
    "Now, in order to avoid exploring in a non-physical region of the parameter space or with redundant information, it is necessary to establish especific boundaries for each planetary parameter. These boundaries will be used in the subsequent analysis. "
   ]
  },
  {
   "cell_type": "markdown",
   "metadata": {},
   "source": [
    "**Default boundaries:** In many cases nothing is known about one or more parameters. In that case a set of $default$ boundaries will be established. Let's see which are these default boundaries by calling the physical limits established inside the module -constants- in Nauyaca:"
   ]
  },
  {
   "cell_type": "code",
   "execution_count": 13,
   "metadata": {},
   "outputs": [
    {
     "data": {
      "text/plain": [
       "{'mass': (0.0123032, 25426.27252757),\n",
       " 'period': (0.1, 1000.0),\n",
       " 'ecc': (1e-06, 0.9),\n",
       " 'inclination': (0.0, 180.0),\n",
       " 'argument': (0.0, 360),\n",
       " 'mean_anomaly': (0.0, 360),\n",
       " 'ascending_node': (0.0, 360.0)}"
      ]
     },
     "execution_count": 13,
     "metadata": {},
     "output_type": "execute_result"
    }
   ],
   "source": [
    "nau.constants.physical_bounds"
   ]
  },
  {
   "cell_type": "markdown",
   "metadata": {},
   "source": [
    "By default the mass is ranged from a lunar mass up to 80 Jupiter masses (units above are in Earth masses). Angles are restricted bewteen 0° and 360° except for the inclination which is defined between 0° and 180°. These default boundaries arise if anything is known about the planet. In practice we can restrict the parameter space from previous knowledge coming, for example, from light curve analysis. \n",
    "\n",
    "To restrict any planetary parameter, we should give a range [minimum, maximum]. Those parameters that we do not restrict manually will have the default limits mentioned above.\n",
    "\n",
    "For our example, let's suppose that we know a rough estimation of the period and the inclination. It is true because we can approximate the period from consecutive transit times, and also we know that the planet transits, so the inclination should be around ~90°! Let's also suppose that we want to explore the mass range from a Earth planet to a Neptune. Finally, let's the eccentricity to vary up to 0.2, because greater values would result in unstable orbits.\n",
    "\n",
    "Thus, to make these restrictions, we write:"
   ]
  },
  {
   "cell_type": "code",
   "execution_count": 14,
   "metadata": {},
   "outputs": [
    {
     "name": "stdout",
     "output_type": "stream",
     "text": [
      "\n",
      " =========== Planet Summary =========== \n",
      "--> Parameter -ecc- of planet -Planet-b- set to lower physical limit: 1e-06\n",
      "Planet : Planet-b\n",
      "  Boundaries:\n",
      "    mass: (1, 20.0)  [M_earth]\n",
      "    period: (5.35, 5.36)  [d]\n",
      "    ecc: (1e-06, 0.2)   \n",
      "    inclination: (90, 90)  [deg]\n",
      "    argument: (0.0, 360)  [deg]\n",
      "    mean_anomaly: (0.0, 360)  [deg]\n",
      "    ascending_node: (0.0, 360.0)  [deg]\n",
      "  TTVs: True\n"
     ]
    }
   ],
   "source": [
    "                                      #     LIMITS FOR:\n",
    "Planetb.mass = [1, 20.]               # Planet mass [Mearth]\n",
    "Planetb.period = [5.35, 5.36]         # Orbital period [days]\n",
    "Planetb.ecc = [0., 0.2]               # eccentricity. Look at the lower limit!\n",
    "Planetb.inclination = [90, 90]        # Assuming edge-on orbit [deg]\n",
    "\n",
    "print(Planetb)  # print a summary of our Planet object"
   ]
  },
  {
   "cell_type": "markdown",
   "metadata": {},
   "source": [
    "From here, we can notice of two things:\n",
    "\n",
    "**1.-** There is a dialog from Nauyaca (starting with -->) saying to us that the lower boundary of eccentricity have been set to 1e-06. Why is that? It is because we manually set the eccentricity lower limit to 0, but this value is lower than the *default* lower limit in eccentricity mentioned previously: 1e-06. Thus, Nauyaca prevents of giving boundaries manually outside the default physical boundaries, which by design, have been thought to consider almost any kind of planets and orbits. In this case, the lower limit in eccentricity is small but different from zero in order to avoid getting undefined argument of periastron.\n",
    "\n",
    "A similar thing would happens, for example, if we set a negative lower limit in masses (which have not physical sense). In this case, the negative limit will be changed to 0.0123032 (M_earth).\n",
    "\n",
    "\n",
    "**2.-** We did not establish boundaries for argument of periastron, mean anomaly or ascending node, and thus the default boundaries arise.\n"
   ]
  },
  {
   "cell_type": "markdown",
   "metadata": {},
   "source": [
    "\n",
    "**Constant parameters** \n",
    "\n",
    "To keep a planetary parameter constant, set the lower and upper boundaries as equal, just as the inclination for Planetb!\n",
    "\n",
    "By construction in the coordinate system, **the ascending node of at least one planet in the system must be fixed**.\n",
    "Let's keep fixed this angle to the correct ascending node of \"Planet-b\" (true values can be seen in the file /inputs/true_solution), by setting equal values in the lower and upper boundaries:"
   ]
  },
  {
   "cell_type": "code",
   "execution_count": 16,
   "metadata": {},
   "outputs": [],
   "source": [
    "Planetb.ascending_node = [88.36, 88.36]  # Ascending node [deg]"
   ]
  },
  {
   "cell_type": "markdown",
   "metadata": {},
   "source": [
    "By doing this, we say to Nauyaca that ascending node of \"Planet-b\" will not be part of the parameter space explored by the Optimizers or MCMC."
   ]
  },
  {
   "cell_type": "markdown",
   "metadata": {},
   "source": [
    "Great! that's all we need to define the parameter space of a planet. Let's do the same for the second planet.\n",
    "Let's create another planet object and do the same as before:"
   ]
  },
  {
   "cell_type": "code",
   "execution_count": 17,
   "metadata": {},
   "outputs": [
    {
     "name": "stdout",
     "output_type": "stream",
     "text": [
      "\n",
      " =========== Planet Summary =========== \n",
      "--> Parameter -ecc- of planet -Planet-c- set to lower physical limit: 1e-06\n",
      "Planet : Planet-c\n",
      "  Boundaries:\n",
      "    mass: (1, 50)  [M_earth]\n",
      "    period: (11.83, 11.84)  [d]\n",
      "    ecc: (1e-06, 0.2)   \n",
      "    inclination: (90, 90)  [deg]\n",
      "    argument: (0.0, 360)  [deg]\n",
      "    mean_anomaly: (0.0, 360)  [deg]\n",
      "    ascending_node: (70, 110.0)  [deg]\n",
      "  TTVs: True\n"
     ]
    }
   ],
   "source": [
    "# Planet-c\n",
    "Planetc = nau.SetPlanet(\"Planet-c\")\n",
    "\n",
    "# Load transit times\n",
    "Planetc.load_ttvs(\"./inputs/planetc_ttvs.dat\")\n",
    "\n",
    "# Set boundaries\n",
    "Planetc.mass = [1, 50]           # Let's exploree up to 50 Earth masses\n",
    "Planetc.period = [11.83, 11.84]  # Assuming the period is aroung 11.835 days \n",
    "Planetc.ecc = [0, .2]\n",
    "Planetc.inclination = [90, 90]  # Keep inclination as constant\n",
    "\n",
    "# Let's consider just prograde solutions, i.e, +/-90° around \n",
    "# ascending node of first planet\n",
    "Planetc.ascending_node=[70, 110.]  # Considering coplanar orbits\n",
    "\n",
    "\n",
    "print(Planetc)"
   ]
  },
  {
   "cell_type": "markdown",
   "metadata": {},
   "source": [
    "Now we have two independent Planet objects: Planetb and Planetc. Let's join them together in a Planetary System object."
   ]
  },
  {
   "cell_type": "markdown",
   "metadata": {},
   "source": [
    "## 2.2 The Planetary System object"
   ]
  },
  {
   "cell_type": "markdown",
   "metadata": {},
   "source": [
    "Once we have defined our planets, we can construct a Planetary System simply by defining a system name, and stellar mass and radius (in Msun and Rsun units)"
   ]
  },
  {
   "cell_type": "code",
   "execution_count": 18,
   "metadata": {},
   "outputs": [],
   "source": [
    "# Let's call our system: \"SystemX\"\n",
    "PS = nau.PlanetarySystem(\"SystemX\", mstar=0.9132, rstar=0.8632)"
   ]
  },
  {
   "cell_type": "markdown",
   "metadata": {},
   "source": [
    "Okay, but it is not a planetary systems if there are no planets! So, let's add the Planet objects created before by passing a list with the Planet objects inside.\n",
    "\n",
    "**Note:** The ordering is important!! It's more intuitive if you add them according to the proximity to the star"
   ]
  },
  {
   "cell_type": "code",
   "execution_count": 19,
   "metadata": {},
   "outputs": [
    {
     "name": "stdout",
     "output_type": "stream",
     "text": [
      "--> Parameter -ecc- of planet -Planet-b- set to lower physical limit: 1e-06\n",
      "--> Parameter -ecc- of planet -Planet-c- set to lower physical limit: 1e-06\n"
     ]
    }
   ],
   "source": [
    "# adding planets\n",
    "PS.add_planets([Planetb, Planetc]) "
   ]
  },
  {
   "cell_type": "markdown",
   "metadata": {},
   "source": [
    "Alright! Now we have a Planetary System that looks like:"
   ]
  },
  {
   "cell_type": "code",
   "execution_count": 20,
   "metadata": {},
   "outputs": [
    {
     "name": "stdout",
     "output_type": "stream",
     "text": [
      "\n",
      " =========== Planetary System Summary =========== \n",
      "--> Parameter -ecc- of planet -Planet-b- set to lower physical limit: 1e-06\n",
      "--> Parameter -ecc- of planet -Planet-c- set to lower physical limit: 1e-06\n",
      "\n",
      "System: SystemX\n",
      "Mstar: 0.9132 Msun |  Rstar: 0.8632 Rsun\n",
      "Number of planets: 2\n",
      "Planet information:\n",
      "------\n",
      "Planet1: Planet-b\n",
      "  Boundaries:\n",
      "    mass: (1, 20.0)  [M_earth]\n",
      "    period: (5.35, 5.36)  [d]\n",
      "    ecc: (1e-06, 0.2)   \n",
      "    inclination: (90, 90)  [deg]\n",
      "    argument: (0.0, 360)  [deg]\n",
      "    mean_anomaly: (0.0, 360)  [deg]\n",
      "    ascending_node: (88.36, 88.36)  [deg]\n",
      "  TTVs: True\n",
      "------\n",
      "Planet2: Planet-c\n",
      "  Boundaries:\n",
      "    mass: (1, 50)  [M_earth]\n",
      "    period: (11.83, 11.84)  [d]\n",
      "    ecc: (1e-06, 0.2)   \n",
      "    inclination: (90, 90)  [deg]\n",
      "    argument: (0.0, 360)  [deg]\n",
      "    mean_anomaly: (0.0, 360)  [deg]\n",
      "    ascending_node: (70, 110.0)  [deg]\n",
      "  TTVs: True\n",
      "\n",
      "Simulation attributes: \n",
      "Reference epoch of the solutions (t0): 1.0 [JD]\n",
      "Total time of TTVs data (ftime): 196.0 [days]\n",
      "Timestep of the simulations (dt): 0.17847710000000017 [days]\n"
     ]
    }
   ],
   "source": [
    "print(PS)  # print a summary of the Planetary System"
   ]
  },
  {
   "cell_type": "markdown",
   "metadata": {},
   "source": [
    "That's it! We have a Planetary System! \n",
    "\n",
    "Now, an extra feature: Nauyaca contains a built-in function to visualize the TTVs of our planets. Let's call the Plots module and pass the Planetary System and then plot the observed TTVs:"
   ]
  },
  {
   "cell_type": "code",
   "execution_count": 22,
   "metadata": {},
   "outputs": [
    {
     "name": "stdout",
     "output_type": "stream",
     "text": [
      "---> No solutions to plot\n"
     ]
    },
    {
     "data": {
      "image/png": "[encoded data removed]",
      "text/plain": [
       "<Figure size 720x720 with 2 Axes>"
      ]
     },
     "metadata": {},
     "output_type": "display_data"
    }
   ],
   "source": [
    "nauplot = nau.Plots(PS)  # Call the module by passing the Planetary System object\n",
    "\n",
    "# Plot TTVs!\n",
    "nauplot.TTVs(residuals=False); # Don't make space for residuals"
   ]
  },
  {
   "cell_type": "markdown",
   "metadata": {},
   "source": [
    "## 2.3 Preparing for simulations"
   ]
  },
  {
   "cell_type": "markdown",
   "metadata": {},
   "source": [
    "From the summary of our Planetary System, we see at the bottom part the simulation attributes that Nauyaca automatically calculates based on the provided information of the planets. These attributes are:\n",
    "\n",
    "* **t0:** It is the reference time at which all the solutions found by Nauyaca will be referenced. By default, this number is automatically calculated by rounding down the smallest transit time found in the planet ephemerids. \n",
    "\n",
    "* **ftime:** It defines the maximum time of the simulations. By default, it is calculated automatically by rounding up the greatest central time found in the planet ephemeris. If you define a lower value than the calculated by default, then, all the central transit times greater than this new  number will be discarted (for all the planets) and the fitting will be performed until this new final time is reached in the simulations.\n",
    "\n",
    "* **dt:** This is the timestep of the simulations. By default, it is calculated by dividing the period of the inner planet over 30, which represent the 3.33% of the orbital period of the inner planet. Note that a timestep lower than 5% of internal planet period is suggested to reach a good accuracy in the simulations (Deck et al., 2014)\n",
    "\n",
    "\n",
    "Let's see these attributes automatically calculated in our system:"
   ]
  },
  {
   "cell_type": "code",
   "execution_count": 23,
   "metadata": {},
   "outputs": [
    {
     "name": "stdout",
     "output_type": "stream",
     "text": [
      "t0: 1.0  [days]\n",
      "ftime: 196.0  [days]\n",
      "dt: 0.17847710000000017  [days]\n"
     ]
    }
   ],
   "source": [
    "print(f\"t0: {PS.t0}  [days]\")\n",
    "print(f\"ftime: {PS.ftime}  [days]\")\n",
    "print(f\"dt: {PS.dt}  [days]\")"
   ]
  },
  {
   "cell_type": "markdown",
   "metadata": {},
   "source": [
    "For the purposes of this tutorial, let's change these parameters and let's see again the updated attributes in the planetary system"
   ]
  },
  {
   "cell_type": "code",
   "execution_count": 24,
   "metadata": {},
   "outputs": [
    {
     "name": "stdout",
     "output_type": "stream",
     "text": [
      "t0: 0.0  [days]\n",
      "ftime: 198  [days]\n",
      "dt: 0.17  [days]\n"
     ]
    }
   ],
   "source": [
    "# Setting the simulation attributes\n",
    "PS.simulation(t0=0.0, ftime=198, dt=0.17)\n",
    "\n",
    "print(f\"t0: {PS.t0}  [days]\")\n",
    "print(f\"ftime: {PS.ftime}  [days]\")\n",
    "print(f\"dt: {PS.dt}  [days]\")"
   ]
  },
  {
   "cell_type": "markdown",
   "metadata": {},
   "source": [
    "Nice! It appears that it is all ready to begin the simulations. But before, a **very important** step..."
   ]
  },
  {
   "cell_type": "markdown",
   "metadata": {},
   "source": [
    "## 2.4 Saving the Planetary System"
   ]
  },
  {
   "cell_type": "markdown",
   "metadata": {},
   "source": [
    "Once we have our Planetary System, it is very important to save the object. It can help us to avoid writting all the code above to define Planets and the Planetary System again, each time we want to work with it. It is also a good form to make it portable if you want to run another simulation in another computer in another time.\n",
    "\n",
    "Nauyaca have currently two formats to save the Planetary System object:\n",
    "\n",
    "* **pickle:** \n",
    "\n",
    "$Advantages:$ Fast reconstruction of the Planetary object; small file size. \n",
    "\n",
    "$Disadvantages:$ machine-readable only; it is propense to fail if you try to read it with a different Nauyaca version; probably will be deprecated in upcoming versions.\n",
    "\n",
    "* **json:** \n",
    "\n",
    "$Advantages:$ Human readable format; no conflicts with Nauyaca versions. \n",
    "\n",
    "$Disadvantages:$ Larger file size than pickle format; could fail if trying to save non-serializable objects (difficult to occur in Nauyaca).\n",
    "\n",
    "\n",
    "Each one of them have advantages and disadvantages. Thus, we recommend saving in **both** formats with the aim of having a backup of the studied planetary system.\n",
    "\n",
    "\n",
    "We save our system in these formats by doing:"
   ]
  },
  {
   "cell_type": "code",
   "execution_count": 26,
   "metadata": {},
   "outputs": [
    {
     "name": "stdout",
     "output_type": "stream",
     "text": [
      "--> Pickle file ./SystemX.pkl saved\n"
     ]
    }
   ],
   "source": [
    "PS.save_pickle()  # Save in pickle format"
   ]
  },
  {
   "cell_type": "code",
   "execution_count": 27,
   "metadata": {},
   "outputs": [
    {
     "name": "stdout",
     "output_type": "stream",
     "text": [
      "--> JSON file ./SystemX.json saved\n"
     ]
    }
   ],
   "source": [
    "PS.save_json()   # Save in json format"
   ]
  },
  {
   "cell_type": "markdown",
   "metadata": {},
   "source": [
    "which by default, will be saved with the name of the Planetary System. These files are saved in the working directory."
   ]
  },
  {
   "cell_type": "markdown",
   "metadata": {},
   "source": [
    "#### In the next tutorial, we wil see how to use these files to rebuild the Planetary System defined here. See you there!"
   ]
  },
  {
   "cell_type": "markdown",
   "metadata": {},
   "source": [
    "________________________________________"
   ]
  }
 ],
 "metadata": {
  "anaconda-cloud": {},
  "kernelspec": {
   "display_name": "Python 3",
   "language": "python",
   "name": "python3"
  },
  "language_info": {
   "codemirror_mode": {
    "name": "ipython",
    "version": 3
   },
   "file_extension": ".py",
   "mimetype": "text/x-python",
   "name": "python",
   "nbconvert_exporter": "python",
   "pygments_lexer": "ipython3",
   "version": "3.7.3"
  }
 },
 "nbformat": 4,
 "nbformat_minor": 2
}
