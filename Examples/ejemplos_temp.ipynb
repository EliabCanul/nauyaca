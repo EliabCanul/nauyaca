{
 "cells": [
  {
   "cell_type": "code",
   "execution_count": 2,
   "metadata": {},
   "outputs": [],
   "source": [
    "import nauyaca as nau\n",
    "import numpy as np"
   ]
  },
  {
   "cell_type": "code",
   "execution_count": 3,
   "metadata": {
    "scrolled": true
   },
   "outputs": [
    {
     "name": "stdout",
     "output_type": "stream",
     "text": [
      "--> Parameter -ecc- of planet -Planet-b- set to lower physical limit: 1e-06\n",
      "--> Parameter -ecc- of planet -Planet-c- set to lower physical limit: 1e-06\n",
      "\n",
      " =========== RESTARTING MCMC ===========\n",
      "\n",
      "--> Restarting from file:  ./System-X.hdf5\n",
      "--> Temperature ladder status:  Temperature ladder continued\n",
      "\n",
      "\n",
      " =========== PARALLEL-TEMPERING MCMC ===========\n",
      "\n",
      "--> Starting date:  2021-04-28 17:56\n",
      "--> Reference epoch of the solutions:  0  [JD]\n",
      "--> Results will be saved at:  ./System-X_2.hdf5\n",
      "--> MCMC parameters:\n",
      "      -ntemps: 10\n",
      "      -nwalkers: 50\n",
      "      -itmax: 1000\n",
      "      -intra_steps: 20\n",
      "\n",
      "--------- Iteration:  20\n",
      " Mean tau: -0.0\n",
      " Accepted swap fraction in Temp 0:  0.036\n",
      " Mean acceptance fraction Temp 0:  0.05\n",
      " Mean likelihood:  205.245516\n",
      " Maximum likelihood:  (0, 31) 212.451913\n",
      " Current mean likelihood dispersion:  0.0\n",
      " Saving time: 0.00981 sec\n",
      " Elapsed time:  0.0775 min\n",
      "--------- Iteration:  40\n",
      " Mean tau: 0.0\n",
      " Accepted swap fraction in Temp 0:  0.038\n",
      " Mean acceptance fraction Temp 0:  0.045\n",
      " Mean likelihood:  205.381949\n",
      " Maximum likelihood:  (0, 31) 215.612\n",
      " Current mean likelihood dispersion:  0.068217\n",
      " Saving time: 0.00873 sec\n",
      " Elapsed time:  0.1497 min\n",
      "--------- Iteration:  60\n",
      " Mean tau: -0.0\n",
      " Accepted swap fraction in Temp 0:  0.042\n",
      " Mean acceptance fraction Temp 0:  0.047\n",
      " Mean likelihood:  205.038602\n",
      " Maximum likelihood:  (0, 31) 215.02056\n",
      " Current mean likelihood dispersion:  0.171673\n",
      " Saving time: 0.01147 sec\n",
      " Elapsed time:  0.2205 min\n",
      "--------- Iteration:  80\n",
      " Mean tau: 0.0\n",
      " Accepted swap fraction in Temp 0:  0.046\n",
      " Mean acceptance fraction Temp 0:  0.046\n",
      " Mean likelihood:  204.939429\n",
      " Maximum likelihood:  (0, 31) 215.027975\n",
      " Current mean likelihood dispersion:  0.189604\n",
      " Saving time: 0.01137 sec\n",
      " Elapsed time:  0.2918 min\n",
      "--------- Iteration:  100\n",
      " Mean tau: 0.0\n",
      " Accepted swap fraction in Temp 0:  0.047\n",
      " Mean acceptance fraction Temp 0:  0.047\n",
      " Mean likelihood:  205.492037\n",
      " Maximum likelihood:  (0, 31) 215.007104\n",
      " Current mean likelihood dispersion:  0.240558\n",
      " Saving time: 0.01076 sec\n",
      " Elapsed time:  0.362 min\n",
      "--------- Iteration:  120\n",
      " Mean tau: 0.0\n",
      " Accepted swap fraction in Temp 0:  0.045\n",
      " Mean acceptance fraction Temp 0:  0.048\n",
      " Mean likelihood:  205.400395\n",
      " Maximum likelihood:  (0, 31) 214.82275\n",
      " Current mean likelihood dispersion:  0.233532\n",
      " Saving time: 0.00948 sec\n",
      " Elapsed time:  0.4327 min\n",
      "--------- Iteration:  140\n",
      " Mean tau: 0.0\n",
      " Accepted swap fraction in Temp 0:  0.046\n",
      " Mean acceptance fraction Temp 0:  0.046\n",
      " Mean likelihood:  204.969728\n",
      " Maximum likelihood:  (0, 18) 212.095829\n",
      " Current mean likelihood dispersion:  0.248176\n",
      " Saving time: 0.01075 sec\n",
      " Elapsed time:  0.5031 min\n",
      "--------- Iteration:  160\n",
      " Mean tau: 0.0\n",
      " Accepted swap fraction in Temp 0:  0.046\n",
      " Mean acceptance fraction Temp 0:  0.046\n",
      " Mean likelihood:  205.617765\n",
      " Maximum likelihood:  (0, 31) 212.399069\n",
      " Current mean likelihood dispersion:  0.277749\n",
      " Saving time: 0.01268 sec\n",
      " Elapsed time:  0.5743 min\n",
      "--------- Iteration:  180\n",
      " Mean tau: 0.0\n",
      " Accepted swap fraction in Temp 0:  0.045\n",
      " Mean acceptance fraction Temp 0:  0.044\n",
      " Mean likelihood:  205.771699\n",
      " Maximum likelihood:  (0, 31) 212.399069\n",
      " Current mean likelihood dispersion:  0.270749\n",
      " Saving time: 0.01273 sec\n",
      " Elapsed time:  0.6463 min\n",
      "--------- Iteration:  200\n",
      " Mean tau: 0.0\n",
      " Accepted swap fraction in Temp 0:  0.047\n",
      " Mean acceptance fraction Temp 0:  0.044\n",
      " Mean likelihood:  205.594821\n",
      " Maximum likelihood:  (0, 45) 213.045985\n",
      " Current mean likelihood dispersion:  0.252957\n",
      " Saving time: 0.01576 sec\n",
      " Elapsed time:  0.7523 min\n",
      "--------- Iteration:  220\n",
      " Mean tau: 0.0\n",
      " Accepted swap fraction in Temp 0:  0.046\n",
      " Mean acceptance fraction Temp 0:  0.044\n",
      " Mean likelihood:  205.960189\n",
      " Maximum likelihood:  (0, 18) 213.491345\n",
      " Current mean likelihood dispersion:  0.311734\n",
      " Saving time: 0.01181 sec\n",
      " Elapsed time:  0.8323 min\n",
      "--------- Iteration:  240\n",
      " Mean tau: 0.0\n",
      " Accepted swap fraction in Temp 0:  0.045\n",
      " Mean acceptance fraction Temp 0:  0.044\n",
      " Mean likelihood:  206.282707\n",
      " Maximum likelihood:  (0, 4) 214.281394\n",
      " Current mean likelihood dispersion:  0.385484\n",
      " Saving time: 0.01107 sec\n",
      " Elapsed time:  0.9057 min\n",
      "--------- Iteration:  260\n",
      " Mean tau: 0.0\n",
      " Accepted swap fraction in Temp 0:  0.045\n",
      " Mean acceptance fraction Temp 0:  0.045\n",
      " Mean likelihood:  206.519061\n",
      " Maximum likelihood:  (0, 4) 214.457371\n",
      " Current mean likelihood dispersion:  0.468928\n",
      " Saving time: 0.01344 sec\n",
      " Elapsed time:  0.9772 min\n",
      "--------- Iteration:  280\n",
      " Mean tau: 0.0\n",
      " Accepted swap fraction in Temp 0:  0.043\n",
      " Mean acceptance fraction Temp 0:  0.045\n",
      " Mean likelihood:  206.98075\n",
      " Maximum likelihood:  (0, 31) 214.803805\n",
      " Current mean likelihood dispersion:  0.583648\n",
      " Saving time: 0.00887 sec\n",
      " Elapsed time:  1.0508 min\n",
      "--------- Iteration:  300\n",
      " Mean tau: 0.0\n",
      " Accepted swap fraction in Temp 0:  0.043\n",
      " Mean acceptance fraction Temp 0:  0.045\n",
      " Mean likelihood:  207.135381\n",
      " Maximum likelihood:  (0, 18) 216.179646\n",
      " Current mean likelihood dispersion:  0.562443\n",
      " Saving time: 0.01074 sec\n",
      " Elapsed time:  1.1299 min\n",
      "--------- Iteration:  320\n",
      " Mean tau: -0.0\n",
      " Accepted swap fraction in Temp 0:  0.044\n",
      " Mean acceptance fraction Temp 0:  0.044\n",
      " Mean likelihood:  207.688345\n",
      " Maximum likelihood:  (0, 18) 216.188567\n",
      " Current mean likelihood dispersion:  0.700314\n",
      " Saving time: 0.01001 sec\n",
      " Elapsed time:  1.2029 min\n",
      "--------- Iteration:  340\n",
      " Mean tau: 0.0\n",
      " Accepted swap fraction in Temp 0:  0.045\n",
      " Mean acceptance fraction Temp 0:  0.044\n",
      " Mean likelihood:  207.618878\n",
      " Maximum likelihood:  (0, 18) 216.188567\n",
      " Current mean likelihood dispersion:  0.735202\n",
      " Saving time: 0.01026 sec\n",
      " Elapsed time:  1.2755 min\n",
      "--------- Iteration:  360\n",
      " Mean tau: 0.0\n",
      " Accepted swap fraction in Temp 0:  0.045\n",
      " Mean acceptance fraction Temp 0:  0.044\n",
      " Mean likelihood:  208.313804\n",
      " Maximum likelihood:  (0, 37) 214.891637\n",
      " Current mean likelihood dispersion:  0.8635\n",
      " Saving time: 0.01186 sec\n",
      " Elapsed time:  1.3485 min\n",
      "--------- Iteration:  380\n",
      " Mean tau: -0.0\n",
      " Accepted swap fraction in Temp 0:  0.044\n",
      " Mean acceptance fraction Temp 0:  0.043\n",
      " Mean likelihood:  208.256433\n",
      " Maximum likelihood:  (0, 49) 216.38764\n",
      " Current mean likelihood dispersion:  0.892721\n",
      " Saving time: 0.00992 sec\n",
      " Elapsed time:  1.4216 min\n",
      "--------- Iteration:  400\n",
      " Mean tau: -0.0\n",
      " Accepted swap fraction in Temp 0:  0.044\n",
      " Mean acceptance fraction Temp 0:  0.044\n",
      " Mean likelihood:  208.213046\n",
      " Maximum likelihood:  (0, 49) 216.38764\n",
      " Current mean likelihood dispersion:  0.916071\n",
      " Saving time: 0.00972 sec\n",
      " Elapsed time:  1.4951 min\n",
      "--------- Iteration:  420\n",
      " Mean tau: 0.0\n",
      " Accepted swap fraction in Temp 0:  0.044\n",
      " Mean acceptance fraction Temp 0:  0.043\n",
      " Mean likelihood:  208.875643\n",
      " Maximum likelihood:  (0, 31) 215.799255\n",
      " Current mean likelihood dispersion:  0.897645\n",
      " Saving time: 0.01254 sec\n",
      " Elapsed time:  1.5683 min\n",
      "--------- Iteration:  440\n",
      " Mean tau: 0.0\n",
      " Accepted swap fraction in Temp 0:  0.045\n",
      " Mean acceptance fraction Temp 0:  0.043\n",
      " Mean likelihood:  208.826098\n",
      " Maximum likelihood:  (0, 49) 215.929389\n",
      " Current mean likelihood dispersion:  0.940905\n",
      " Saving time: 0.01401 sec\n",
      " Elapsed time:  1.6615 min\n",
      "--------- Iteration:  460\n",
      " Mean tau: 0.0\n",
      " Accepted swap fraction in Temp 0:  0.044\n",
      " Mean acceptance fraction Temp 0:  0.043\n",
      " Mean likelihood:  208.583494\n",
      " Maximum likelihood:  (0, 49) 216.442695\n",
      " Current mean likelihood dispersion:  0.844591\n",
      " Saving time: 0.01468 sec\n",
      " Elapsed time:  1.7528 min\n",
      "--------- Iteration:  480\n",
      " Mean tau: 0.0\n",
      " Accepted swap fraction in Temp 0:  0.044\n",
      " Mean acceptance fraction Temp 0:  0.043\n",
      " Mean likelihood:  209.068467\n",
      " Maximum likelihood:  (0, 49) 216.442695\n",
      " Current mean likelihood dispersion:  0.881678\n",
      " Saving time: 0.01238 sec\n",
      " Elapsed time:  1.8452 min\n",
      "--------- Iteration:  500\n",
      " Mean tau: 0.0\n",
      " Accepted swap fraction in Temp 0:  0.043\n",
      " Mean acceptance fraction Temp 0:  0.044\n",
      " Mean likelihood:  209.553756\n",
      " Maximum likelihood:  (0, 31) 215.515508\n",
      " Current mean likelihood dispersion:  0.858079\n",
      " Saving time: 0.01297 sec\n",
      " Elapsed time:  1.929 min\n",
      "--------- Iteration:  520\n",
      " Mean tau: 0.0\n",
      " Accepted swap fraction in Temp 0:  0.043\n",
      " Mean acceptance fraction Temp 0:  0.044\n",
      " Mean likelihood:  209.113089\n",
      " Maximum likelihood:  (0, 45) 215.17498\n",
      " Current mean likelihood dispersion:  0.865089\n",
      " Saving time: 0.01385 sec\n",
      " Elapsed time:  2.0088 min\n"
     ]
    },
    {
     "name": "stdout",
     "output_type": "stream",
     "text": [
      "--------- Iteration:  540\n",
      " Mean tau: 0.0\n",
      " Accepted swap fraction in Temp 0:  0.043\n",
      " Mean acceptance fraction Temp 0:  0.044\n",
      " Mean likelihood:  209.310837\n",
      " Maximum likelihood:  (0, 10) 215.147298\n",
      " Current mean likelihood dispersion:  0.772308\n",
      " Saving time: 0.01148 sec\n",
      " Elapsed time:  2.0925 min\n",
      "--------- Iteration:  560\n",
      " Mean tau: 0.0\n",
      " Accepted swap fraction in Temp 0:  0.044\n",
      " Mean acceptance fraction Temp 0:  0.044\n",
      " Mean likelihood:  209.494953\n",
      " Maximum likelihood:  (0, 23) 215.13747\n",
      " Current mean likelihood dispersion:  0.794922\n",
      " Saving time: 0.01300 sec\n",
      " Elapsed time:  2.1763 min\n",
      "--------- Iteration:  580\n",
      " Mean tau: 0.0\n",
      " Accepted swap fraction in Temp 0:  0.044\n",
      " Mean acceptance fraction Temp 0:  0.044\n",
      " Mean likelihood:  209.56729\n",
      " Maximum likelihood:  (0, 34) 215.494993\n",
      " Current mean likelihood dispersion:  0.731416\n",
      " Saving time: 0.01171 sec\n",
      " Elapsed time:  2.2605 min\n",
      "--------- Iteration:  600\n",
      " Mean tau: 0.0\n",
      " Accepted swap fraction in Temp 0:  0.045\n",
      " Mean acceptance fraction Temp 0:  0.044\n",
      " Mean likelihood:  209.764748\n",
      " Maximum likelihood:  (0, 34) 215.494993\n",
      " Current mean likelihood dispersion:  0.758609\n",
      " Saving time: 0.01295 sec\n",
      " Elapsed time:  2.342 min\n",
      "--------- Iteration:  620\n",
      " Mean tau: 0.0\n",
      " Accepted swap fraction in Temp 0:  0.045\n",
      " Mean acceptance fraction Temp 0:  0.044\n",
      " Mean likelihood:  209.4688\n",
      " Maximum likelihood:  (0, 0) 215.395973\n",
      " Current mean likelihood dispersion:  0.659392\n",
      " Saving time: 0.01116 sec\n",
      " Elapsed time:  2.4259 min\n",
      "--------- Iteration:  640\n",
      " Mean tau: 0.0\n",
      " Accepted swap fraction in Temp 0:  0.045\n",
      " Mean acceptance fraction Temp 0:  0.043\n",
      " Mean likelihood:  209.664268\n",
      " Maximum likelihood:  (0, 0) 215.395973\n",
      " Current mean likelihood dispersion:  0.667285\n",
      " Saving time: 0.01143 sec\n",
      " Elapsed time:  2.5019 min\n",
      "--------- Iteration:  660\n",
      " Mean tau: 0.0\n",
      " Accepted swap fraction in Temp 0:  0.044\n",
      " Mean acceptance fraction Temp 0:  0.043\n",
      " Mean likelihood:  209.757787\n",
      " Maximum likelihood:  (0, 0) 215.237742\n",
      " Current mean likelihood dispersion:  0.62145\n",
      " Saving time: 0.01219 sec\n",
      " Elapsed time:  2.5798 min\n",
      "--------- Iteration:  680\n",
      " Mean tau: 0.0\n",
      " Accepted swap fraction in Temp 0:  0.044\n",
      " Mean acceptance fraction Temp 0:  0.044\n",
      " Mean likelihood:  209.743372\n",
      " Maximum likelihood:  (0, 0) 215.237742\n",
      " Current mean likelihood dispersion:  0.625863\n",
      " Saving time: 0.01424 sec\n",
      " Elapsed time:  2.6697 min\n",
      "--------- Iteration:  700\n",
      " Mean tau: 0.0\n",
      " Accepted swap fraction in Temp 0:  0.044\n",
      " Mean acceptance fraction Temp 0:  0.043\n",
      " Mean likelihood:  209.628714\n",
      " Maximum likelihood:  (0, 18) 214.647639\n",
      " Current mean likelihood dispersion:  0.52953\n",
      " Saving time: 0.01298 sec\n",
      " Elapsed time:  2.7574 min\n",
      "--------- Iteration:  720\n",
      " Mean tau: 0.0\n",
      " Accepted swap fraction in Temp 0:  0.044\n",
      " Mean acceptance fraction Temp 0:  0.043\n",
      " Mean likelihood:  209.768565\n",
      " Maximum likelihood:  (0, 17) 217.794753\n",
      " Current mean likelihood dispersion:  0.532008\n",
      " Saving time: 0.01371 sec\n",
      " Elapsed time:  2.8436 min\n",
      "--------- Iteration:  740\n",
      " Mean tau: 0.0\n",
      " Accepted swap fraction in Temp 0:  0.044\n",
      " Mean acceptance fraction Temp 0:  0.043\n",
      " Mean likelihood:  210.175178\n",
      " Maximum likelihood:  (0, 17) 217.794753\n",
      " Current mean likelihood dispersion:  0.529496\n",
      " Saving time: 0.01739 sec\n",
      " Elapsed time:  2.9341 min\n",
      "--------- Iteration:  760\n",
      " Mean tau: 0.0\n",
      " Accepted swap fraction in Temp 0:  0.043\n",
      " Mean acceptance fraction Temp 0:  0.043\n",
      " Mean likelihood:  210.192795\n",
      " Maximum likelihood:  (0, 18) 217.232485\n",
      " Current mean likelihood dispersion:  0.551009\n",
      " Saving time: 0.01342 sec\n",
      " Elapsed time:  3.0272 min\n",
      "--------- Iteration:  780\n",
      " Mean tau: 0.0\n",
      " Accepted swap fraction in Temp 0:  0.043\n",
      " Mean acceptance fraction Temp 0:  0.043\n",
      " Mean likelihood:  210.350896\n",
      " Maximum likelihood:  (0, 18) 217.232485\n",
      " Current mean likelihood dispersion:  0.531652\n",
      " Saving time: 0.01390 sec\n",
      " Elapsed time:  3.1182 min\n",
      "--------- Iteration:  800\n",
      " Mean tau: 0.0\n",
      " Accepted swap fraction in Temp 0:  0.042\n",
      " Mean acceptance fraction Temp 0:  0.043\n",
      " Mean likelihood:  210.38567\n",
      " Maximum likelihood:  (0, 18) 217.232485\n",
      " Current mean likelihood dispersion:  0.555322\n",
      " Saving time: 0.00917 sec\n",
      " Elapsed time:  3.2006 min\n",
      "--------- Iteration:  820\n",
      " Mean tau: 0.0\n",
      " Accepted swap fraction in Temp 0:  0.042\n",
      " Mean acceptance fraction Temp 0:  0.043\n",
      " Mean likelihood:  210.331433\n",
      " Maximum likelihood:  (0, 18) 217.232485\n",
      " Current mean likelihood dispersion:  0.502179\n",
      " Saving time: 0.01156 sec\n",
      " Elapsed time:  3.2862 min\n",
      "--------- Iteration:  840\n",
      " Mean tau: 0.0\n",
      " Accepted swap fraction in Temp 0:  0.041\n",
      " Mean acceptance fraction Temp 0:  0.043\n",
      " Mean likelihood:  210.682277\n",
      " Maximum likelihood:  (0, 18) 217.459263\n",
      " Current mean likelihood dispersion:  0.53984\n",
      " Saving time: 0.01145 sec\n",
      " Elapsed time:  3.3765 min\n",
      "--------- Iteration:  860\n",
      " Mean tau: 0.0\n",
      " Accepted swap fraction in Temp 0:  0.041\n",
      " Mean acceptance fraction Temp 0:  0.043\n",
      " Mean likelihood:  210.695791\n",
      " Maximum likelihood:  (0, 18) 217.459263\n",
      " Current mean likelihood dispersion:  0.554056\n",
      " Saving time: 0.01131 sec\n",
      " Elapsed time:  3.4671 min\n",
      "--------- Iteration:  880\n",
      " Mean tau: 0.0\n",
      " Accepted swap fraction in Temp 0:  0.041\n",
      " Mean acceptance fraction Temp 0:  0.043\n",
      " Mean likelihood:  210.603481\n",
      " Maximum likelihood:  (0, 33) 217.226439\n",
      " Current mean likelihood dispersion:  0.570208\n",
      " Saving time: 0.01223 sec\n",
      " Elapsed time:  3.5488 min\n",
      "--------- Iteration:  900\n",
      " Mean tau: 0.0\n",
      " Accepted swap fraction in Temp 0:  0.04\n",
      " Mean acceptance fraction Temp 0:  0.042\n",
      " Mean likelihood:  211.293075\n",
      " Maximum likelihood:  (0, 33) 217.226439\n",
      " Current mean likelihood dispersion:  0.612822\n",
      " Saving time: 0.01300 sec\n",
      " Elapsed time:  3.6371 min\n",
      "--------- Iteration:  920\n",
      " Mean tau: 0.0\n",
      " Accepted swap fraction in Temp 0:  0.04\n",
      " Mean acceptance fraction Temp 0:  0.043\n",
      " Mean likelihood:  211.52359\n",
      " Maximum likelihood:  (0, 27) 218.492829\n",
      " Current mean likelihood dispersion:  0.68411\n",
      " Saving time: 0.01329 sec\n",
      " Elapsed time:  3.7302 min\n",
      "--------- Iteration:  940\n",
      " Mean tau: 0.0\n",
      " Accepted swap fraction in Temp 0:  0.039\n",
      " Mean acceptance fraction Temp 0:  0.043\n",
      " Mean likelihood:  211.768255\n",
      " Maximum likelihood:  (0, 27) 218.492829\n",
      " Current mean likelihood dispersion:  0.714985\n",
      " Saving time: 0.01682 sec\n",
      " Elapsed time:  3.8218 min\n",
      "--------- Iteration:  960\n",
      " Mean tau: 0.0\n",
      " Accepted swap fraction in Temp 0:  0.039\n",
      " Mean acceptance fraction Temp 0:  0.043\n",
      " Mean likelihood:  212.136691\n",
      " Maximum likelihood:  (0, 27) 219.889208\n",
      " Current mean likelihood dispersion:  0.808252\n",
      " Saving time: 0.01420 sec\n",
      " Elapsed time:  3.9154 min\n",
      "--------- Iteration:  980\n",
      " Mean tau: -0.0\n",
      " Accepted swap fraction in Temp 0:  0.039\n",
      " Mean acceptance fraction Temp 0:  0.043\n",
      " Mean likelihood:  212.640754\n",
      " Maximum likelihood:  (0, 27) 220.083534\n",
      " Current mean likelihood dispersion:  0.911516\n",
      " Saving time: 0.01691 sec\n",
      " Elapsed time:  4.0085 min\n",
      "--------- Iteration:  1000\n",
      " Mean tau: 0.0\n",
      " Accepted swap fraction in Temp 0:  0.038\n",
      " Mean acceptance fraction Temp 0:  0.043\n",
      " Mean likelihood:  212.387384\n",
      " Maximum likelihood:  (0, 19) 219.160498\n",
      " Current mean likelihood dispersion:  0.979452\n",
      " Saving time: 0.01325 sec\n",
      " Elapsed time:  4.1002 min\n",
      "\n",
      "--> Maximum number of iterations reached in MCMC\n",
      "--> Best solutions from the ./System-X_2.hdf5 will be written at: ./System-X_2.best\n",
      "--> Reference epoch of the solutions:  0  [JD]\n",
      "--> Iterations performed:  1000\n",
      "--> Elapsed time in MCMC: 4.1003 minutes\n"
     ]
    },
    {
     "data": {
      "text/plain": [
       "<ptemcee.sampler.Sampler at 0x7f2d37d901d0>"
      ]
     },
     "execution_count": 3,
     "metadata": {},
     "output_type": "execute_result"
    }
   ],
   "source": [
    "\n",
    "# Let's load the Planetary System object\n",
    "system = nau.PlanetarySystem.load_json('System-X.json')\n",
    "\n",
    "# Restarting the mcmc using a new number of iterations and saving at each intra_steps\n",
    "# We specify that the temperature ladder continue as before\n",
    "nau.MCMC.restart_mcmc(system, \n",
    "                hdf5_file=f'System-X.hdf5', \n",
    "                cores=8, \n",
    "                itmax=1000, \n",
    "                intra_steps=20, \n",
    "                restart_ladder=False)"
   ]
  },
  {
   "cell_type": "code",
   "execution_count": 11,
   "metadata": {},
   "outputs": [
    {
     "name": "stdout",
     "output_type": "stream",
     "text": [
      "\n",
      "\n"
     ]
    }
   ],
   "source": [
    "print()\n",
    "print()"
   ]
  },
  {
   "cell_type": "code",
   "execution_count": 4,
   "metadata": {},
   "outputs": [
    {
     "name": "stdout",
     "output_type": "stream",
     "text": [
      "number of walkers:  50\n",
      "chains1 shape:  (50, 100, 13)\n"
     ]
    }
   ],
   "source": [
    "results1 = nau.utils.get_mcmc_results('System-X.hdf5', keywords=['CHAINS','NWALKERS'])\n",
    "chains1 = results1['CHAINS'][0] # Choose the temperature 0\n",
    "nw = results1['NWALKERS'][0]\n",
    "print(\"number of walkers: \", nw)\n",
    "print(\"chains1 shape: \", chains1.shape)"
   ]
  },
  {
   "cell_type": "code",
   "execution_count": 5,
   "metadata": {},
   "outputs": [
    {
     "name": "stdout",
     "output_type": "stream",
     "text": [
      "chains2 shape:  (50, 50, 13)\n"
     ]
    }
   ],
   "source": [
    "results2 = nau.utils.get_mcmc_results('System-X_2.hdf5', keywords=['CHAINS'])\n",
    "chains2 = results2['CHAINS'][0] # Choose the temperature 0\n",
    "print(\"chains2 shape: \",chains2.shape)"
   ]
  },
  {
   "cell_type": "code",
   "execution_count": 6,
   "metadata": {},
   "outputs": [
    {
     "name": "stdout",
     "output_type": "stream",
     "text": [
      "chains norm shape:  (50, 150, 13)\n"
     ]
    }
   ],
   "source": [
    "chains = np.concatenate([chains1, chains2], axis=1)\n",
    "print(\"chains norm shape: \",chains.shape)"
   ]
  },
  {
   "cell_type": "code",
   "execution_count": 37,
   "metadata": {},
   "outputs": [],
   "source": [
    "# The results from the mcmc are the normalized between 0 and 1, which \n",
    "# correspond to the established boundaries. In order to get the physical \n",
    "# values it is necessary to convert them back"
   ]
  },
  {
   "cell_type": "code",
   "execution_count": 13,
   "metadata": {},
   "outputs": [],
   "source": [
    "chains_phys = np.array([list(nau.utils.cube_to_physical(system, x) for x in chains[w,:,:]) for w in range(nw) ])"
   ]
  },
  {
   "cell_type": "code",
   "execution_count": 14,
   "metadata": {},
   "outputs": [
    {
     "name": "stdout",
     "output_type": "stream",
     "text": [
      "chains physical shape:  (50, 150, 14)\n"
     ]
    }
   ],
   "source": [
    "# It will return the physical chains\n",
    "print(\"chains physical shape: \", chains_phys.shape)"
   ]
  },
  {
   "cell_type": "code",
   "execution_count": 15,
   "metadata": {},
   "outputs": [
    {
     "name": "stdout",
     "output_type": "stream",
     "text": [
      "Constant parameters inserted:  OrderedDict([(6, 179.99)])\n"
     ]
    }
   ],
   "source": [
    "# Note that the shape of the physical chains have an extra dimension. \n",
    "# It is because nau.utils.cube_to_physical insert the constant parameters\n",
    "# stored in system.constant_params\n",
    "print(\"Constant parameters inserted: \", system.constant_params)\n",
    "# which corresponds to the index and the value"
   ]
  },
  {
   "cell_type": "code",
   "execution_count": 16,
   "metadata": {},
   "outputs": [
    {
     "name": "stdout",
     "output_type": "stream",
     "text": [
      "chains physical shape (no constants):  (50, 150, 13)\n"
     ]
    }
   ],
   "source": [
    "# If you need the physical values without the constant parameters,\n",
    "# you can remove them with the function _remove_constants in utils\n",
    "chains_phys = np.array([[nau.utils._remove_constants(system, x) for x in chains_phys[w,:,:]] for w in range(nw) ])\n",
    "print(\"chains physical shape (no constants): \", chains_phys.shape)"
   ]
  },
  {
   "cell_type": "code",
   "execution_count": 17,
   "metadata": {},
   "outputs": [
    {
     "data": {
      "text/plain": [
       "'mass1  period1  ecc1  inclination1  argument1  mean_anomaly1  mass2  period2  ecc2  inclination2  argument2  mean_anomaly2  ascending_node2'"
      ]
     },
     "execution_count": 17,
     "metadata": {},
     "output_type": "execute_result"
    }
   ],
   "source": [
    "# Now, do whatever operation with these chains. Remember that the dimensions are\n",
    "system.params_names"
   ]
  },
  {
   "cell_type": "code",
   "execution_count": 19,
   "metadata": {},
   "outputs": [
    {
     "name": "stdout",
     "output_type": "stream",
     "text": [
      "Mass 1: 10.01831525199345 +/- 0.6416617877818983\n"
     ]
    }
   ],
   "source": [
    "# Results for mass of planet 1\n",
    "mass1 = np.mean(chains_phys[:,:,0].flatten())\n",
    "mass_std = np.std(chains_phys[:,:,0].flatten())\n",
    "print(f\"Mass 1: {mass1} +/- {mass_std}\")"
   ]
  },
  {
   "cell_type": "markdown",
   "metadata": {},
   "source": [
    "_____________________"
   ]
  },
  {
   "cell_type": "code",
   "execution_count": 1,
   "metadata": {},
   "outputs": [],
   "source": [
    "import nauyaca as nau\n",
    "import numpy as np\n",
    "import matplotlib.pyplot as plt"
   ]
  },
  {
   "cell_type": "code",
   "execution_count": 25,
   "metadata": {},
   "outputs": [
    {
     "name": "stdout",
     "output_type": "stream",
     "text": [
      "--> Parameter -ecc- of planet -Planet-b- set to lower physical limit: 1e-06\n",
      "--> Parameter -ecc- of planet -Planet-c- set to lower physical limit: 1e-06\n",
      "\n",
      " =========== Planetary System Summary =========== \n",
      "--> Parameter -ecc- of planet -Planet-b- set to lower physical limit: 1e-06\n",
      "--> Parameter -ecc- of planet -Planet-c- set to lower physical limit: 1e-06\n",
      "\n",
      "System: System-X\n",
      "Mstar: 0.91 Msun |  Rstar: 1.18 Rsun\n",
      "Number of planets: 2\n",
      "Planet information:\n",
      "------\n",
      "Planet1: Planet-b\n",
      "  Boundaries:\n",
      "    mass: (1, 100)  [M_earth]\n",
      "    period: (33.61, 33.62)  [d]\n",
      "    ecc: (1e-06, 0.3)   \n",
      "    inclination: (85, 95)  [deg]\n",
      "    argument: (0.0, 360)  [deg]\n",
      "    mean_anomaly: (0.0, 360)  [deg]\n",
      "    ascending_node: (179.99, 179.99)  [deg]\n",
      "  TTVs: True\n",
      "------\n",
      "Planet2: Planet-c\n",
      "  Boundaries:\n",
      "    mass: (1, 100)  [M_earth]\n",
      "    period: (73.5, 73.51)  [d]\n",
      "    ecc: (1e-06, 0.3)   \n",
      "    inclination: (85, 95)  [deg]\n",
      "    argument: (0.0, 360)  [deg]\n",
      "    mean_anomaly: (0.0, 360)  [deg]\n",
      "    ascending_node: (90, 270)  [deg]\n",
      "  TTVs: True\n",
      "\n",
      "Simulation attributes: \n",
      "Reference epoch of the solutions (t0): 0 [JD]\n",
      "Total time of TTVs data (ftime): 997.0 [days]\n",
      "Timestep of the simulations (dt): 1.1 [days]\n"
     ]
    }
   ],
   "source": [
    "\n",
    "# Let's load the Planetary System object\n",
    "mysystem = nau.PlanetarySystem.load_json('System-X.json')\n",
    "print(mysystem)"
   ]
  },
  {
   "cell_type": "code",
   "execution_count": 26,
   "metadata": {
    "scrolled": true
   },
   "outputs": [
    {
     "ename": "OSError",
     "evalue": "System-X.opt not found.",
     "output_type": "error",
     "traceback": [
      "\u001b[0;31m---------------------------------------------------------------------------\u001b[0m",
      "\u001b[0;31mOSError\u001b[0m                                   Traceback (most recent call last)",
      "\u001b[0;32m<ipython-input-26-be30db6fd83e>\u001b[0m in \u001b[0;36m<module>\u001b[0;34m\u001b[0m\n\u001b[0;32m----> 1\u001b[0;31m \u001b[0mopt\u001b[0m \u001b[0;34m=\u001b[0m \u001b[0mnp\u001b[0m\u001b[0;34m.\u001b[0m\u001b[0mgenfromtxt\u001b[0m\u001b[0;34m(\u001b[0m\u001b[0;34m'System-X.opt'\u001b[0m\u001b[0;34m)\u001b[0m\u001b[0;34m\u001b[0m\u001b[0;34m\u001b[0m\u001b[0m\n\u001b[0m",
      "\u001b[0;32m~/anaconda2/envs/Py37/lib/python3.7/site-packages/numpy/lib/npyio.py\u001b[0m in \u001b[0;36mgenfromtxt\u001b[0;34m(fname, dtype, comments, delimiter, skip_header, skip_footer, converters, missing_values, filling_values, usecols, names, excludelist, deletechars, replace_space, autostrip, case_sensitive, defaultfmt, unpack, usemask, loose, invalid_raise, max_rows, encoding)\u001b[0m\n\u001b[1;32m   1742\u001b[0m             \u001b[0mfname\u001b[0m \u001b[0;34m=\u001b[0m \u001b[0mos_fspath\u001b[0m\u001b[0;34m(\u001b[0m\u001b[0mfname\u001b[0m\u001b[0;34m)\u001b[0m\u001b[0;34m\u001b[0m\u001b[0;34m\u001b[0m\u001b[0m\n\u001b[1;32m   1743\u001b[0m         \u001b[0;32mif\u001b[0m \u001b[0misinstance\u001b[0m\u001b[0;34m(\u001b[0m\u001b[0mfname\u001b[0m\u001b[0;34m,\u001b[0m \u001b[0mbasestring\u001b[0m\u001b[0;34m)\u001b[0m\u001b[0;34m:\u001b[0m\u001b[0;34m\u001b[0m\u001b[0;34m\u001b[0m\u001b[0m\n\u001b[0;32m-> 1744\u001b[0;31m             \u001b[0mfhd\u001b[0m \u001b[0;34m=\u001b[0m \u001b[0miter\u001b[0m\u001b[0;34m(\u001b[0m\u001b[0mnp\u001b[0m\u001b[0;34m.\u001b[0m\u001b[0mlib\u001b[0m\u001b[0;34m.\u001b[0m\u001b[0m_datasource\u001b[0m\u001b[0;34m.\u001b[0m\u001b[0mopen\u001b[0m\u001b[0;34m(\u001b[0m\u001b[0mfname\u001b[0m\u001b[0;34m,\u001b[0m \u001b[0;34m'rt'\u001b[0m\u001b[0;34m,\u001b[0m \u001b[0mencoding\u001b[0m\u001b[0;34m=\u001b[0m\u001b[0mencoding\u001b[0m\u001b[0;34m)\u001b[0m\u001b[0;34m)\u001b[0m\u001b[0;34m\u001b[0m\u001b[0;34m\u001b[0m\u001b[0m\n\u001b[0m\u001b[1;32m   1745\u001b[0m             \u001b[0mown_fhd\u001b[0m \u001b[0;34m=\u001b[0m \u001b[0;32mTrue\u001b[0m\u001b[0;34m\u001b[0m\u001b[0;34m\u001b[0m\u001b[0m\n\u001b[1;32m   1746\u001b[0m         \u001b[0;32melse\u001b[0m\u001b[0;34m:\u001b[0m\u001b[0;34m\u001b[0m\u001b[0;34m\u001b[0m\u001b[0m\n",
      "\u001b[0;32m~/anaconda2/envs/Py37/lib/python3.7/site-packages/numpy/lib/_datasource.py\u001b[0m in \u001b[0;36mopen\u001b[0;34m(path, mode, destpath, encoding, newline)\u001b[0m\n\u001b[1;32m    264\u001b[0m \u001b[0;34m\u001b[0m\u001b[0m\n\u001b[1;32m    265\u001b[0m     \u001b[0mds\u001b[0m \u001b[0;34m=\u001b[0m \u001b[0mDataSource\u001b[0m\u001b[0;34m(\u001b[0m\u001b[0mdestpath\u001b[0m\u001b[0;34m)\u001b[0m\u001b[0;34m\u001b[0m\u001b[0;34m\u001b[0m\u001b[0m\n\u001b[0;32m--> 266\u001b[0;31m     \u001b[0;32mreturn\u001b[0m \u001b[0mds\u001b[0m\u001b[0;34m.\u001b[0m\u001b[0mopen\u001b[0m\u001b[0;34m(\u001b[0m\u001b[0mpath\u001b[0m\u001b[0;34m,\u001b[0m \u001b[0mmode\u001b[0m\u001b[0;34m,\u001b[0m \u001b[0mencoding\u001b[0m\u001b[0;34m=\u001b[0m\u001b[0mencoding\u001b[0m\u001b[0;34m,\u001b[0m \u001b[0mnewline\u001b[0m\u001b[0;34m=\u001b[0m\u001b[0mnewline\u001b[0m\u001b[0;34m)\u001b[0m\u001b[0;34m\u001b[0m\u001b[0;34m\u001b[0m\u001b[0m\n\u001b[0m\u001b[1;32m    267\u001b[0m \u001b[0;34m\u001b[0m\u001b[0m\n\u001b[1;32m    268\u001b[0m \u001b[0;34m\u001b[0m\u001b[0m\n",
      "\u001b[0;32m~/anaconda2/envs/Py37/lib/python3.7/site-packages/numpy/lib/_datasource.py\u001b[0m in \u001b[0;36mopen\u001b[0;34m(self, path, mode, encoding, newline)\u001b[0m\n\u001b[1;32m    622\u001b[0m                                       encoding=encoding, newline=newline)\n\u001b[1;32m    623\u001b[0m         \u001b[0;32melse\u001b[0m\u001b[0;34m:\u001b[0m\u001b[0;34m\u001b[0m\u001b[0;34m\u001b[0m\u001b[0m\n\u001b[0;32m--> 624\u001b[0;31m             \u001b[0;32mraise\u001b[0m \u001b[0mIOError\u001b[0m\u001b[0;34m(\u001b[0m\u001b[0;34m\"%s not found.\"\u001b[0m \u001b[0;34m%\u001b[0m \u001b[0mpath\u001b[0m\u001b[0;34m)\u001b[0m\u001b[0;34m\u001b[0m\u001b[0;34m\u001b[0m\u001b[0m\n\u001b[0m\u001b[1;32m    625\u001b[0m \u001b[0;34m\u001b[0m\u001b[0m\n\u001b[1;32m    626\u001b[0m \u001b[0;34m\u001b[0m\u001b[0m\n",
      "\u001b[0;31mOSError\u001b[0m: System-X.opt not found."
     ]
    }
   ],
   "source": [
    "opt = np.genfromtxt('System-X.opt')\n"
   ]
  },
  {
   "cell_type": "code",
   "execution_count": 12,
   "metadata": {
    "scrolled": true
   },
   "outputs": [
    {
     "data": {
      "image/png": "[encoded data removed]",
      "text/plain": [
       "<Figure size 1080x720 with 2 Axes>"
      ]
     },
     "metadata": {
      "needs_background": "light"
     },
     "output_type": "display_data"
    }
   ],
   "source": [
    "x, y = 'mass2', 'mass3'\n",
    "dparam = dict(list(zip(mysystem.params_names.split(), range(mysystem.ndim))))\n",
    "\n",
    "chi2 = opt.T[0]\n",
    "phys = opt[:,1:].T\n",
    "\n",
    "cx = phys[dparam[x]]\n",
    "cy = phys[dparam[y]]\n",
    "\n",
    "plt.figure(figsize=(15,10))\n",
    "\n",
    "# Plot all the solutions from the optimizers\n",
    "plt.scatter(cx, cy, \n",
    "        c=np.log10(chi2), \n",
    "            cmap='hot', s=100,\n",
    "            edgecolors='k',\n",
    "        label='Results from optimizers')\n",
    "cb = plt.colorbar()\n",
    "cb.set_label(r'$\\log_{10} \\chi^2$')\n"
   ]
  },
  {
   "cell_type": "code",
   "execution_count": null,
   "metadata": {},
   "outputs": [],
   "source": [
    "# Now, let's use many of the functions in the utils module.\n",
    "\n",
    "# Mid-transit times are simulated from a given initial conditions\n",
    "# Then, these transits are compared with the observations. \n",
    "# Let's calculate the chi square statistic of random solutions.\n"
   ]
  },
  {
   "cell_type": "code",
   "execution_count": 27,
   "metadata": {},
   "outputs": [],
   "source": [
    "# Let's read the mcmc chains from a previous run\n",
    "results = nau.utils.get_mcmc_results('./System-X.hdf5', keywords=['CHAINS'])\n",
    "chains = results['CHAINS'][0]\n",
    "nw, steps, _ = chains.shape"
   ]
  },
  {
   "cell_type": "code",
   "execution_count": 28,
   "metadata": {},
   "outputs": [
    {
     "name": "stdout",
     "output_type": "stream",
     "text": [
      "Random solutions|  walker:29  step:91\n"
     ]
    }
   ],
   "source": [
    "# Now, we select a random solution\n",
    "rdm_wk = np.random.randint(0,nw)\n",
    "rdm_st = np.random.randint(.8*steps,steps)\n",
    "print(f\"Random solutions|  walker:{rdm_wk}  step:{rdm_st}\")"
   ]
  },
  {
   "cell_type": "code",
   "execution_count": 29,
   "metadata": {},
   "outputs": [],
   "source": [
    "# There are two ways of calculating the chi square:\n",
    "# 1.- From the normalized solution\n",
    "# 2.- From the physical solution "
   ]
  },
  {
   "cell_type": "code",
   "execution_count": 30,
   "metadata": {},
   "outputs": [
    {
     "name": "stdout",
     "output_type": "stream",
     "text": [
      "Normalized solution:\n",
      " [0.0890076  0.81122107 0.46917364 0.60177398 0.78470411 0.62218694\n",
      " 0.18382261 0.92361424 0.04613802 0.52335149 0.62610523 0.07569874\n",
      " 0.36712031]\n"
     ]
    }
   ],
   "source": [
    "# 1.- \n",
    "\n",
    "# Extract that random solution\n",
    "x_cube = chains[rdm_wk, rdm_st, :]\n",
    "print(\"Normalized solution:\\n\", x_cube)"
   ]
  },
  {
   "cell_type": "code",
   "execution_count": 31,
   "metadata": {},
   "outputs": [
    {
     "name": "stdout",
     "output_type": "stream",
     "text": [
      "134.36214306192235\n"
     ]
    }
   ],
   "source": [
    "# Let's pass the proposal and the Planetary System object\n",
    "chi2 = nau.utils.calculate_chi2(x_cube, mysystem)\n",
    "print(chi2)"
   ]
  },
  {
   "cell_type": "code",
   "execution_count": 32,
   "metadata": {},
   "outputs": [
    {
     "name": "stdout",
     "output_type": "stream",
     "text": [
      "[9.81175262e+00 3.36181122e+01 1.40752624e-01 9.10177398e+01\n",
      " 3.26480778e+02 2.38506183e+02 1.79990000e+02 1.91984388e+01\n",
      " 7.35092361e+01 1.38423598e-02 9.02335149e+01 7.26494279e+01\n",
      " 1.81463343e+01 1.56081657e+02]\n"
     ]
    }
   ],
   "source": [
    "# 2.-\n",
    "\n",
    "# Convert the normalized solution to physical values\n",
    "x_phys = nau.utils.cube_to_physical(mysystem, x_cube)\n",
    "print(x_phys)"
   ]
  },
  {
   "cell_type": "code",
   "execution_count": 33,
   "metadata": {},
   "outputs": [
    {
     "data": {
      "text/plain": [
       "{'mass1': 9.811752624259658,\n",
       " 'period1': 33.618112210684124,\n",
       " 'ecc1': 0.14075262355071178,\n",
       " 'inclination1': 91.0177398348025,\n",
       " 'argument1': 326.48077764626487,\n",
       " 'mean_anomaly1': 238.50618349162954,\n",
       " 'ascending_node1': 179.99,\n",
       " 'mass2': 19.19843884687079,\n",
       " 'period2': 73.50923614244303,\n",
       " 'ecc2': 0.01384235975913711,\n",
       " 'inclination2': 90.23351489321861,\n",
       " 'argument2': 72.64942793811903,\n",
       " 'mean_anomaly2': 18.146334326903798,\n",
       " 'ascending_node2': 156.08165659275883}"
      ]
     },
     "execution_count": 33,
     "metadata": {},
     "output_type": "execute_result"
    }
   ],
   "source": [
    "# An easy way to know what that solution means:\n",
    "dict(zip(mysystem.params_names_all.split(), x_phys))"
   ]
  },
  {
   "cell_type": "code",
   "execution_count": 34,
   "metadata": {},
   "outputs": [
    {
     "name": "stdout",
     "output_type": "stream",
     "text": [
      "134.36214306192235\n"
     ]
    }
   ],
   "source": [
    "# Now, we use the function calculate_chi2_physical\n",
    "chi2 = nau.utils.calculate_chi2_physical(x_phys, mysystem)\n",
    "print(chi2)"
   ]
  },
  {
   "cell_type": "code",
   "execution_count": 35,
   "metadata": {},
   "outputs": [
    {
     "name": "stdout",
     "output_type": "stream",
     "text": [
      "{'Planet-b': 94.55629062851118, 'Planet-c': 39.80585243341118}\n"
     ]
    }
   ],
   "source": [
    "# There are many other functionalities in calculate_chi2_physical\n",
    "# For example, we can get the individual chi2 ṕer planet\n",
    "chi2 = nau.utils.calculate_chi2_physical(x_phys, mysystem, individual=True)\n",
    "print(chi2)\n",
    "# which  returns a dictionary with the individual chi squares per planet in the system"
   ]
  },
  {
   "cell_type": "code",
   "execution_count": 36,
   "metadata": {},
   "outputs": [
    {
     "name": "stdout",
     "output_type": "stream",
     "text": [
      "chi2: 134.36214306192235\n",
      "Simulated ephemeris:\n",
      " {'Planet-b': {0: 21.551597124607497, 1: 55.17139063600678, 2: 88.79342842201437, 3: 122.41788688571519, 4: 156.0422005975135, 5: 189.6699147900399, 6: 223.29591026074638, 7: 256.923103278708, 8: 290.54935815275775, 9: 324.169546311197, 10: 357.78942522933295, 11: 391.4083932566132, 12: 425.0272270652485, 13: 458.6483378703758, 14: 492.2711577711872, 15: 525.8949341203893, 16: 559.5218271666602, 17: 593.1472781723877, 18: 626.7759615288923, 19: 660.4031882969119, 20: 694.0252262077029, 21: 727.6469763926249, 22: 761.2656436023863, 23: 794.8839325127633, 24: 828.5038345809081, 25: 862.1246205488914, 26: 895.7473004800153, 27: 929.3727472176972, 28: 962.9974215117526, 29: 996.6256328454709}, 'Planet-c': {0: 73.2491564481656, 1: 146.74940417724974, 2: 220.24126506212446, 3: 293.7311583716907, 4: 367.2339349699329, 5: 440.74170397446915, 6: 514.2448240096629, 7: 587.7394332587135, 8: 661.2275402985698, 9: 734.7263312811807, 10: 808.2337779579985, 11: 881.7399283602629, 12: 955.23809826072}}\n"
     ]
    }
   ],
   "source": [
    "# We can also get the simulated ephemeris of these planets\n",
    "chi2, ephe = nau.utils.calculate_chi2_physical(x_phys, mysystem, get_ephemeris=True)\n",
    "print(\"chi2:\", chi2)\n",
    "print(\"Simulated ephemeris:\\n\",ephe)"
   ]
  },
  {
   "cell_type": "code",
   "execution_count": 37,
   "metadata": {},
   "outputs": [],
   "source": [
    "# It returns a tuple with the chi2 and a dictionary with the simulated ephemeris per\n",
    "# planet, where keys are the transit epoch number and values are the mid-trantis times"
   ]
  },
  {
   "cell_type": "code",
   "execution_count": 38,
   "metadata": {},
   "outputs": [
    {
     "data": {
      "image/png": "[encoded data removed]",
      "text/plain": [
       "<Figure size 720x720 with 4 Axes>"
      ]
     },
     "metadata": {},
     "output_type": "display_data"
    }
   ],
   "source": [
    "# Want to know how that solution looks like?\n",
    "# Use the Plots module in nauyaca\n",
    "\n",
    "naup = nau.Plots(mysystem)\n",
    "\n",
    "# Remove the constant parameters. They will be automatically\n",
    "# added in TTVs plot function\n",
    "x_phys_2 = nau.utils._remove_constants(mysystem, x_phys)\n",
    "\n",
    "naup.TTVs(flat_params=x_phys_2 )\n"
   ]
  },
  {
   "cell_type": "code",
   "execution_count": null,
   "metadata": {},
   "outputs": [],
   "source": []
  }
 ],
 "metadata": {
  "kernelspec": {
   "display_name": "Python 3",
   "language": "python",
   "name": "python3"
  },
  "language_info": {
   "codemirror_mode": {
    "name": "ipython",
    "version": 3
   },
   "file_extension": ".py",
   "mimetype": "text/x-python",
   "name": "python",
   "nbconvert_exporter": "python",
   "pygments_lexer": "ipython3",
   "version": "3.7.3"
  }
 },
 "nbformat": 4,
 "nbformat_minor": 2
}
