{
 "cells": [
  {
   "cell_type": "markdown",
   "metadata": {},
   "source": [
    "# 2.- Setup"
   ]
  },
  {
   "cell_type": "markdown",
   "metadata": {},
   "source": [
    "In this tutorial we'll learn how to prepare our data before performing the simulations. The main idea is to create Planetary System objects, based on individual Planets. In this tutorial (and the forthcoming) we will use a synthetic planetary systems with two planets described in the Introduction."
   ]
  },
  {
   "cell_type": "markdown",
   "metadata": {},
   "source": [
    "## Example: Solving a two-planet system"
   ]
  },
  {
   "cell_type": "markdown",
   "metadata": {},
   "source": [
    "Let's import the Nauyaca, given the alias: nau"
   ]
  },
  {
   "cell_type": "code",
   "execution_count": 1,
   "metadata": {},
   "outputs": [],
   "source": [
    "import nauyaca as nau"
   ]
  },
  {
   "cell_type": "markdown",
   "metadata": {},
   "source": [
    "## 2.1 The Planet object"
   ]
  },
  {
   "cell_type": "markdown",
   "metadata": {},
   "source": [
    "First, let's define the Planet objects and their attributes. These planets will be part of the planetary system that we want to analyze. We create a Planet just by giving a planet name. Let's assume that the **first** planet in our system is named simply \"Planet-b\". Then, we create it as follows:"
   ]
  },
  {
   "cell_type": "code",
   "execution_count": 2,
   "metadata": {},
   "outputs": [],
   "source": [
    "Planetb = nau.SetPlanet(\"Planet-b\")"
   ]
  },
  {
   "cell_type": "markdown",
   "metadata": {},
   "source": [
    "Nice! it was so easy. What can we do now? Well, since we want to fit the mid-transit times of our planet, let's give the transit data."
   ]
  },
  {
   "cell_type": "markdown",
   "metadata": {},
   "source": [
    "### 2.1.1 Transit times data"
   ]
  },
  {
   "cell_type": "markdown",
   "metadata": {},
   "source": [
    "There are two ways of giving the mid-transit time observations to the Planet object. \n",
    "\n",
    "**1.-** The first one is by explicity giving a dictionary of the ephemerids to the attribute -ttvs_data-, in the following format:"
   ]
  },
  {
   "cell_type": "code",
   "execution_count": 3,
   "metadata": {},
   "outputs": [],
   "source": [
    "Planetb.ttvs_data = {0: [1.942086, 0.000264, 0.000264],\n",
    "                     1: [7.296529, 0.000264, 0.000264],\n",
    "                     2: [12.654044, 0.000264, 0.000264],\n",
    "                     #... more data\n",
    "                    }"
   ]
  },
  {
   "cell_type": "markdown",
   "metadata": {},
   "source": [
    "where the keys are the transit epochs (integer numbers) and the values are lists containing, for each epoch, the central transit time and the lower and upper errors, in days."
   ]
  },
  {
   "cell_type": "markdown",
   "metadata": {},
   "source": [
    "**2.-** The second one, is by using the .load_ttvs method. When using this way, the ephemeris should be in an ascci file containing the transit epochs, the central transit times and the lower and upper errors, as before.\n",
    "\n",
    "For example, a file containing these data looks like:"
   ]
  },
  {
   "cell_type": "code",
   "execution_count": 4,
   "metadata": {},
   "outputs": [
    {
     "name": "stdout",
     "output_type": "stream",
     "text": [
      "#Transit  t_c           lower_err      upper_err\r\n",
      "#Number  (days)          (days)          (days) \r\n",
      "0\t1.942086\t0.000264\t0.000264\r\n",
      "1\t7.296529\t0.000264\t0.000264\r\n",
      "2\t12.654044\t0.000264\t0.000264\r\n",
      "3\t18.010832\t0.000264\t0.000264\r\n",
      "4\t23.366389\t0.000264\t0.000264\r\n",
      "5\t28.721868\t0.000264\t0.000264\r\n"
     ]
    }
   ],
   "source": [
    "! head -8  ./inputs/planetb_ttvs.dat"
   ]
  },
  {
   "cell_type": "markdown",
   "metadata": {},
   "source": [
    "**Note:** the transit epochs must always start from 0 at least for one planet. It means that epochs must be labeled from 0 (first transit) at a reference epoch."
   ]
  },
  {
   "cell_type": "markdown",
   "metadata": {},
   "source": [
    "Thus, for ease we will use the second way. Hence, we load the transit data as follows:"
   ]
  },
  {
   "cell_type": "code",
   "execution_count": 5,
   "metadata": {},
   "outputs": [],
   "source": [
    "# Note that the data are in the -inputs- subdirectory\n",
    "Planetb.load_ttvs(\"./inputs/planetb_ttvs.dat\") "
   ]
  },
  {
   "cell_type": "markdown",
   "metadata": {},
   "source": [
    "To ensure that the data are loaded, let's see it through:"
   ]
  },
  {
   "cell_type": "code",
   "execution_count": 6,
   "metadata": {},
   "outputs": [
    {
     "data": {
      "text/plain": [
       "{0: [1.942086, 0.000264, 0.000264],\n",
       " 1: [7.296529, 0.000264, 0.000264],\n",
       " 2: [12.654044, 0.000264, 0.000264],\n",
       " 3: [18.010832, 0.000264, 0.000264],\n",
       " 4: [23.366389, 0.000264, 0.000264],\n",
       " 5: [28.721868, 0.000264, 0.000264],\n",
       " 6: [34.076444, 0.000264, 0.000264],\n",
       " 7: [39.431166, 0.000264, 0.000264],\n",
       " 8: [44.785746, 0.000264, 0.000264],\n",
       " 9: [50.139754, 0.000264, 0.000264],\n",
       " 10: [55.494422, 0.000264, 0.000264],\n",
       " 11: [60.85012, 0.000264, 0.000264],\n",
       " 12: [66.205291, 0.000264, 0.000264],\n",
       " 13: [71.562914, 0.000264, 0.000264],\n",
       " 14: [76.919358, 0.000264, 0.000264],\n",
       " 15: [82.274283, 0.000264, 0.000264],\n",
       " 16: [87.629856, 0.000264, 0.000264],\n",
       " 17: [92.984414, 0.000264, 0.000264],\n",
       " 18: [98.338861, 0.000264, 0.000264],\n",
       " 19: [103.693764, 0.000264, 0.000264],\n",
       " 20: [109.048144, 0.000264, 0.000264],\n",
       " 21: [114.40272, 0.000264, 0.000264],\n",
       " 22: [119.759243, 0.000264, 0.000264],\n",
       " 23: [125.114832, 0.000264, 0.000264],\n",
       " 24: [130.471868, 0.000264, 0.000264],\n",
       " 25: [135.827753, 0.000264, 0.000264],\n",
       " 26: [141.183208, 0.000264, 0.000264],\n",
       " 27: [146.538369, 0.000264, 0.000264],\n",
       " 28: [151.893024, 0.000264, 0.000264],\n",
       " 29: [157.247994, 0.000264, 0.000264],\n",
       " 30: [162.602731, 0.000264, 0.000264],\n",
       " 31: [167.956793, 0.000264, 0.000264],\n",
       " 32: [173.311693, 0.000264, 0.000264],\n",
       " 33: [178.668785, 0.000264, 0.000264],\n",
       " 34: [184.024998, 0.000264, 0.000264],\n",
       " 35: [189.381495, 0.000264, 0.000264],\n",
       " 36: [194.737092, 0.000264, 0.000264],\n",
       " 37: [200.091785, 0.000264, 0.000264],\n",
       " 38: [205.446241, 0.000264, 0.000264],\n",
       " 39: [210.801659, 0.000264, 0.000264],\n",
       " 40: [216.155527, 0.000264, 0.000264]}"
      ]
     },
     "execution_count": 6,
     "metadata": {},
     "output_type": "execute_result"
    }
   ],
   "source": [
    "Planetb.ttvs_data"
   ]
  },
  {
   "cell_type": "markdown",
   "metadata": {},
   "source": [
    "Fine! at this point we have a Planet with transit data. Now, we will see how to say to Nauyaca where to look in the parameter space of our planet..."
   ]
  },
  {
   "cell_type": "markdown",
   "metadata": {},
   "source": [
    "### 2.1.2 Setting the parameter space"
   ]
  },
  {
   "cell_type": "markdown",
   "metadata": {},
   "source": [
    "For a planet, we have 7 parameters (and the required units) that Nauyaca will explore:\n",
    "\n",
    "* Mass    -----  [M_Earth]\n",
    "* Period  ----- [days]\n",
    "* Eccentricity\n",
    "* Inclination  ----- [deg]\n",
    "* Argument of periastron  ----- [deg]\n",
    "* Mean anomaly  ----- [deg]\n",
    "* Ascending node  ----- [deg]\n",
    "\n",
    "\n",
    "Now, in order to avoid exploring in a non-physical region of the parameter space or with redundant information, it is necessary to establish especific boundaries for each planetary parameter. These boundaries will be used in the subsequent analysis. "
   ]
  },
  {
   "cell_type": "markdown",
   "metadata": {},
   "source": [
    "**Default boundaries:** In many cases nothing is known about one or more parameters. In that case a set of $default$ boundaries will be established. Let's see which are these default boundaries by calling the physical limits established inside the module -constants- in Nauyaca:"
   ]
  },
  {
   "cell_type": "code",
   "execution_count": 7,
   "metadata": {},
   "outputs": [
    {
     "data": {
      "text/plain": [
       "{'mass': (0.0123032, 25426.27252757),\n",
       " 'period': (0.1, 1000.0),\n",
       " 'ecc': (1e-06, 0.9),\n",
       " 'inclination': (0.0, 180.0),\n",
       " 'argument': (0.0, 360),\n",
       " 'mean_anomaly': (0.0, 360),\n",
       " 'ascending_node': (0.0, 360.0)}"
      ]
     },
     "execution_count": 7,
     "metadata": {},
     "output_type": "execute_result"
    }
   ],
   "source": [
    "nau.constants.physical_bounds"
   ]
  },
  {
   "cell_type": "markdown",
   "metadata": {},
   "source": [
    "By default the mass is ranged from a lunar mass up to 80 Jupiter masses (units above are in Earth masses). Angles are restricted bewteen 0° and 360° except for the inclination which is defined between 0° and 180°. These default boundaries arise if nothing is known about the planet. In practice we can restrict the parameter space from previous knowledge coming, for example, from light curve analysis. \n",
    "\n",
    "To restrict any planetary parameter, we should give a range [minimum, maximum]. Those parameters that we do not restrict manually will have the default limits mentioned above.\n",
    "\n",
    "For our example, let's suppose that we know a rough estimation of the period and the inclination. It is true because we can approximate the period from consecutive transit times, and also we know that the planet transits, so the inclination should be around ~90°! Let's also suppose that we want to explore the mass range from a Earth planet up to 50 Earth masses. Finally, let's the eccentricity to vary up to 0.2, because greater values would result in unstable orbits.\n",
    "\n",
    "Thus, to make these restrictions, we write:"
   ]
  },
  {
   "cell_type": "code",
   "execution_count": 8,
   "metadata": {},
   "outputs": [
    {
     "name": "stdout",
     "output_type": "stream",
     "text": [
      "\n",
      " =========== Planet Summary =========== \n",
      "--> Parameter -ecc- of planet -Planet-b- set to lower physical limit: 1e-06\n",
      "Planet : Planet-b\n",
      "  Boundaries:\n",
      "    mass: (1, 50.0)  [M_earth]\n",
      "    period: (5.35, 5.36)  [d]\n",
      "    ecc: (1e-06, 0.2)   \n",
      "    inclination: (90, 90)  [deg]\n",
      "    argument: (0.0, 360)  [deg]\n",
      "    mean_anomaly: (0.0, 360)  [deg]\n",
      "    ascending_node: (0.0, 360.0)  [deg]\n",
      "  TTVs: True\n"
     ]
    }
   ],
   "source": [
    "                                      #     LIMITS FOR:\n",
    "Planetb.mass = [1, 50.]               # Planet mass [Mearth]\n",
    "Planetb.period = [5.35, 5.36]         # Orbital period [days]\n",
    "Planetb.ecc = [0., 0.2]               # eccentricity. Look at the lower limit!\n",
    "Planetb.inclination = [90, 90]        # Assuming edge-on orbit [deg]\n",
    "\n",
    "print(Planetb)  # print a summary of our Planet object"
   ]
  },
  {
   "cell_type": "markdown",
   "metadata": {},
   "source": [
    "From here, we can notice of two things:\n",
    "\n",
    "**1.-** There is a dialog from Nauyaca (starting with -->) saying to us that the lower boundary of eccentricity have been set to 1e-06. Why is that? It is because we manually set the eccentricity lower limit to 0, but this value is lower than the *default* lower limit in eccentricity mentioned previously: 1e-06. Thus, Nauyaca prevents of giving boundaries manually outside the default physical boundaries, which by design, have been thought to consider almost any kind of planets and orbits. In this case, the lower limit in eccentricity is small but different from zero in order to avoid getting undefined argument of periastron.\n",
    "\n",
    "A similar thing would happens, for example, if we set a negative lower limit in masses (which have not physical sense). In this case, the negative limit will be changed to 0.0123032 [M_earth], which corresponds to a Lunar mass.\n",
    "\n",
    "\n",
    "**2.-** We did not establish boundaries for argument of periastron, mean anomaly or ascending node, and thus the default boundaries arise.\n"
   ]
  },
  {
   "cell_type": "markdown",
   "metadata": {},
   "source": [
    "\n",
    "**Constant parameters** \n",
    "\n",
    "To keep a planetary parameter constant, set the lower and upper boundaries as equal, just as the inclination for Planetb!\n",
    "\n",
    "By construction in the coordinate system, **the ascending node of at least one planet in the system must be fixed**.\n",
    "Let's keep fixed this angle to the correct ascending node of \"Planet-b\" (true values can be seen in the file /inputs/true_solution), by setting equal values in the lower and upper boundaries:"
   ]
  },
  {
   "cell_type": "code",
   "execution_count": 9,
   "metadata": {},
   "outputs": [],
   "source": [
    "Planetb.ascending_node = [88.36, 88.36]  # Ascending node [deg]"
   ]
  },
  {
   "cell_type": "markdown",
   "metadata": {},
   "source": [
    "By doing this, we say to Nauyaca that ascending node of \"Planet-b\" will not be part of the parameter space explored by the Optimizers or MCMC."
   ]
  },
  {
   "cell_type": "markdown",
   "metadata": {},
   "source": [
    "Great! that's all we need to define the parameter space of a planet. Let's do the same for the second planet.\n",
    "Let's create another planet object and do the same as before:"
   ]
  },
  {
   "cell_type": "code",
   "execution_count": 10,
   "metadata": {},
   "outputs": [
    {
     "name": "stdout",
     "output_type": "stream",
     "text": [
      "\n",
      " =========== Planet Summary =========== \n",
      "--> Parameter -ecc- of planet -Planet-c- set to lower physical limit: 1e-06\n",
      "Planet : Planet-c\n",
      "  Boundaries:\n",
      "    mass: (1, 50)  [M_earth]\n",
      "    period: (11.83, 11.84)  [d]\n",
      "    ecc: (1e-06, 0.2)   \n",
      "    inclination: (90, 90)  [deg]\n",
      "    argument: (0.0, 360)  [deg]\n",
      "    mean_anomaly: (0.0, 360)  [deg]\n",
      "    ascending_node: (70, 110.0)  [deg]\n",
      "  TTVs: True\n"
     ]
    }
   ],
   "source": [
    "# Planet-c\n",
    "Planetc = nau.SetPlanet(\"Planet-c\")\n",
    "\n",
    "# Load transit times\n",
    "Planetc.load_ttvs(\"./inputs/planetc_ttvs.dat\")\n",
    "\n",
    "# Set boundaries\n",
    "Planetc.mass = [1, 50]           # Let's exploree up to 50 Earth masses\n",
    "Planetc.period = [11.83, 11.84]  # Assuming the period is aroung 11.835 days \n",
    "Planetc.ecc = [0, .2]\n",
    "Planetc.inclination = [90, 90]  # Keep inclination as constant\n",
    "\n",
    "# Let's consider just prograde solutions, i.e, +/-90° around \n",
    "# ascending node of first planet\n",
    "Planetc.ascending_node=[70, 110.]  # Considering coplanar orbits\n",
    "\n",
    "\n",
    "print(Planetc)"
   ]
  },
  {
   "cell_type": "markdown",
   "metadata": {},
   "source": [
    "Now we have two independent Planet objects: Planetb and Planetc. Let's join them together in a Planetary System object."
   ]
  },
  {
   "cell_type": "markdown",
   "metadata": {},
   "source": [
    "## 2.2 The Planetary System object"
   ]
  },
  {
   "cell_type": "markdown",
   "metadata": {},
   "source": [
    "Once we have defined our planets, we can construct a Planetary System simply by defining a system name, and stellar mass and radius (in Msun and Rsun units)"
   ]
  },
  {
   "cell_type": "code",
   "execution_count": 11,
   "metadata": {},
   "outputs": [],
   "source": [
    "# Let's call our system: \"SystemX\"\n",
    "PS = nau.PlanetarySystem(\"SystemX\", mstar=0.9132, rstar=0.8632)"
   ]
  },
  {
   "cell_type": "markdown",
   "metadata": {},
   "source": [
    "Okay, but it is not a planetary systems if there are no planets! So, let's add the Planet objects created before by passing a list with the Planet objects inside.\n",
    "\n",
    "**Note:** The ordering is important!! It's more intuitive if you add them according to the proximity to the star"
   ]
  },
  {
   "cell_type": "code",
   "execution_count": 12,
   "metadata": {},
   "outputs": [
    {
     "name": "stdout",
     "output_type": "stream",
     "text": [
      "--> Parameter -ecc- of planet -Planet-b- set to lower physical limit: 1e-06\n",
      "--> Parameter -ecc- of planet -Planet-c- set to lower physical limit: 1e-06\n"
     ]
    }
   ],
   "source": [
    "# adding planets\n",
    "PS.add_planets([Planetb, Planetc]) "
   ]
  },
  {
   "cell_type": "markdown",
   "metadata": {},
   "source": [
    "Alright! Now we have a Planetary System that looks like:"
   ]
  },
  {
   "cell_type": "code",
   "execution_count": 13,
   "metadata": {},
   "outputs": [
    {
     "name": "stdout",
     "output_type": "stream",
     "text": [
      "\n",
      " =========== Planetary System Summary =========== \n",
      "--> Parameter -ecc- of planet -Planet-b- set to lower physical limit: 1e-06\n",
      "--> Parameter -ecc- of planet -Planet-c- set to lower physical limit: 1e-06\n",
      "\n",
      "System: SystemX\n",
      "Mstar: 0.9132 Msun |  Rstar: 0.8632 Rsun\n",
      "Number of planets: 2\n",
      "Planet information:\n",
      "------\n",
      "Planet1: Planet-b\n",
      "  Boundaries:\n",
      "    mass: (1, 50.0)  [M_earth]\n",
      "    period: (5.35, 5.36)  [d]\n",
      "    ecc: (1e-06, 0.2)   \n",
      "    inclination: (90, 90)  [deg]\n",
      "    argument: (0.0, 360)  [deg]\n",
      "    mean_anomaly: (0.0, 360)  [deg]\n",
      "    ascending_node: (88.36, 88.36)  [deg]\n",
      "  TTVs: True\n",
      "------\n",
      "Planet2: Planet-c\n",
      "  Boundaries:\n",
      "    mass: (1, 50)  [M_earth]\n",
      "    period: (11.83, 11.84)  [d]\n",
      "    ecc: (1e-06, 0.2)   \n",
      "    inclination: (90, 90)  [deg]\n",
      "    argument: (0.0, 360)  [deg]\n",
      "    mean_anomaly: (0.0, 360)  [deg]\n",
      "    ascending_node: (70, 110.0)  [deg]\n",
      "  TTVs: True\n",
      "\n",
      "Simulation attributes: \n",
      "Reference epoch of the solutions (t0): 1.0 [JD]\n",
      "Total time of TTVs data (ftime): 220.0 [days]\n",
      "Timestep of the simulations (dt): 0.17846226666666684 [days]\n"
     ]
    }
   ],
   "source": [
    "print(PS)  # print a summary of the Planetary System"
   ]
  },
  {
   "cell_type": "markdown",
   "metadata": {},
   "source": [
    "That's it! We have a Planetary System! \n",
    "\n",
    "Now, an extra feature: Nauyaca contains a built-in function to visualize the TTVs of our planets. Let's call the Plots module and pass the Planetary System and then plot the observed TTVs:"
   ]
  },
  {
   "cell_type": "code",
   "execution_count": 14,
   "metadata": {},
   "outputs": [
    {
     "name": "stdout",
     "output_type": "stream",
     "text": [
      "---> No solutions to plot\n"
     ]
    },
    {
     "data": {
      "image/png": "[encoded data removed]",
      "text/plain": [
       "<Figure size 720x720 with 2 Axes>"
      ]
     },
     "metadata": {},
     "output_type": "display_data"
    }
   ],
   "source": [
    "nauplot = nau.Plots(PS)  # Call the module by passing the Planetary System object\n",
    "\n",
    "# Plot TTVs!\n",
    "nauplot.TTVs(residuals=False); # Don't make space for residuals"
   ]
  },
  {
   "cell_type": "markdown",
   "metadata": {},
   "source": [
    "## 2.3 Preparing for simulations"
   ]
  },
  {
   "cell_type": "markdown",
   "metadata": {},
   "source": [
    "From the summary of our Planetary System, we see at the bottom part the simulation attributes that Nauyaca automatically calculates based on the provided information of the planets. These attributes are:\n",
    "\n",
    "* **t0:** It is the reference time at which all the osculating elements found by Nauyaca will be referenced. By default, this number is automatically calculated by rounding down the smallest transit time found in the planet ephemerids. \n",
    "\n",
    "* **ftime:** It defines the maximum time of the simulations. By default, it is calculated automatically by rounding up the greatest central time found in the planet ephemeris. If you define a lower value than the calculated by default, then, all the central transit times greater than this new  number will be discarted (for all the planets) and the fitting will be performed until this new final time is reached in the simulations.\n",
    "\n",
    "* **dt:** This is the timestep of the simulations. By default, it is calculated by dividing the period of the inner planet over 30, which represent the 3.33% of the orbital period of the inner planet. Note that a timestep lower than 5% of internal planet period is suggested to reach a good accuracy in the simulations (Deck et al., 2014)\n",
    "\n",
    "\n",
    "Let's see these attributes automatically calculated in our system:"
   ]
  },
  {
   "cell_type": "code",
   "execution_count": 15,
   "metadata": {},
   "outputs": [
    {
     "name": "stdout",
     "output_type": "stream",
     "text": [
      "t0: 1.0  [days]\n",
      "ftime: 220.0  [days]\n",
      "dt: 0.17846226666666684  [days]\n"
     ]
    }
   ],
   "source": [
    "print(f\"t0: {PS.t0}  [days]\")\n",
    "print(f\"ftime: {PS.ftime}  [days]\")\n",
    "print(f\"dt: {PS.dt}  [days]\")"
   ]
  },
  {
   "cell_type": "markdown",
   "metadata": {},
   "source": [
    "For the purposes of this tutorial, let's change these parameters and let's see again the updated attributes in the planetary system"
   ]
  },
  {
   "cell_type": "code",
   "execution_count": 16,
   "metadata": {},
   "outputs": [
    {
     "name": "stdout",
     "output_type": "stream",
     "text": [
      "t0: 0.0  [days]\n",
      "ftime: 221  [days]\n",
      "dt: 0.18  [days]\n"
     ]
    }
   ],
   "source": [
    "# Setting the simulation attributes\n",
    "PS.simulation(t0=0.0, ftime=221, dt=0.18)\n",
    "\n",
    "print(f\"t0: {PS.t0}  [days]\")\n",
    "print(f\"ftime: {PS.ftime}  [days]\")\n",
    "print(f\"dt: {PS.dt}  [days]\")"
   ]
  },
  {
   "cell_type": "markdown",
   "metadata": {},
   "source": [
    "Nice! It appears that it is all ready to begin the simulations. But before, a **very important** step..."
   ]
  },
  {
   "cell_type": "markdown",
   "metadata": {},
   "source": [
    "## 2.4 Saving the Planetary System"
   ]
  },
  {
   "cell_type": "markdown",
   "metadata": {},
   "source": [
    "Once we have our Planetary System, it is very important to save the object. It can help us to avoid writting all the code above to define Planets and the Planetary System again, each time we want to work with it. It is also a good form to make it portable if you want to run another simulation in another computer in another time.\n",
    "\n",
    "Nauyaca have currently two formats to save the Planetary System object:\n",
    "\n",
    "* **pickle:** \n",
    "\n",
    "$Advantages:$ Fast reconstruction of the Planetary object; small file size. \n",
    "\n",
    "$Disadvantages:$ machine-readable only; it is propense to fail if you try to read it with a different Nauyaca version; probably will be deprecated in upcoming versions.\n",
    "\n",
    "* **json:** \n",
    "\n",
    "$Advantages:$ Human readable format; no conflicts with Nauyaca versions. \n",
    "\n",
    "$Disadvantages:$ Larger file size than pickle format; could fail if trying to save non-serializable objects (difficult to occur in Nauyaca).\n",
    "\n",
    "\n",
    "Each one of them have advantages and disadvantages. Thus, we recommend saving in **both** formats with the aim of having a backup of the studied planetary system.\n",
    "\n",
    "\n",
    "We save our system in these formats by doing:"
   ]
  },
  {
   "cell_type": "code",
   "execution_count": 17,
   "metadata": {},
   "outputs": [
    {
     "name": "stdout",
     "output_type": "stream",
     "text": [
      "--> Pickle file ./SystemX.pkl saved\n"
     ]
    }
   ],
   "source": [
    "PS.save_pickle()  # Save in pickle format"
   ]
  },
  {
   "cell_type": "code",
   "execution_count": 18,
   "metadata": {},
   "outputs": [
    {
     "name": "stdout",
     "output_type": "stream",
     "text": [
      "--> JSON file ./SystemX.json saved\n"
     ]
    }
   ],
   "source": [
    "PS.save_json()   # Save in json format"
   ]
  },
  {
   "cell_type": "markdown",
   "metadata": {},
   "source": [
    "which by default, will be saved with the name of the Planetary System. These files are saved in the working directory."
   ]
  },
  {
   "cell_type": "markdown",
   "metadata": {},
   "source": [
    "#### In the next tutorial, we wil see how to use these files to rebuild the Planetary System defined here. See you there!"
   ]
  },
  {
   "cell_type": "markdown",
   "metadata": {},
   "source": [
    "________________________________________"
   ]
  }
 ],
 "metadata": {
  "anaconda-cloud": {},
  "kernelspec": {
   "display_name": "Python 3",
   "language": "python",
   "name": "python3"
  },
  "language_info": {
   "codemirror_mode": {
    "name": "ipython",
    "version": 3
   },
   "file_extension": ".py",
   "mimetype": "text/x-python",
   "name": "python",
   "nbconvert_exporter": "python",
   "pygments_lexer": "ipython3",
   "version": "3.7.3"
  }
 },
 "nbformat": 4,
 "nbformat_minor": 2
}
